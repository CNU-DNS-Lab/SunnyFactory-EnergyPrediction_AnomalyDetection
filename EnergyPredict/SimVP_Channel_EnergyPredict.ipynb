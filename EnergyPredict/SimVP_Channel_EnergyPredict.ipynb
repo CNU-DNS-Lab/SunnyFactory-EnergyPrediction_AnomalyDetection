{
 "cells": [
  {
   "cell_type": "code",
   "execution_count": 1,
   "id": "f5c09cea",
   "metadata": {},
   "outputs": [],
   "source": [
    "import os\n",
    "import time\n",
    "import random\n",
    "import pickle\n",
    "import warnings\n",
    "import numpy as np\n",
    "import matplotlib.pyplot as plt\n",
    "\n",
    "import torch\n",
    "from torch import nn\n",
    "from torch.utils.data import DataLoader\n",
    "\n",
    "from utils import *\n",
    "from proposal import SimVPTEST2"
   ]
  },
  {
   "cell_type": "code",
   "execution_count": 2,
   "id": "a791ec1c",
   "metadata": {},
   "outputs": [],
   "source": [
    "# ignore warning message\n",
    "warnings.filterwarnings('ignore')\n",
    "\n",
    "# fix seed\n",
    "os.environ['PYTHONHASHSEED'] = str(42)\n",
    "random.seed(42)\n",
    "np.random.seed(42)\n",
    "torch.manual_seed(42)\n",
    "torch.cuda.manual_seed(42)"
   ]
  },
  {
   "cell_type": "code",
   "execution_count": 3,
   "id": "7da427e9",
   "metadata": {},
   "outputs": [
    {
     "name": "stdout",
     "output_type": "stream",
     "text": [
      "GPU count: 2\n",
      "GPU 0: NVIDIA A100-SXM4-40GB\n",
      "_CudaDeviceProperties(name='NVIDIA A100-SXM4-40GB', major=8, minor=0, total_memory=40337MB, multi_processor_count=108)\n",
      "GPU 1: NVIDIA A100-SXM4-40GB\n",
      "_CudaDeviceProperties(name='NVIDIA A100-SXM4-40GB', major=8, minor=0, total_memory=40337MB, multi_processor_count=108)\n"
     ]
    }
   ],
   "source": [
    "if torch.cuda.is_available():\n",
    "    print(f'GPU count: {torch.cuda.device_count()}')\n",
    "    for i in range(torch.cuda.device_count()):\n",
    "        print(f'GPU {i}: {torch.cuda.get_device_name(i)}')\n",
    "        print(torch.cuda.get_device_properties(i))\n",
    "else:\n",
    "    print('No GPU')"
   ]
  },
  {
   "cell_type": "code",
   "execution_count": 4,
   "id": "9c79ee81",
   "metadata": {},
   "outputs": [],
   "source": [
    "# data : 2017~2021년 5월 31일까지의 전력 사용량 데이터\n",
    "# train : 2017~2019년 3년동안의 전력 사용량 데이터(3년)\n",
    "# val : 2020년 1년동안의 전력 사용량 데이터(1년)\n",
    "# test : 2021년 5월 31일 6개월 동안의 전력 사용량 데이터(6개월)\n",
    "elec = np.expand_dims(np.load('./dataset/2d_elec.npy'), axis=1)\n",
    "elec_x, elec_y, elec_val = make_sequential(elec)\n",
    "\n",
    "train_X = elec_x[:(365*24*3)]\n",
    "train_y = elec_y[:(365*24*3)]\n",
    "\n",
    "val_X = elec_x[(365*24*3):(365*24*4)]\n",
    "val_y = elec_y[(365*24*3):(365*24*4)]\n",
    "\n",
    "test_X = elec_x[(365*24*4):]\n",
    "test_y = elec_y[(365*24*4):]"
   ]
  },
  {
   "cell_type": "code",
   "execution_count": 5,
   "id": "c97b183f",
   "metadata": {},
   "outputs": [],
   "source": [
    "train_dataset = CustomDataset(train_X, train_y)\n",
    "train_loader = DataLoader(train_dataset, 64, pin_memory=True)\n",
    "\n",
    "val_dataset = CustomDataset(val_X, val_y)\n",
    "val_loader = DataLoader(val_dataset, 64, pin_memory=True)\n",
    "\n",
    "test_dataset = CustomDataset(test_X, test_y)\n",
    "test_loader = DataLoader(test_dataset, 64, pin_memory=True)"
   ]
  },
  {
   "cell_type": "code",
   "execution_count": 6,
   "id": "37859c2b",
   "metadata": {},
   "outputs": [
    {
     "name": "stdout",
     "output_type": "stream",
     "text": [
      "train_size: 26280\n",
      "(26280, 24, 1, 8, 20)\n",
      "(26280, 24, 1, 8, 20)\n",
      "val_size: 8760\n",
      "(8760, 24, 1, 8, 20)\n",
      "(8760, 24, 1, 8, 20)\n",
      "test_size: 3577\n",
      "(3577, 24, 1, 8, 20)\n",
      "(3577, 24, 1, 8, 20)\n"
     ]
    }
   ],
   "source": [
    "print(f'train_size: {len(train_dataset)}')\n",
    "print(train_dataset.X.shape)\n",
    "print(train_dataset.Y.shape)\n",
    "\n",
    "print(f'val_size: {len(val_dataset)}')\n",
    "print(val_dataset.X.shape)\n",
    "print(val_dataset.Y.shape)\n",
    "\n",
    "print(f'test_size: {len(test_dataset)}')\n",
    "print(test_dataset.X.shape)\n",
    "print(test_dataset.Y.shape)"
   ]
  },
  {
   "cell_type": "code",
   "execution_count": 8,
   "id": "5d7940a1",
   "metadata": {},
   "outputs": [],
   "source": [
    "X, _ = next(iter(train_loader))\n",
    "\n",
    "path = './save_model/SimVPChannel/'\n",
    "check_path(path)\n",
    "model = SimVPTEST2(X.shape[1:])"
   ]
  },
  {
   "cell_type": "code",
   "execution_count": 9,
   "id": "1cae2a81",
   "metadata": {},
   "outputs": [
    {
     "name": "stderr",
     "output_type": "stream",
     "text": [
      "100%|██████████| 411/411 [00:28<00:00, 14.35it/s]\n",
      "100%|██████████| 137/137 [00:02<00:00, 57.62it/s]\n"
     ]
    },
    {
     "name": "stdout",
     "output_type": "stream",
     "text": [
      "Epoch [1/100] 31.03s\n",
      "loss: 0.0055 | val_loss: 0.0047\n"
     ]
    },
    {
     "name": "stderr",
     "output_type": "stream",
     "text": [
      "100%|██████████| 411/411 [00:26<00:00, 15.49it/s]\n",
      "100%|██████████| 137/137 [00:02<00:00, 63.37it/s]\n"
     ]
    },
    {
     "name": "stdout",
     "output_type": "stream",
     "text": [
      "Epoch [2/100] 28.71s\n",
      "loss: 0.0042 | val_loss: 0.0049\n"
     ]
    },
    {
     "name": "stderr",
     "output_type": "stream",
     "text": [
      "100%|██████████| 411/411 [00:25<00:00, 15.81it/s]\n",
      "100%|██████████| 137/137 [00:02<00:00, 63.91it/s]\n"
     ]
    },
    {
     "name": "stdout",
     "output_type": "stream",
     "text": [
      "Epoch [3/100] 28.15s\n",
      "loss: 0.0036 | val_loss: 0.0049\n"
     ]
    },
    {
     "name": "stderr",
     "output_type": "stream",
     "text": [
      "100%|██████████| 411/411 [00:25<00:00, 15.94it/s]\n",
      "100%|██████████| 137/137 [00:02<00:00, 62.57it/s]\n"
     ]
    },
    {
     "name": "stdout",
     "output_type": "stream",
     "text": [
      "Epoch [4/100] 27.98s\n",
      "loss: 0.0033 | val_loss: 0.0043\n"
     ]
    },
    {
     "name": "stderr",
     "output_type": "stream",
     "text": [
      "100%|██████████| 411/411 [00:26<00:00, 15.66it/s]\n",
      "100%|██████████| 137/137 [00:02<00:00, 67.19it/s]\n"
     ]
    },
    {
     "name": "stdout",
     "output_type": "stream",
     "text": [
      "Epoch [5/100] 28.29s\n",
      "loss: 0.0032 | val_loss: 0.0044\n"
     ]
    },
    {
     "name": "stderr",
     "output_type": "stream",
     "text": [
      "100%|██████████| 411/411 [00:25<00:00, 15.95it/s]\n",
      "100%|██████████| 137/137 [00:02<00:00, 65.47it/s]\n"
     ]
    },
    {
     "name": "stdout",
     "output_type": "stream",
     "text": [
      "Epoch [6/100] 27.86s\n",
      "loss: 0.0032 | val_loss: 0.0042\n"
     ]
    },
    {
     "name": "stderr",
     "output_type": "stream",
     "text": [
      "100%|██████████| 411/411 [00:26<00:00, 15.62it/s]\n",
      "100%|██████████| 137/137 [00:02<00:00, 62.11it/s]\n"
     ]
    },
    {
     "name": "stdout",
     "output_type": "stream",
     "text": [
      "Epoch [7/100] 28.52s\n",
      "loss: 0.0031 | val_loss: 0.0040\n"
     ]
    },
    {
     "name": "stderr",
     "output_type": "stream",
     "text": [
      "100%|██████████| 411/411 [00:26<00:00, 15.69it/s]\n",
      "100%|██████████| 137/137 [00:02<00:00, 63.91it/s]\n"
     ]
    },
    {
     "name": "stdout",
     "output_type": "stream",
     "text": [
      "Epoch [8/100] 28.35s\n",
      "loss: 0.0030 | val_loss: 0.0039\n"
     ]
    },
    {
     "name": "stderr",
     "output_type": "stream",
     "text": [
      "100%|██████████| 411/411 [00:25<00:00, 15.81it/s]\n",
      "100%|██████████| 137/137 [00:02<00:00, 62.12it/s]\n"
     ]
    },
    {
     "name": "stdout",
     "output_type": "stream",
     "text": [
      "Epoch [9/100] 28.21s\n",
      "loss: 0.0030 | val_loss: 0.0039\n"
     ]
    },
    {
     "name": "stderr",
     "output_type": "stream",
     "text": [
      "100%|██████████| 411/411 [00:26<00:00, 15.60it/s]\n",
      "100%|██████████| 137/137 [00:02<00:00, 62.29it/s]\n"
     ]
    },
    {
     "name": "stdout",
     "output_type": "stream",
     "text": [
      "Epoch [10/100] 28.55s\n",
      "loss: 0.0030 | val_loss: 0.0039\n"
     ]
    },
    {
     "name": "stderr",
     "output_type": "stream",
     "text": [
      "100%|██████████| 411/411 [00:25<00:00, 16.16it/s]\n",
      "100%|██████████| 137/137 [00:02<00:00, 60.57it/s]\n"
     ]
    },
    {
     "name": "stdout",
     "output_type": "stream",
     "text": [
      "Epoch [11/100] 27.70s\n",
      "loss: 0.0029 | val_loss: 0.0040\n"
     ]
    },
    {
     "name": "stderr",
     "output_type": "stream",
     "text": [
      "100%|██████████| 411/411 [00:25<00:00, 15.92it/s]\n",
      "100%|██████████| 137/137 [00:02<00:00, 58.84it/s]\n"
     ]
    },
    {
     "name": "stdout",
     "output_type": "stream",
     "text": [
      "Epoch [12/100] 28.16s\n",
      "loss: 0.0029 | val_loss: 0.0039\n"
     ]
    },
    {
     "name": "stderr",
     "output_type": "stream",
     "text": [
      "100%|██████████| 411/411 [00:26<00:00, 15.61it/s]\n",
      "100%|██████████| 137/137 [00:02<00:00, 59.17it/s]\n"
     ]
    },
    {
     "name": "stdout",
     "output_type": "stream",
     "text": [
      "Epoch [13/100] 28.66s\n",
      "loss: 0.0029 | val_loss: 0.0038\n"
     ]
    },
    {
     "name": "stderr",
     "output_type": "stream",
     "text": [
      "100%|██████████| 411/411 [00:25<00:00, 16.00it/s]\n",
      "100%|██████████| 137/137 [00:02<00:00, 61.77it/s]\n"
     ]
    },
    {
     "name": "stdout",
     "output_type": "stream",
     "text": [
      "Epoch [14/100] 27.91s\n",
      "loss: 0.0028 | val_loss: 0.0038\n"
     ]
    },
    {
     "name": "stderr",
     "output_type": "stream",
     "text": [
      "100%|██████████| 411/411 [00:25<00:00, 15.89it/s]\n",
      "100%|██████████| 137/137 [00:02<00:00, 58.79it/s]\n"
     ]
    },
    {
     "name": "stdout",
     "output_type": "stream",
     "text": [
      "Epoch [15/100] 28.20s\n",
      "loss: 0.0028 | val_loss: 0.0039\n"
     ]
    },
    {
     "name": "stderr",
     "output_type": "stream",
     "text": [
      "100%|██████████| 411/411 [00:26<00:00, 15.47it/s]\n",
      "100%|██████████| 137/137 [00:02<00:00, 58.82it/s]\n"
     ]
    },
    {
     "name": "stdout",
     "output_type": "stream",
     "text": [
      "Epoch [16/100] 28.91s\n",
      "loss: 0.0028 | val_loss: 0.0037\n"
     ]
    },
    {
     "name": "stderr",
     "output_type": "stream",
     "text": [
      "100%|██████████| 411/411 [00:26<00:00, 15.24it/s]\n",
      "100%|██████████| 137/137 [00:02<00:00, 59.63it/s]\n"
     ]
    },
    {
     "name": "stdout",
     "output_type": "stream",
     "text": [
      "Epoch [17/100] 29.28s\n",
      "loss: 0.0028 | val_loss: 0.0036\n"
     ]
    },
    {
     "name": "stderr",
     "output_type": "stream",
     "text": [
      "100%|██████████| 411/411 [00:26<00:00, 15.67it/s]\n",
      "100%|██████████| 137/137 [00:02<00:00, 61.37it/s]\n"
     ]
    },
    {
     "name": "stdout",
     "output_type": "stream",
     "text": [
      "Epoch [18/100] 28.48s\n",
      "loss: 0.0028 | val_loss: 0.0036\n"
     ]
    },
    {
     "name": "stderr",
     "output_type": "stream",
     "text": [
      "100%|██████████| 411/411 [00:25<00:00, 15.91it/s]\n",
      "100%|██████████| 137/137 [00:02<00:00, 59.14it/s]\n"
     ]
    },
    {
     "name": "stdout",
     "output_type": "stream",
     "text": [
      "Epoch [19/100] 28.16s\n",
      "loss: 0.0028 | val_loss: 0.0036\n"
     ]
    },
    {
     "name": "stderr",
     "output_type": "stream",
     "text": [
      "100%|██████████| 411/411 [00:26<00:00, 15.78it/s]\n",
      "100%|██████████| 137/137 [00:02<00:00, 60.18it/s]\n"
     ]
    },
    {
     "name": "stdout",
     "output_type": "stream",
     "text": [
      "Epoch [20/100] 28.34s\n",
      "loss: 0.0027 | val_loss: 0.0036\n"
     ]
    },
    {
     "name": "stderr",
     "output_type": "stream",
     "text": [
      "100%|██████████| 411/411 [00:25<00:00, 15.99it/s]\n",
      "100%|██████████| 137/137 [00:02<00:00, 60.93it/s]\n"
     ]
    },
    {
     "name": "stdout",
     "output_type": "stream",
     "text": [
      "Epoch [21/100] 27.96s\n",
      "loss: 0.0027 | val_loss: 0.0035\n"
     ]
    },
    {
     "name": "stderr",
     "output_type": "stream",
     "text": [
      "100%|██████████| 411/411 [00:25<00:00, 15.82it/s]\n",
      "100%|██████████| 137/137 [00:02<00:00, 61.52it/s]\n"
     ]
    },
    {
     "name": "stdout",
     "output_type": "stream",
     "text": [
      "Epoch [22/100] 28.22s\n",
      "loss: 0.0027 | val_loss: 0.0034\n"
     ]
    },
    {
     "name": "stderr",
     "output_type": "stream",
     "text": [
      "100%|██████████| 411/411 [00:26<00:00, 15.73it/s]\n",
      "100%|██████████| 137/137 [00:02<00:00, 61.20it/s]\n"
     ]
    },
    {
     "name": "stdout",
     "output_type": "stream",
     "text": [
      "Epoch [23/100] 28.37s\n",
      "loss: 0.0027 | val_loss: 0.0034\n"
     ]
    },
    {
     "name": "stderr",
     "output_type": "stream",
     "text": [
      "100%|██████████| 411/411 [00:25<00:00, 15.93it/s]\n",
      "100%|██████████| 137/137 [00:02<00:00, 60.88it/s]\n"
     ]
    },
    {
     "name": "stdout",
     "output_type": "stream",
     "text": [
      "Epoch [24/100] 28.05s\n",
      "loss: 0.0026 | val_loss: 0.0034\n"
     ]
    },
    {
     "name": "stderr",
     "output_type": "stream",
     "text": [
      "100%|██████████| 411/411 [00:26<00:00, 15.65it/s]\n",
      "100%|██████████| 137/137 [00:02<00:00, 59.94it/s]\n"
     ]
    },
    {
     "name": "stdout",
     "output_type": "stream",
     "text": [
      "Epoch [25/100] 28.56s\n",
      "loss: 0.0026 | val_loss: 0.0035\n"
     ]
    },
    {
     "name": "stderr",
     "output_type": "stream",
     "text": [
      "100%|██████████| 411/411 [00:26<00:00, 15.67it/s]\n",
      "100%|██████████| 137/137 [00:02<00:00, 61.24it/s]\n"
     ]
    },
    {
     "name": "stdout",
     "output_type": "stream",
     "text": [
      "Epoch [26/100] 28.47s\n",
      "loss: 0.0025 | val_loss: 0.0035\n"
     ]
    },
    {
     "name": "stderr",
     "output_type": "stream",
     "text": [
      "100%|██████████| 411/411 [00:25<00:00, 15.81it/s]\n",
      "100%|██████████| 137/137 [00:02<00:00, 59.71it/s]\n"
     ]
    },
    {
     "name": "stdout",
     "output_type": "stream",
     "text": [
      "Epoch [27/100] 28.30s\n",
      "loss: 0.0025 | val_loss: 0.0035\n"
     ]
    },
    {
     "name": "stderr",
     "output_type": "stream",
     "text": [
      "100%|██████████| 411/411 [00:26<00:00, 15.62it/s]\n",
      "100%|██████████| 137/137 [00:02<00:00, 61.71it/s]\n"
     ]
    },
    {
     "name": "stdout",
     "output_type": "stream",
     "text": [
      "Epoch [28/100] 28.54s\n",
      "loss: 0.0025 | val_loss: 0.0035\n"
     ]
    },
    {
     "name": "stderr",
     "output_type": "stream",
     "text": [
      "100%|██████████| 411/411 [00:26<00:00, 15.56it/s]\n",
      "100%|██████████| 137/137 [00:02<00:00, 59.04it/s]\n"
     ]
    },
    {
     "name": "stdout",
     "output_type": "stream",
     "text": [
      "Epoch [29/100] 28.75s\n",
      "loss: 0.0024 | val_loss: 0.0035\n"
     ]
    },
    {
     "name": "stderr",
     "output_type": "stream",
     "text": [
      "100%|██████████| 411/411 [00:26<00:00, 15.66it/s]\n",
      "100%|██████████| 137/137 [00:02<00:00, 60.58it/s]\n"
     ]
    },
    {
     "name": "stdout",
     "output_type": "stream",
     "text": [
      "Epoch [30/100] 28.52s\n",
      "loss: 0.0025 | val_loss: 0.0035\n"
     ]
    },
    {
     "name": "stderr",
     "output_type": "stream",
     "text": [
      "100%|██████████| 411/411 [00:26<00:00, 15.54it/s]\n",
      "100%|██████████| 137/137 [00:02<00:00, 60.01it/s]\n"
     ]
    },
    {
     "name": "stdout",
     "output_type": "stream",
     "text": [
      "Epoch [31/100] 28.75s\n",
      "loss: 0.0024 | val_loss: 0.0036\n"
     ]
    },
    {
     "name": "stderr",
     "output_type": "stream",
     "text": [
      "100%|██████████| 411/411 [00:25<00:00, 15.84it/s]\n",
      "100%|██████████| 137/137 [00:02<00:00, 59.93it/s]\n"
     ]
    },
    {
     "name": "stdout",
     "output_type": "stream",
     "text": [
      "Epoch [32/100] 28.24s\n",
      "loss: 0.0024 | val_loss: 0.0037\n"
     ]
    },
    {
     "name": "stderr",
     "output_type": "stream",
     "text": [
      "100%|██████████| 411/411 [00:26<00:00, 15.79it/s]\n",
      "100%|██████████| 137/137 [00:02<00:00, 59.73it/s]\n"
     ]
    },
    {
     "name": "stdout",
     "output_type": "stream",
     "text": [
      "Epoch [33/100] 28.34s\n",
      "loss: 0.0023 | val_loss: 0.0037\n"
     ]
    },
    {
     "name": "stderr",
     "output_type": "stream",
     "text": [
      "100%|██████████| 411/411 [00:25<00:00, 15.90it/s]\n",
      "100%|██████████| 137/137 [00:02<00:00, 61.74it/s]\n"
     ]
    },
    {
     "name": "stdout",
     "output_type": "stream",
     "text": [
      "Epoch [34/100] 28.08s\n",
      "loss: 0.0023 | val_loss: 0.0037\n"
     ]
    },
    {
     "name": "stderr",
     "output_type": "stream",
     "text": [
      "100%|██████████| 411/411 [00:25<00:00, 16.03it/s]\n",
      "100%|██████████| 137/137 [00:02<00:00, 61.59it/s]\n"
     ]
    },
    {
     "name": "stdout",
     "output_type": "stream",
     "text": [
      "Epoch [35/100] 27.88s\n",
      "loss: 0.0023 | val_loss: 0.0037\n"
     ]
    },
    {
     "name": "stderr",
     "output_type": "stream",
     "text": [
      "100%|██████████| 411/411 [00:26<00:00, 15.57it/s]\n",
      "100%|██████████| 137/137 [00:02<00:00, 61.93it/s]\n"
     ]
    },
    {
     "name": "stdout",
     "output_type": "stream",
     "text": [
      "Epoch [36/100] 28.62s\n",
      "loss: 0.0022 | val_loss: 0.0038\n"
     ]
    },
    {
     "name": "stderr",
     "output_type": "stream",
     "text": [
      "100%|██████████| 411/411 [00:26<00:00, 15.59it/s]\n",
      "100%|██████████| 137/137 [00:02<00:00, 63.28it/s]\n"
     ]
    },
    {
     "name": "stdout",
     "output_type": "stream",
     "text": [
      "Epoch [37/100] 28.54s\n",
      "loss: 0.0022 | val_loss: 0.0038\n"
     ]
    },
    {
     "name": "stderr",
     "output_type": "stream",
     "text": [
      "100%|██████████| 411/411 [00:26<00:00, 15.69it/s]\n",
      "100%|██████████| 137/137 [00:02<00:00, 61.99it/s]\n"
     ]
    },
    {
     "name": "stdout",
     "output_type": "stream",
     "text": [
      "Epoch [38/100] 28.42s\n",
      "loss: 0.0022 | val_loss: 0.0038\n"
     ]
    },
    {
     "name": "stderr",
     "output_type": "stream",
     "text": [
      "100%|██████████| 411/411 [00:25<00:00, 15.91it/s]\n",
      "100%|██████████| 137/137 [00:02<00:00, 62.98it/s]\n"
     ]
    },
    {
     "name": "stdout",
     "output_type": "stream",
     "text": [
      "Epoch [39/100] 28.02s\n",
      "loss: 0.0021 | val_loss: 0.0039\n"
     ]
    },
    {
     "name": "stderr",
     "output_type": "stream",
     "text": [
      "100%|██████████| 411/411 [00:25<00:00, 16.07it/s]\n",
      "100%|██████████| 137/137 [00:02<00:00, 63.70it/s]\n"
     ]
    },
    {
     "name": "stdout",
     "output_type": "stream",
     "text": [
      "Epoch [40/100] 27.74s\n",
      "loss: 0.0021 | val_loss: 0.0039\n"
     ]
    },
    {
     "name": "stderr",
     "output_type": "stream",
     "text": [
      "100%|██████████| 411/411 [00:25<00:00, 15.97it/s]\n",
      "100%|██████████| 137/137 [00:02<00:00, 66.24it/s]\n"
     ]
    },
    {
     "name": "stdout",
     "output_type": "stream",
     "text": [
      "Epoch [41/100] 27.81s\n",
      "loss: 0.0021 | val_loss: 0.0038\n"
     ]
    },
    {
     "name": "stderr",
     "output_type": "stream",
     "text": [
      "100%|██████████| 411/411 [00:25<00:00, 15.86it/s]\n",
      "100%|██████████| 137/137 [00:02<00:00, 66.16it/s]\n"
     ]
    },
    {
     "name": "stdout",
     "output_type": "stream",
     "text": [
      "Epoch [42/100] 28.00s\n",
      "loss: 0.0020 | val_loss: 0.0039\n"
     ]
    },
    {
     "name": "stderr",
     "output_type": "stream",
     "text": [
      "100%|██████████| 411/411 [00:25<00:00, 15.93it/s]\n",
      "100%|██████████| 137/137 [00:02<00:00, 64.85it/s]\n"
     ]
    },
    {
     "name": "stdout",
     "output_type": "stream",
     "text": [
      "Epoch [43/100] 27.92s\n",
      "loss: 0.0020 | val_loss: 0.0037\n"
     ]
    },
    {
     "name": "stderr",
     "output_type": "stream",
     "text": [
      "100%|██████████| 411/411 [00:26<00:00, 15.72it/s]\n",
      "100%|██████████| 137/137 [00:02<00:00, 64.55it/s]\n"
     ]
    },
    {
     "name": "stdout",
     "output_type": "stream",
     "text": [
      "Epoch [44/100] 28.28s\n",
      "loss: 0.0020 | val_loss: 0.0038\n"
     ]
    },
    {
     "name": "stderr",
     "output_type": "stream",
     "text": [
      "100%|██████████| 411/411 [00:26<00:00, 15.50it/s]\n",
      "100%|██████████| 137/137 [00:02<00:00, 63.45it/s]\n"
     ]
    },
    {
     "name": "stdout",
     "output_type": "stream",
     "text": [
      "Epoch [45/100] 28.69s\n",
      "loss: 0.0020 | val_loss: 0.0039\n"
     ]
    },
    {
     "name": "stderr",
     "output_type": "stream",
     "text": [
      "100%|██████████| 411/411 [00:26<00:00, 15.70it/s]\n",
      "100%|██████████| 137/137 [00:02<00:00, 62.68it/s]\n"
     ]
    },
    {
     "name": "stdout",
     "output_type": "stream",
     "text": [
      "Epoch [46/100] 28.37s\n",
      "loss: 0.0020 | val_loss: 0.0034\n"
     ]
    },
    {
     "name": "stderr",
     "output_type": "stream",
     "text": [
      "100%|██████████| 411/411 [00:25<00:00, 15.88it/s]\n",
      "100%|██████████| 137/137 [00:02<00:00, 60.15it/s]\n"
     ]
    },
    {
     "name": "stdout",
     "output_type": "stream",
     "text": [
      "Epoch [47/100] 28.17s\n",
      "loss: 0.0019 | val_loss: 0.0033\n"
     ]
    },
    {
     "name": "stderr",
     "output_type": "stream",
     "text": [
      "100%|██████████| 411/411 [00:25<00:00, 16.26it/s]\n",
      "100%|██████████| 137/137 [00:02<00:00, 59.07it/s]\n"
     ]
    },
    {
     "name": "stdout",
     "output_type": "stream",
     "text": [
      "Epoch [48/100] 27.61s\n",
      "loss: 0.0020 | val_loss: 0.0032\n"
     ]
    },
    {
     "name": "stderr",
     "output_type": "stream",
     "text": [
      "100%|██████████| 411/411 [00:26<00:00, 15.80it/s]\n",
      "100%|██████████| 137/137 [00:02<00:00, 60.38it/s]\n"
     ]
    },
    {
     "name": "stdout",
     "output_type": "stream",
     "text": [
      "Epoch [49/100] 28.29s\n",
      "loss: 0.0020 | val_loss: 0.0030\n"
     ]
    },
    {
     "name": "stderr",
     "output_type": "stream",
     "text": [
      "100%|██████████| 411/411 [00:26<00:00, 15.75it/s]\n",
      "100%|██████████| 137/137 [00:02<00:00, 62.84it/s]\n"
     ]
    },
    {
     "name": "stdout",
     "output_type": "stream",
     "text": [
      "Epoch [50/100] 28.28s\n",
      "loss: 0.0019 | val_loss: 0.0029\n"
     ]
    },
    {
     "name": "stderr",
     "output_type": "stream",
     "text": [
      "100%|██████████| 411/411 [00:25<00:00, 15.81it/s]\n",
      "100%|██████████| 137/137 [00:02<00:00, 60.83it/s]\n"
     ]
    },
    {
     "name": "stdout",
     "output_type": "stream",
     "text": [
      "Epoch [51/100] 28.25s\n",
      "loss: 0.0018 | val_loss: 0.0027\n"
     ]
    },
    {
     "name": "stderr",
     "output_type": "stream",
     "text": [
      "100%|██████████| 411/411 [00:25<00:00, 15.99it/s]\n",
      "100%|██████████| 137/137 [00:02<00:00, 58.93it/s]\n"
     ]
    },
    {
     "name": "stdout",
     "output_type": "stream",
     "text": [
      "Epoch [52/100] 28.04s\n",
      "loss: 0.0018 | val_loss: 0.0026\n"
     ]
    },
    {
     "name": "stderr",
     "output_type": "stream",
     "text": [
      "100%|██████████| 411/411 [00:25<00:00, 15.92it/s]\n",
      "100%|██████████| 137/137 [00:02<00:00, 60.69it/s]\n"
     ]
    },
    {
     "name": "stdout",
     "output_type": "stream",
     "text": [
      "Epoch [53/100] 28.08s\n",
      "loss: 0.0017 | val_loss: 0.0026\n"
     ]
    },
    {
     "name": "stderr",
     "output_type": "stream",
     "text": [
      "100%|██████████| 411/411 [00:26<00:00, 15.72it/s]\n",
      "100%|██████████| 137/137 [00:02<00:00, 60.15it/s]\n"
     ]
    },
    {
     "name": "stdout",
     "output_type": "stream",
     "text": [
      "Epoch [54/100] 28.42s\n",
      "loss: 0.0016 | val_loss: 0.0027\n"
     ]
    },
    {
     "name": "stderr",
     "output_type": "stream",
     "text": [
      "100%|██████████| 411/411 [00:25<00:00, 15.85it/s]\n",
      "100%|██████████| 137/137 [00:02<00:00, 60.58it/s]\n"
     ]
    },
    {
     "name": "stdout",
     "output_type": "stream",
     "text": [
      "Epoch [55/100] 28.20s\n",
      "loss: 0.0016 | val_loss: 0.0025\n"
     ]
    },
    {
     "name": "stderr",
     "output_type": "stream",
     "text": [
      "100%|██████████| 411/411 [00:26<00:00, 15.54it/s]\n",
      "100%|██████████| 137/137 [00:02<00:00, 60.07it/s]\n"
     ]
    },
    {
     "name": "stdout",
     "output_type": "stream",
     "text": [
      "Epoch [56/100] 28.74s\n",
      "loss: 0.0016 | val_loss: 0.0026\n"
     ]
    },
    {
     "name": "stderr",
     "output_type": "stream",
     "text": [
      "100%|██████████| 411/411 [00:26<00:00, 15.69it/s]\n",
      "100%|██████████| 137/137 [00:02<00:00, 61.49it/s]\n"
     ]
    },
    {
     "name": "stdout",
     "output_type": "stream",
     "text": [
      "Epoch [57/100] 28.43s\n",
      "loss: 0.0016 | val_loss: 0.0025\n"
     ]
    },
    {
     "name": "stderr",
     "output_type": "stream",
     "text": [
      "100%|██████████| 411/411 [00:26<00:00, 15.79it/s]\n",
      "100%|██████████| 137/137 [00:02<00:00, 60.08it/s]\n"
     ]
    },
    {
     "name": "stdout",
     "output_type": "stream",
     "text": [
      "Epoch [58/100] 28.32s\n",
      "loss: 0.0015 | val_loss: 0.0024\n"
     ]
    },
    {
     "name": "stderr",
     "output_type": "stream",
     "text": [
      "100%|██████████| 411/411 [00:26<00:00, 15.73it/s]\n",
      "100%|██████████| 137/137 [00:02<00:00, 61.12it/s]\n"
     ]
    },
    {
     "name": "stdout",
     "output_type": "stream",
     "text": [
      "Epoch [59/100] 28.39s\n",
      "loss: 0.0015 | val_loss: 0.0025\n"
     ]
    },
    {
     "name": "stderr",
     "output_type": "stream",
     "text": [
      "100%|██████████| 411/411 [00:25<00:00, 15.89it/s]\n",
      "100%|██████████| 137/137 [00:02<00:00, 60.86it/s]\n"
     ]
    },
    {
     "name": "stdout",
     "output_type": "stream",
     "text": [
      "Epoch [60/100] 28.12s\n",
      "loss: 0.0015 | val_loss: 0.0026\n"
     ]
    },
    {
     "name": "stderr",
     "output_type": "stream",
     "text": [
      "100%|██████████| 411/411 [00:26<00:00, 15.69it/s]\n",
      "100%|██████████| 137/137 [00:02<00:00, 59.40it/s]\n"
     ]
    },
    {
     "name": "stdout",
     "output_type": "stream",
     "text": [
      "Epoch [61/100] 28.51s\n",
      "loss: 0.0015 | val_loss: 0.0025\n"
     ]
    },
    {
     "name": "stderr",
     "output_type": "stream",
     "text": [
      "100%|██████████| 411/411 [00:25<00:00, 15.88it/s]\n",
      "100%|██████████| 137/137 [00:02<00:00, 60.50it/s]\n"
     ]
    },
    {
     "name": "stdout",
     "output_type": "stream",
     "text": [
      "Epoch [62/100] 28.15s\n",
      "loss: 0.0015 | val_loss: 0.0025\n"
     ]
    },
    {
     "name": "stderr",
     "output_type": "stream",
     "text": [
      "100%|██████████| 411/411 [00:27<00:00, 14.95it/s]\n",
      "100%|██████████| 137/137 [00:02<00:00, 61.66it/s]\n"
     ]
    },
    {
     "name": "stdout",
     "output_type": "stream",
     "text": [
      "Epoch [63/100] 29.73s\n",
      "loss: 0.0015 | val_loss: 0.0025\n"
     ]
    },
    {
     "name": "stderr",
     "output_type": "stream",
     "text": [
      "100%|██████████| 411/411 [00:26<00:00, 15.71it/s]\n",
      "100%|██████████| 137/137 [00:02<00:00, 64.68it/s]\n"
     ]
    },
    {
     "name": "stdout",
     "output_type": "stream",
     "text": [
      "Epoch [64/100] 28.29s\n",
      "loss: 0.0014 | val_loss: 0.0024\n"
     ]
    },
    {
     "name": "stderr",
     "output_type": "stream",
     "text": [
      "100%|██████████| 411/411 [00:26<00:00, 15.74it/s]\n",
      "100%|██████████| 137/137 [00:02<00:00, 60.33it/s]\n"
     ]
    },
    {
     "name": "stdout",
     "output_type": "stream",
     "text": [
      "Epoch [65/100] 28.40s\n",
      "loss: 0.0014 | val_loss: 0.0025\n"
     ]
    },
    {
     "name": "stderr",
     "output_type": "stream",
     "text": [
      "100%|██████████| 411/411 [00:26<00:00, 15.65it/s]\n",
      "100%|██████████| 137/137 [00:02<00:00, 60.50it/s]\n"
     ]
    },
    {
     "name": "stdout",
     "output_type": "stream",
     "text": [
      "Epoch [66/100] 28.53s\n",
      "loss: 0.0015 | val_loss: 0.0025\n"
     ]
    },
    {
     "name": "stderr",
     "output_type": "stream",
     "text": [
      "100%|██████████| 411/411 [00:25<00:00, 16.01it/s]\n",
      "100%|██████████| 137/137 [00:02<00:00, 62.60it/s]\n"
     ]
    },
    {
     "name": "stdout",
     "output_type": "stream",
     "text": [
      "Epoch [67/100] 27.86s\n",
      "loss: 0.0015 | val_loss: 0.0024\n"
     ]
    },
    {
     "name": "stderr",
     "output_type": "stream",
     "text": [
      "100%|██████████| 411/411 [00:25<00:00, 15.84it/s]\n",
      "100%|██████████| 137/137 [00:02<00:00, 60.47it/s]\n"
     ]
    },
    {
     "name": "stdout",
     "output_type": "stream",
     "text": [
      "Epoch [68/100] 28.22s\n",
      "loss: 0.0015 | val_loss: 0.0022\n"
     ]
    },
    {
     "name": "stderr",
     "output_type": "stream",
     "text": [
      "100%|██████████| 411/411 [00:26<00:00, 15.75it/s]\n",
      "100%|██████████| 137/137 [00:02<00:00, 61.61it/s]\n"
     ]
    },
    {
     "name": "stdout",
     "output_type": "stream",
     "text": [
      "Epoch [69/100] 28.34s\n",
      "loss: 0.0014 | val_loss: 0.0022\n"
     ]
    },
    {
     "name": "stderr",
     "output_type": "stream",
     "text": [
      "100%|██████████| 411/411 [00:26<00:00, 15.70it/s]\n",
      "100%|██████████| 137/137 [00:02<00:00, 61.99it/s]\n"
     ]
    },
    {
     "name": "stdout",
     "output_type": "stream",
     "text": [
      "Epoch [70/100] 28.40s\n",
      "loss: 0.0014 | val_loss: 0.0022\n"
     ]
    },
    {
     "name": "stderr",
     "output_type": "stream",
     "text": [
      "100%|██████████| 411/411 [00:25<00:00, 15.91it/s]\n",
      "100%|██████████| 137/137 [00:02<00:00, 61.23it/s]\n"
     ]
    },
    {
     "name": "stdout",
     "output_type": "stream",
     "text": [
      "Epoch [71/100] 28.09s\n",
      "loss: 0.0014 | val_loss: 0.0022\n"
     ]
    },
    {
     "name": "stderr",
     "output_type": "stream",
     "text": [
      "100%|██████████| 411/411 [00:25<00:00, 15.88it/s]\n",
      "100%|██████████| 137/137 [00:02<00:00, 60.55it/s]\n"
     ]
    },
    {
     "name": "stdout",
     "output_type": "stream",
     "text": [
      "Epoch [72/100] 28.16s\n",
      "loss: 0.0013 | val_loss: 0.0021\n"
     ]
    },
    {
     "name": "stderr",
     "output_type": "stream",
     "text": [
      "100%|██████████| 411/411 [00:25<00:00, 15.84it/s]\n",
      "100%|██████████| 137/137 [00:02<00:00, 59.85it/s]\n"
     ]
    },
    {
     "name": "stdout",
     "output_type": "stream",
     "text": [
      "Epoch [73/100] 28.24s\n",
      "loss: 0.0013 | val_loss: 0.0021\n"
     ]
    },
    {
     "name": "stderr",
     "output_type": "stream",
     "text": [
      "100%|██████████| 411/411 [00:25<00:00, 15.94it/s]\n",
      "100%|██████████| 137/137 [00:02<00:00, 61.93it/s]\n"
     ]
    },
    {
     "name": "stdout",
     "output_type": "stream",
     "text": [
      "Epoch [74/100] 28.01s\n",
      "loss: 0.0013 | val_loss: 0.0020\n"
     ]
    },
    {
     "name": "stderr",
     "output_type": "stream",
     "text": [
      "100%|██████████| 411/411 [00:26<00:00, 15.79it/s]\n",
      "100%|██████████| 137/137 [00:02<00:00, 58.65it/s]\n"
     ]
    },
    {
     "name": "stdout",
     "output_type": "stream",
     "text": [
      "Epoch [75/100] 28.37s\n",
      "loss: 0.0013 | val_loss: 0.0021\n"
     ]
    },
    {
     "name": "stderr",
     "output_type": "stream",
     "text": [
      "100%|██████████| 411/411 [00:25<00:00, 15.92it/s]\n",
      "100%|██████████| 137/137 [00:02<00:00, 59.57it/s]\n"
     ]
    },
    {
     "name": "stdout",
     "output_type": "stream",
     "text": [
      "Epoch [76/100] 28.12s\n",
      "loss: 0.0012 | val_loss: 0.0019\n"
     ]
    },
    {
     "name": "stderr",
     "output_type": "stream",
     "text": [
      "100%|██████████| 411/411 [00:26<00:00, 15.61it/s]\n",
      "100%|██████████| 137/137 [00:02<00:00, 61.21it/s]\n"
     ]
    },
    {
     "name": "stdout",
     "output_type": "stream",
     "text": [
      "Epoch [77/100] 28.57s\n",
      "loss: 0.0012 | val_loss: 0.0019\n"
     ]
    },
    {
     "name": "stderr",
     "output_type": "stream",
     "text": [
      "100%|██████████| 411/411 [00:26<00:00, 15.77it/s]\n",
      "100%|██████████| 137/137 [00:02<00:00, 63.52it/s]\n"
     ]
    },
    {
     "name": "stdout",
     "output_type": "stream",
     "text": [
      "Epoch [78/100] 28.23s\n",
      "loss: 0.0011 | val_loss: 0.0019\n"
     ]
    },
    {
     "name": "stderr",
     "output_type": "stream",
     "text": [
      "100%|██████████| 411/411 [00:26<00:00, 15.58it/s]\n",
      "100%|██████████| 137/137 [00:02<00:00, 64.51it/s]\n"
     ]
    },
    {
     "name": "stdout",
     "output_type": "stream",
     "text": [
      "Epoch [79/100] 28.52s\n",
      "loss: 0.0011 | val_loss: 0.0020\n"
     ]
    },
    {
     "name": "stderr",
     "output_type": "stream",
     "text": [
      "100%|██████████| 411/411 [00:26<00:00, 15.67it/s]\n",
      "100%|██████████| 137/137 [00:02<00:00, 62.73it/s]\n"
     ]
    },
    {
     "name": "stdout",
     "output_type": "stream",
     "text": [
      "Epoch [80/100] 28.41s\n",
      "loss: 0.0010 | val_loss: 0.0021\n"
     ]
    },
    {
     "name": "stderr",
     "output_type": "stream",
     "text": [
      "100%|██████████| 411/411 [00:26<00:00, 15.49it/s]\n",
      "100%|██████████| 137/137 [00:02<00:00, 59.51it/s]\n"
     ]
    },
    {
     "name": "stdout",
     "output_type": "stream",
     "text": [
      "Epoch [81/100] 28.85s\n",
      "loss: 0.0010 | val_loss: 0.0021\n"
     ]
    },
    {
     "name": "stderr",
     "output_type": "stream",
     "text": [
      "100%|██████████| 411/411 [00:25<00:00, 15.88it/s]\n",
      "100%|██████████| 137/137 [00:02<00:00, 60.83it/s]\n"
     ]
    },
    {
     "name": "stdout",
     "output_type": "stream",
     "text": [
      "Epoch [82/100] 28.15s\n",
      "loss: 0.0010 | val_loss: 0.0024\n"
     ]
    },
    {
     "name": "stderr",
     "output_type": "stream",
     "text": [
      "100%|██████████| 411/411 [00:25<00:00, 16.08it/s]\n",
      "100%|██████████| 137/137 [00:02<00:00, 60.64it/s]\n"
     ]
    },
    {
     "name": "stdout",
     "output_type": "stream",
     "text": [
      "Epoch [83/100] 27.83s\n",
      "loss: 0.0010 | val_loss: 0.0023\n"
     ]
    },
    {
     "name": "stderr",
     "output_type": "stream",
     "text": [
      "100%|██████████| 411/411 [00:25<00:00, 16.10it/s]\n",
      "100%|██████████| 137/137 [00:02<00:00, 61.65it/s]\n"
     ]
    },
    {
     "name": "stdout",
     "output_type": "stream",
     "text": [
      "Epoch [84/100] 27.76s\n",
      "loss: 0.0010 | val_loss: 0.0024\n"
     ]
    },
    {
     "name": "stderr",
     "output_type": "stream",
     "text": [
      "100%|██████████| 411/411 [00:25<00:00, 15.99it/s]\n",
      "100%|██████████| 137/137 [00:02<00:00, 59.88it/s]\n"
     ]
    },
    {
     "name": "stdout",
     "output_type": "stream",
     "text": [
      "Epoch [85/100] 28.01s\n",
      "loss: 0.0010 | val_loss: 0.0024\n"
     ]
    },
    {
     "name": "stderr",
     "output_type": "stream",
     "text": [
      "100%|██████████| 411/411 [00:26<00:00, 15.75it/s]\n",
      "100%|██████████| 137/137 [00:02<00:00, 60.98it/s]\n"
     ]
    },
    {
     "name": "stdout",
     "output_type": "stream",
     "text": [
      "Epoch [86/100] 28.35s\n",
      "loss: 0.0009 | val_loss: 0.0025\n"
     ]
    },
    {
     "name": "stderr",
     "output_type": "stream",
     "text": [
      "100%|██████████| 411/411 [00:26<00:00, 15.61it/s]\n",
      "100%|██████████| 137/137 [00:02<00:00, 60.53it/s]\n"
     ]
    },
    {
     "name": "stdout",
     "output_type": "stream",
     "text": [
      "Epoch [87/100] 28.59s\n",
      "loss: 0.0009 | val_loss: 0.0025\n"
     ]
    },
    {
     "name": "stderr",
     "output_type": "stream",
     "text": [
      "100%|██████████| 411/411 [00:26<00:00, 15.80it/s]\n",
      "100%|██████████| 137/137 [00:02<00:00, 62.75it/s]\n"
     ]
    },
    {
     "name": "stdout",
     "output_type": "stream",
     "text": [
      "Epoch [88/100] 28.20s\n",
      "loss: 0.0009 | val_loss: 0.0027\n"
     ]
    },
    {
     "name": "stderr",
     "output_type": "stream",
     "text": [
      "100%|██████████| 411/411 [00:25<00:00, 16.39it/s]\n",
      "100%|██████████| 137/137 [00:02<00:00, 61.89it/s]\n"
     ]
    },
    {
     "name": "stdout",
     "output_type": "stream",
     "text": [
      "Epoch [89/100] 27.30s\n",
      "loss: 0.0009 | val_loss: 0.0028\n"
     ]
    },
    {
     "name": "stderr",
     "output_type": "stream",
     "text": [
      "100%|██████████| 411/411 [00:26<00:00, 15.78it/s]\n",
      "100%|██████████| 137/137 [00:02<00:00, 60.06it/s]\n"
     ]
    },
    {
     "name": "stdout",
     "output_type": "stream",
     "text": [
      "Epoch [90/100] 28.33s\n",
      "loss: 0.0009 | val_loss: 0.0028\n"
     ]
    },
    {
     "name": "stderr",
     "output_type": "stream",
     "text": [
      "100%|██████████| 411/411 [00:26<00:00, 15.61it/s]\n",
      "100%|██████████| 137/137 [00:02<00:00, 60.81it/s]\n"
     ]
    },
    {
     "name": "stdout",
     "output_type": "stream",
     "text": [
      "Epoch [91/100] 28.59s\n",
      "loss: 0.0009 | val_loss: 0.0029\n"
     ]
    },
    {
     "name": "stderr",
     "output_type": "stream",
     "text": [
      "100%|██████████| 411/411 [00:26<00:00, 15.73it/s]\n",
      "100%|██████████| 137/137 [00:02<00:00, 63.24it/s]\n"
     ]
    },
    {
     "name": "stdout",
     "output_type": "stream",
     "text": [
      "Epoch [92/100] 28.30s\n",
      "loss: 0.0008 | val_loss: 0.0030\n"
     ]
    },
    {
     "name": "stderr",
     "output_type": "stream",
     "text": [
      "100%|██████████| 411/411 [00:25<00:00, 15.88it/s]\n",
      "100%|██████████| 137/137 [00:02<00:00, 62.09it/s]\n"
     ]
    },
    {
     "name": "stdout",
     "output_type": "stream",
     "text": [
      "Epoch [93/100] 28.09s\n",
      "loss: 0.0008 | val_loss: 0.0031\n"
     ]
    },
    {
     "name": "stderr",
     "output_type": "stream",
     "text": [
      "100%|██████████| 411/411 [00:26<00:00, 15.72it/s]\n",
      "100%|██████████| 137/137 [00:02<00:00, 60.45it/s]\n"
     ]
    },
    {
     "name": "stdout",
     "output_type": "stream",
     "text": [
      "Epoch [94/100] 28.42s\n",
      "loss: 0.0008 | val_loss: 0.0031\n"
     ]
    },
    {
     "name": "stderr",
     "output_type": "stream",
     "text": [
      "100%|██████████| 411/411 [00:26<00:00, 15.47it/s]\n",
      "100%|██████████| 137/137 [00:02<00:00, 59.99it/s]\n"
     ]
    },
    {
     "name": "stdout",
     "output_type": "stream",
     "text": [
      "Epoch [95/100] 28.86s\n",
      "loss: 0.0008 | val_loss: 0.0032\n"
     ]
    },
    {
     "name": "stderr",
     "output_type": "stream",
     "text": [
      "100%|██████████| 411/411 [00:26<00:00, 15.72it/s]\n",
      "100%|██████████| 137/137 [00:02<00:00, 60.15it/s]\n"
     ]
    },
    {
     "name": "stdout",
     "output_type": "stream",
     "text": [
      "Epoch [96/100] 28.44s\n",
      "loss: 0.0008 | val_loss: 0.0032\n"
     ]
    },
    {
     "name": "stderr",
     "output_type": "stream",
     "text": [
      "100%|██████████| 411/411 [00:26<00:00, 15.68it/s]\n",
      "100%|██████████| 137/137 [00:02<00:00, 60.34it/s]\n"
     ]
    },
    {
     "name": "stdout",
     "output_type": "stream",
     "text": [
      "Epoch [97/100] 28.49s\n",
      "loss: 0.0008 | val_loss: 0.0032\n"
     ]
    },
    {
     "name": "stderr",
     "output_type": "stream",
     "text": [
      "100%|██████████| 411/411 [00:23<00:00, 17.49it/s]\n",
      "100%|██████████| 137/137 [00:01<00:00, 73.66it/s]\n"
     ]
    },
    {
     "name": "stdout",
     "output_type": "stream",
     "text": [
      "Epoch [98/100] 25.36s\n",
      "loss: 0.0007 | val_loss: 0.0032\n"
     ]
    },
    {
     "name": "stderr",
     "output_type": "stream",
     "text": [
      "100%|██████████| 411/411 [00:27<00:00, 14.92it/s]\n",
      "100%|██████████| 137/137 [00:01<00:00, 76.36it/s]\n"
     ]
    },
    {
     "name": "stdout",
     "output_type": "stream",
     "text": [
      "Epoch [99/100] 29.35s\n",
      "loss: 0.0007 | val_loss: 0.0031\n"
     ]
    },
    {
     "name": "stderr",
     "output_type": "stream",
     "text": [
      "100%|██████████| 411/411 [00:28<00:00, 14.57it/s]\n",
      "100%|██████████| 137/137 [00:01<00:00, 71.79it/s]"
     ]
    },
    {
     "name": "stdout",
     "output_type": "stream",
     "text": [
      "Epoch [100/100] 30.12s\n",
      "loss: 0.0007 | val_loss: 0.0033\n",
      "Train time: 2838.70s\n",
      "Best Epoch: 78, Best mse: 0.0019\n"
     ]
    },
    {
     "name": "stderr",
     "output_type": "stream",
     "text": [
      "\n"
     ]
    }
   ],
   "source": [
    "optimizer = torch.optim.AdamW(model.parameters(), lr=.001)\n",
    "criterion = nn.MSELoss()\n",
    "epochs = 100\n",
    "# gpu 1 사용\n",
    "device = torch.device('cuda:0' if torch.cuda.is_available() else 'cpu')\n",
    "\n",
    "train_loss, val_loss = train(model, optimizer, criterion, epochs, train_loader, val_loader, device, path=path+'best_SimVPChannel')"
   ]
  },
  {
   "cell_type": "code",
   "execution_count": 10,
   "id": "e3c06717",
   "metadata": {},
   "outputs": [],
   "source": [
    "with open(path + \"train_loss.pkl\",\"wb\") as f:\n",
    "    pickle.dump(train_loss, f)\n",
    "    \n",
    "with open(path + \"val_loss.pkl\",\"wb\") as f:\n",
    "    pickle.dump(val_loss, f)"
   ]
  },
  {
   "cell_type": "code",
   "execution_count": 11,
   "id": "5742effd",
   "metadata": {},
   "outputs": [
    {
     "data": {
      "image/png": "[encoded data removed]",
      "text/plain": [
       "<Figure size 640x480 with 1 Axes>"
      ]
     },
     "metadata": {},
     "output_type": "display_data"
    }
   ],
   "source": [
    "plt.title('SimVPChannel')\n",
    "plt.plot(train_loss, label='train')\n",
    "plt.plot(val_loss, label='val')\n",
    "plt.xlabel('epochs')\n",
    "plt.ylabel('losses(MSE)')\n",
    "plt.legend()\n",
    "plt.show()"
   ]
  }
 ],
 "metadata": {
  "kernelspec": {
   "display_name": "horovod0.25.0-tf2.11.0-torch2.0.0-py3.10-cuda11.8",
   "language": "python",
   "name": "horovod0.25.0-tf2.11.0-torch2.0.0-py3.10-cuda11.8"
  },
  "language_info": {
   "codemirror_mode": {
    "name": "ipython",
    "version": 3
   },
   "file_extension": ".py",
   "mimetype": "text/x-python",
   "name": "python",
   "nbconvert_exporter": "python",
   "pygments_lexer": "ipython3",
   "version": "3.10.12"
  }
 },
 "nbformat": 4,
 "nbformat_minor": 5
}
