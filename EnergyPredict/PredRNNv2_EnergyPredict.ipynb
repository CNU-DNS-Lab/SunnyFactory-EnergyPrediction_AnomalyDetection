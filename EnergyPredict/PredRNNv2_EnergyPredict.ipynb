{
 "cells": [
  {
   "cell_type": "code",
   "execution_count": 1,
   "id": "dad92864",
   "metadata": {},
   "outputs": [],
   "source": [
    "import os\n",
    "import time\n",
    "import random\n",
    "import pickle\n",
    "import warnings\n",
    "import numpy as np\n",
    "import matplotlib.pyplot as plt\n",
    "\n",
    "import torch\n",
    "from torch import nn\n",
    "from torch.utils.data import DataLoader\n",
    "\n",
    "from utils import *\n",
    "from models import PredRNNv2"
   ]
  },
  {
   "cell_type": "code",
   "execution_count": 2,
   "id": "e9b8a302",
   "metadata": {},
   "outputs": [],
   "source": [
    "# ignore warning message\n",
    "warnings.filterwarnings('ignore')\n",
    "\n",
    "# fix seed\n",
    "os.environ['PYTHONHASHSEED'] = str(42)\n",
    "random.seed(42)\n",
    "np.random.seed(42)\n",
    "torch.manual_seed(42)\n",
    "torch.cuda.manual_seed(42)"
   ]
  },
  {
   "cell_type": "code",
   "execution_count": 3,
   "id": "db0b4095",
   "metadata": {},
   "outputs": [
    {
     "name": "stdout",
     "output_type": "stream",
     "text": [
      "GPU count: 2\n",
      "GPU 0: NVIDIA A100-SXM4-40GB\n",
      "_CudaDeviceProperties(name='NVIDIA A100-SXM4-40GB', major=8, minor=0, total_memory=40337MB, multi_processor_count=108)\n",
      "GPU 1: NVIDIA A100-SXM4-40GB\n",
      "_CudaDeviceProperties(name='NVIDIA A100-SXM4-40GB', major=8, minor=0, total_memory=40337MB, multi_processor_count=108)\n"
     ]
    }
   ],
   "source": [
    "if torch.cuda.is_available():\n",
    "    print(f'GPU count: {torch.cuda.device_count()}')\n",
    "    for i in range(torch.cuda.device_count()):\n",
    "        print(f'GPU {i}: {torch.cuda.get_device_name(i)}')\n",
    "        print(torch.cuda.get_device_properties(i))\n",
    "else:\n",
    "    print('No GPU')"
   ]
  },
  {
   "cell_type": "code",
   "execution_count": 4,
   "id": "7d392dd5",
   "metadata": {},
   "outputs": [],
   "source": [
    "# data : 2017~2021년 5월 31일까지의 전력 사용량 데이터\n",
    "# train : 2017~2019년 3년동안의 전력 사용량 데이터(3년)\n",
    "# val : 2020년 1년동안의 전력 사용량 데이터(1년)\n",
    "# test : 2021년 5월 31일 6개월 동안의 전력 사용량 데이터(6개월)\n",
    "elec = np.expand_dims(np.load('./dataset/2d_elec.npy'), axis=1)\n",
    "elec_x, elec_y, elec_val = make_sequential(elec)\n",
    "\n",
    "train_X = elec_x[:(365*24*3)]\n",
    "train_y = elec_y[:(365*24*3)]\n",
    "\n",
    "val_X = elec_x[(365*24*3):(365*24*4)]\n",
    "val_y = elec_y[(365*24*3):(365*24*4)]\n",
    "\n",
    "test_X = elec_x[(365*24*4):]\n",
    "test_y = elec_y[(365*24*4):]"
   ]
  },
  {
   "cell_type": "code",
   "execution_count": 5,
   "id": "f2b20cb2",
   "metadata": {},
   "outputs": [],
   "source": [
    "train_dataset = CustomDataset(train_X, train_y)\n",
    "train_loader = DataLoader(train_dataset, 64, pin_memory=True)\n",
    "\n",
    "val_dataset = CustomDataset(val_X, val_y)\n",
    "val_loader = DataLoader(val_dataset, 64, pin_memory=True)\n",
    "\n",
    "test_dataset = CustomDataset(test_X, test_y)\n",
    "test_loader = DataLoader(test_dataset, 64, pin_memory=True)"
   ]
  },
  {
   "cell_type": "code",
   "execution_count": 6,
   "id": "72d6d6db",
   "metadata": {},
   "outputs": [
    {
     "name": "stdout",
     "output_type": "stream",
     "text": [
      "train_size: 26280\n",
      "(26280, 24, 1, 8, 20)\n",
      "(26280, 24, 1, 8, 20)\n",
      "val_size: 8760\n",
      "(8760, 24, 1, 8, 20)\n",
      "(8760, 24, 1, 8, 20)\n",
      "test_size: 3577\n",
      "(3577, 24, 1, 8, 20)\n",
      "(3577, 24, 1, 8, 20)\n"
     ]
    }
   ],
   "source": [
    "print(f'train_size: {len(train_dataset)}')\n",
    "print(train_dataset.X.shape)\n",
    "print(train_dataset.Y.shape)\n",
    "\n",
    "print(f'val_size: {len(val_dataset)}')\n",
    "print(val_dataset.X.shape)\n",
    "print(val_dataset.Y.shape)\n",
    "\n",
    "print(f'test_size: {len(test_dataset)}')\n",
    "print(test_dataset.X.shape)\n",
    "print(test_dataset.Y.shape)"
   ]
  },
  {
   "cell_type": "code",
   "execution_count": 7,
   "id": "969717a0",
   "metadata": {},
   "outputs": [],
   "source": [
    "X, _ = next(iter(train_loader))\n",
    "\n",
    "path = './save_model/PredRNNv2/'\n",
    "check_path(path)\n",
    "model = PredRNNv2(num_layers=3, num_hidden=[128,128,128], shape=X.shape[1:], kernel_size=5, stride=1)"
   ]
  },
  {
   "cell_type": "code",
   "execution_count": null,
   "id": "a43fe7c9",
   "metadata": {
    "scrolled": true
   },
   "outputs": [
    {
     "name": "stderr",
     "output_type": "stream",
     "text": [
      "100%|██████████| 411/411 [03:51<00:00,  1.78it/s]\n",
      "100%|██████████| 137/137 [00:23<00:00,  5.78it/s]\n"
     ]
    },
    {
     "name": "stdout",
     "output_type": "stream",
     "text": [
      "Epoch [1/100] 255.25s\n",
      "loss: 0.0120 | val_loss: 0.0063\n"
     ]
    },
    {
     "name": "stderr",
     "output_type": "stream",
     "text": [
      "100%|██████████| 411/411 [03:49<00:00,  1.79it/s]\n",
      "100%|██████████| 137/137 [00:23<00:00,  5.77it/s]\n"
     ]
    },
    {
     "name": "stdout",
     "output_type": "stream",
     "text": [
      "Epoch [2/100] 253.14s\n",
      "loss: 0.0051 | val_loss: 0.0062\n"
     ]
    },
    {
     "name": "stderr",
     "output_type": "stream",
     "text": [
      "100%|██████████| 411/411 [03:49<00:00,  1.79it/s]\n",
      "100%|██████████| 137/137 [00:23<00:00,  5.78it/s]\n"
     ]
    },
    {
     "name": "stdout",
     "output_type": "stream",
     "text": [
      "Epoch [3/100] 253.15s\n",
      "loss: 0.0052 | val_loss: 0.0062\n"
     ]
    },
    {
     "name": "stderr",
     "output_type": "stream",
     "text": [
      "100%|██████████| 411/411 [03:49<00:00,  1.79it/s]\n",
      "100%|██████████| 137/137 [00:23<00:00,  5.78it/s]\n"
     ]
    },
    {
     "name": "stdout",
     "output_type": "stream",
     "text": [
      "Epoch [4/100] 252.90s\n",
      "loss: 0.0052 | val_loss: 0.0062\n"
     ]
    },
    {
     "name": "stderr",
     "output_type": "stream",
     "text": [
      "100%|██████████| 411/411 [03:49<00:00,  1.79it/s]\n",
      "100%|██████████| 137/137 [00:23<00:00,  5.77it/s]\n"
     ]
    },
    {
     "name": "stdout",
     "output_type": "stream",
     "text": [
      "Epoch [5/100] 252.88s\n",
      "loss: 0.0052 | val_loss: 0.0061\n"
     ]
    },
    {
     "name": "stderr",
     "output_type": "stream",
     "text": [
      "100%|██████████| 411/411 [03:49<00:00,  1.79it/s]\n",
      "100%|██████████| 137/137 [00:23<00:00,  5.75it/s]\n"
     ]
    },
    {
     "name": "stdout",
     "output_type": "stream",
     "text": [
      "Epoch [6/100] 253.39s\n",
      "loss: 0.0052 | val_loss: 0.0061\n"
     ]
    },
    {
     "name": "stderr",
     "output_type": "stream",
     "text": [
      "100%|██████████| 411/411 [03:48<00:00,  1.80it/s]\n",
      "100%|██████████| 137/137 [00:23<00:00,  5.75it/s]\n"
     ]
    },
    {
     "name": "stdout",
     "output_type": "stream",
     "text": [
      "Epoch [7/100] 252.73s\n",
      "loss: 0.0052 | val_loss: 0.0062\n"
     ]
    },
    {
     "name": "stderr",
     "output_type": "stream",
     "text": [
      "100%|██████████| 411/411 [03:49<00:00,  1.79it/s]\n",
      "100%|██████████| 137/137 [00:23<00:00,  5.74it/s]\n"
     ]
    },
    {
     "name": "stdout",
     "output_type": "stream",
     "text": [
      "Epoch [8/100] 253.28s\n",
      "loss: 0.0052 | val_loss: 0.0060\n"
     ]
    },
    {
     "name": "stderr",
     "output_type": "stream",
     "text": [
      "100%|██████████| 411/411 [03:49<00:00,  1.79it/s]\n",
      "100%|██████████| 137/137 [00:23<00:00,  5.73it/s]\n"
     ]
    },
    {
     "name": "stdout",
     "output_type": "stream",
     "text": [
      "Epoch [9/100] 253.09s\n",
      "loss: 0.0052 | val_loss: 0.0059\n"
     ]
    },
    {
     "name": "stderr",
     "output_type": "stream",
     "text": [
      "100%|██████████| 411/411 [03:49<00:00,  1.79it/s]\n",
      "100%|██████████| 137/137 [00:23<00:00,  5.76it/s]\n"
     ]
    },
    {
     "name": "stdout",
     "output_type": "stream",
     "text": [
      "Epoch [10/100] 253.28s\n",
      "loss: 0.0052 | val_loss: 0.0058\n"
     ]
    },
    {
     "name": "stderr",
     "output_type": "stream",
     "text": [
      "100%|██████████| 411/411 [03:49<00:00,  1.79it/s]\n",
      "100%|██████████| 137/137 [00:23<00:00,  5.75it/s]\n"
     ]
    },
    {
     "name": "stdout",
     "output_type": "stream",
     "text": [
      "Epoch [11/100] 252.98s\n",
      "loss: 0.0051 | val_loss: 0.0057\n"
     ]
    },
    {
     "name": "stderr",
     "output_type": "stream",
     "text": [
      "100%|██████████| 411/411 [03:48<00:00,  1.80it/s]\n",
      "100%|██████████| 137/137 [00:23<00:00,  5.74it/s]\n"
     ]
    },
    {
     "name": "stdout",
     "output_type": "stream",
     "text": [
      "Epoch [12/100] 252.68s\n",
      "loss: 0.0051 | val_loss: 0.0058\n"
     ]
    },
    {
     "name": "stderr",
     "output_type": "stream",
     "text": [
      "100%|██████████| 411/411 [03:49<00:00,  1.79it/s]\n",
      "100%|██████████| 137/137 [00:23<00:00,  5.72it/s]\n"
     ]
    },
    {
     "name": "stdout",
     "output_type": "stream",
     "text": [
      "Epoch [13/100] 253.10s\n",
      "loss: 0.0051 | val_loss: 0.0060\n"
     ]
    },
    {
     "name": "stderr",
     "output_type": "stream",
     "text": [
      "100%|██████████| 411/411 [03:48<00:00,  1.80it/s]\n",
      "100%|██████████| 137/137 [00:23<00:00,  5.77it/s]\n"
     ]
    },
    {
     "name": "stdout",
     "output_type": "stream",
     "text": [
      "Epoch [14/100] 252.70s\n",
      "loss: 0.0051 | val_loss: 0.0060\n"
     ]
    },
    {
     "name": "stderr",
     "output_type": "stream",
     "text": [
      "100%|██████████| 411/411 [03:49<00:00,  1.79it/s]\n",
      "100%|██████████| 137/137 [00:23<00:00,  5.73it/s]\n"
     ]
    },
    {
     "name": "stdout",
     "output_type": "stream",
     "text": [
      "Epoch [15/100] 253.06s\n",
      "loss: 0.0051 | val_loss: 0.0060\n"
     ]
    },
    {
     "name": "stderr",
     "output_type": "stream",
     "text": [
      "100%|██████████| 411/411 [03:48<00:00,  1.79it/s]\n",
      "100%|██████████| 137/137 [00:23<00:00,  5.75it/s]\n"
     ]
    },
    {
     "name": "stdout",
     "output_type": "stream",
     "text": [
      "Epoch [16/100] 252.85s\n",
      "loss: 0.0051 | val_loss: 0.0059\n"
     ]
    },
    {
     "name": "stderr",
     "output_type": "stream",
     "text": [
      "100%|██████████| 411/411 [03:49<00:00,  1.79it/s]\n",
      "100%|██████████| 137/137 [00:23<00:00,  5.76it/s]\n"
     ]
    },
    {
     "name": "stdout",
     "output_type": "stream",
     "text": [
      "Epoch [17/100] 252.79s\n",
      "loss: 0.0050 | val_loss: 0.0058\n"
     ]
    },
    {
     "name": "stderr",
     "output_type": "stream",
     "text": [
      "100%|██████████| 411/411 [03:49<00:00,  1.79it/s]\n",
      "100%|██████████| 137/137 [00:23<00:00,  5.77it/s]\n"
     ]
    },
    {
     "name": "stdout",
     "output_type": "stream",
     "text": [
      "Epoch [18/100] 252.91s\n",
      "loss: 0.0048 | val_loss: 0.0055\n"
     ]
    },
    {
     "name": "stderr",
     "output_type": "stream",
     "text": [
      "100%|██████████| 411/411 [03:48<00:00,  1.80it/s]\n",
      "100%|██████████| 137/137 [00:23<00:00,  5.75it/s]\n"
     ]
    },
    {
     "name": "stdout",
     "output_type": "stream",
     "text": [
      "Epoch [19/100] 252.77s\n",
      "loss: 0.0044 | val_loss: 0.0053\n"
     ]
    },
    {
     "name": "stderr",
     "output_type": "stream",
     "text": [
      "100%|██████████| 411/411 [03:49<00:00,  1.79it/s]\n",
      "100%|██████████| 137/137 [00:23<00:00,  5.76it/s]\n"
     ]
    },
    {
     "name": "stdout",
     "output_type": "stream",
     "text": [
      "Epoch [20/100] 252.83s\n",
      "loss: 0.0044 | val_loss: 0.0053\n"
     ]
    },
    {
     "name": "stderr",
     "output_type": "stream",
     "text": [
      "100%|██████████| 411/411 [03:49<00:00,  1.79it/s]\n",
      "100%|██████████| 137/137 [00:23<00:00,  5.74it/s]\n"
     ]
    },
    {
     "name": "stdout",
     "output_type": "stream",
     "text": [
      "Epoch [21/100] 252.96s\n",
      "loss: 0.0044 | val_loss: 0.0051\n"
     ]
    },
    {
     "name": "stderr",
     "output_type": "stream",
     "text": [
      "100%|██████████| 411/411 [03:49<00:00,  1.79it/s]\n",
      "100%|██████████| 137/137 [00:23<00:00,  5.72it/s]\n"
     ]
    },
    {
     "name": "stdout",
     "output_type": "stream",
     "text": [
      "Epoch [22/100] 253.05s\n",
      "loss: 0.0043 | val_loss: 0.0051\n"
     ]
    },
    {
     "name": "stderr",
     "output_type": "stream",
     "text": [
      "100%|██████████| 411/411 [03:49<00:00,  1.79it/s]\n",
      "100%|██████████| 137/137 [00:23<00:00,  5.73it/s]\n"
     ]
    },
    {
     "name": "stdout",
     "output_type": "stream",
     "text": [
      "Epoch [23/100] 253.43s\n",
      "loss: 0.0043 | val_loss: 0.0050\n"
     ]
    },
    {
     "name": "stderr",
     "output_type": "stream",
     "text": [
      "100%|██████████| 411/411 [03:48<00:00,  1.80it/s]\n",
      "100%|██████████| 137/137 [00:24<00:00,  5.69it/s]\n"
     ]
    },
    {
     "name": "stdout",
     "output_type": "stream",
     "text": [
      "Epoch [24/100] 253.00s\n",
      "loss: 0.0042 | val_loss: 0.0050\n"
     ]
    },
    {
     "name": "stderr",
     "output_type": "stream",
     "text": [
      "100%|██████████| 411/411 [03:48<00:00,  1.80it/s]\n",
      "100%|██████████| 137/137 [00:23<00:00,  5.72it/s]\n"
     ]
    },
    {
     "name": "stdout",
     "output_type": "stream",
     "text": [
      "Epoch [25/100] 252.93s\n",
      "loss: 0.0041 | val_loss: 0.0051\n"
     ]
    },
    {
     "name": "stderr",
     "output_type": "stream",
     "text": [
      "100%|██████████| 411/411 [03:49<00:00,  1.79it/s]\n",
      "100%|██████████| 137/137 [00:23<00:00,  5.76it/s]\n"
     ]
    },
    {
     "name": "stdout",
     "output_type": "stream",
     "text": [
      "Epoch [26/100] 252.80s\n",
      "loss: 0.0041 | val_loss: 0.0051\n"
     ]
    },
    {
     "name": "stderr",
     "output_type": "stream",
     "text": [
      "100%|██████████| 411/411 [03:49<00:00,  1.79it/s]\n",
      "100%|██████████| 137/137 [00:23<00:00,  5.75it/s]\n"
     ]
    },
    {
     "name": "stdout",
     "output_type": "stream",
     "text": [
      "Epoch [27/100] 252.84s\n",
      "loss: 0.0040 | val_loss: 0.0050\n"
     ]
    },
    {
     "name": "stderr",
     "output_type": "stream",
     "text": [
      "100%|██████████| 411/411 [03:49<00:00,  1.79it/s]\n",
      "100%|██████████| 137/137 [00:23<00:00,  5.76it/s]\n"
     ]
    },
    {
     "name": "stdout",
     "output_type": "stream",
     "text": [
      "Epoch [28/100] 252.99s\n",
      "loss: 0.0040 | val_loss: 0.0049\n"
     ]
    },
    {
     "name": "stderr",
     "output_type": "stream",
     "text": [
      "100%|██████████| 411/411 [03:48<00:00,  1.80it/s]\n",
      "100%|██████████| 137/137 [00:23<00:00,  5.78it/s]\n"
     ]
    },
    {
     "name": "stdout",
     "output_type": "stream",
     "text": [
      "Epoch [29/100] 252.60s\n",
      "loss: 0.0039 | val_loss: 0.0051\n"
     ]
    },
    {
     "name": "stderr",
     "output_type": "stream",
     "text": [
      "100%|██████████| 411/411 [03:48<00:00,  1.79it/s]\n",
      "100%|██████████| 137/137 [00:23<00:00,  5.76it/s]\n"
     ]
    },
    {
     "name": "stdout",
     "output_type": "stream",
     "text": [
      "Epoch [30/100] 252.75s\n",
      "loss: 0.0038 | val_loss: 0.0051\n"
     ]
    },
    {
     "name": "stderr",
     "output_type": "stream",
     "text": [
      "100%|██████████| 411/411 [03:48<00:00,  1.80it/s]\n",
      "100%|██████████| 137/137 [00:23<00:00,  5.74it/s]\n"
     ]
    },
    {
     "name": "stdout",
     "output_type": "stream",
     "text": [
      "Epoch [31/100] 252.83s\n",
      "loss: 0.0036 | val_loss: 0.0050\n"
     ]
    },
    {
     "name": "stderr",
     "output_type": "stream",
     "text": [
      "100%|██████████| 411/411 [03:48<00:00,  1.80it/s]\n",
      "100%|██████████| 137/137 [00:23<00:00,  5.75it/s]\n"
     ]
    },
    {
     "name": "stdout",
     "output_type": "stream",
     "text": [
      "Epoch [32/100] 252.70s\n",
      "loss: 0.0036 | val_loss: 0.0049\n"
     ]
    },
    {
     "name": "stderr",
     "output_type": "stream",
     "text": [
      "100%|██████████| 411/411 [03:49<00:00,  1.79it/s]\n",
      "100%|██████████| 137/137 [00:23<00:00,  5.76it/s]\n"
     ]
    },
    {
     "name": "stdout",
     "output_type": "stream",
     "text": [
      "Epoch [33/100] 252.92s\n",
      "loss: 0.0035 | val_loss: 0.0047\n"
     ]
    },
    {
     "name": "stderr",
     "output_type": "stream",
     "text": [
      "100%|██████████| 411/411 [03:49<00:00,  1.79it/s]\n",
      "100%|██████████| 137/137 [00:23<00:00,  5.76it/s]\n"
     ]
    },
    {
     "name": "stdout",
     "output_type": "stream",
     "text": [
      "Epoch [34/100] 252.87s\n",
      "loss: 0.0035 | val_loss: 0.0047\n"
     ]
    },
    {
     "name": "stderr",
     "output_type": "stream",
     "text": [
      "100%|██████████| 411/411 [03:48<00:00,  1.79it/s]\n",
      "100%|██████████| 137/137 [00:23<00:00,  5.75it/s]\n"
     ]
    },
    {
     "name": "stdout",
     "output_type": "stream",
     "text": [
      "Epoch [35/100] 252.82s\n",
      "loss: 0.0035 | val_loss: 0.0048\n"
     ]
    },
    {
     "name": "stderr",
     "output_type": "stream",
     "text": [
      "100%|██████████| 411/411 [03:49<00:00,  1.79it/s]\n",
      "100%|██████████| 137/137 [00:23<00:00,  5.76it/s]\n"
     ]
    },
    {
     "name": "stdout",
     "output_type": "stream",
     "text": [
      "Epoch [36/100] 252.82s\n",
      "loss: 0.0035 | val_loss: 0.0049\n"
     ]
    },
    {
     "name": "stderr",
     "output_type": "stream",
     "text": [
      "100%|██████████| 411/411 [03:48<00:00,  1.80it/s]\n",
      "100%|██████████| 137/137 [00:23<00:00,  5.75it/s]\n"
     ]
    },
    {
     "name": "stdout",
     "output_type": "stream",
     "text": [
      "Epoch [37/100] 252.74s\n",
      "loss: 0.0035 | val_loss: 0.0050\n"
     ]
    },
    {
     "name": "stderr",
     "output_type": "stream",
     "text": [
      "100%|██████████| 411/411 [03:48<00:00,  1.80it/s]\n",
      "100%|██████████| 137/137 [00:23<00:00,  5.74it/s]\n"
     ]
    },
    {
     "name": "stdout",
     "output_type": "stream",
     "text": [
      "Epoch [38/100] 252.68s\n",
      "loss: 0.0035 | val_loss: 0.0047\n"
     ]
    },
    {
     "name": "stderr",
     "output_type": "stream",
     "text": [
      "100%|██████████| 411/411 [03:49<00:00,  1.79it/s]\n",
      "100%|██████████| 137/137 [00:23<00:00,  5.75it/s]\n"
     ]
    },
    {
     "name": "stdout",
     "output_type": "stream",
     "text": [
      "Epoch [39/100] 252.92s\n",
      "loss: 0.0034 | val_loss: 0.0047\n"
     ]
    },
    {
     "name": "stderr",
     "output_type": "stream",
     "text": [
      "100%|██████████| 411/411 [03:49<00:00,  1.79it/s]\n",
      "100%|██████████| 137/137 [00:23<00:00,  5.75it/s]\n"
     ]
    },
    {
     "name": "stdout",
     "output_type": "stream",
     "text": [
      "Epoch [40/100] 252.83s\n",
      "loss: 0.0034 | val_loss: 0.0046\n"
     ]
    },
    {
     "name": "stderr",
     "output_type": "stream",
     "text": [
      "100%|██████████| 411/411 [03:49<00:00,  1.79it/s]\n",
      "100%|██████████| 137/137 [00:23<00:00,  5.72it/s]\n"
     ]
    },
    {
     "name": "stdout",
     "output_type": "stream",
     "text": [
      "Epoch [41/100] 253.10s\n",
      "loss: 0.0034 | val_loss: 0.0045\n"
     ]
    },
    {
     "name": "stderr",
     "output_type": "stream",
     "text": [
      "100%|██████████| 411/411 [03:48<00:00,  1.80it/s]\n",
      "100%|██████████| 137/137 [00:23<00:00,  5.78it/s]\n"
     ]
    },
    {
     "name": "stdout",
     "output_type": "stream",
     "text": [
      "Epoch [42/100] 252.64s\n",
      "loss: 0.0034 | val_loss: 0.0046\n"
     ]
    },
    {
     "name": "stderr",
     "output_type": "stream",
     "text": [
      "100%|██████████| 411/411 [03:48<00:00,  1.80it/s]\n",
      "100%|██████████| 137/137 [00:23<00:00,  5.78it/s]\n"
     ]
    },
    {
     "name": "stdout",
     "output_type": "stream",
     "text": [
      "Epoch [43/100] 252.66s\n",
      "loss: 0.0034 | val_loss: 0.0051\n"
     ]
    },
    {
     "name": "stderr",
     "output_type": "stream",
     "text": [
      "100%|██████████| 411/411 [03:48<00:00,  1.79it/s]\n",
      "100%|██████████| 137/137 [00:23<00:00,  5.76it/s]\n"
     ]
    },
    {
     "name": "stdout",
     "output_type": "stream",
     "text": [
      "Epoch [44/100] 252.79s\n",
      "loss: 0.0034 | val_loss: 0.0046\n"
     ]
    },
    {
     "name": "stderr",
     "output_type": "stream",
     "text": [
      "100%|██████████| 411/411 [03:49<00:00,  1.79it/s]\n",
      "100%|██████████| 137/137 [00:23<00:00,  5.75it/s]\n"
     ]
    },
    {
     "name": "stdout",
     "output_type": "stream",
     "text": [
      "Epoch [45/100] 252.86s\n",
      "loss: 0.0034 | val_loss: 0.0045\n"
     ]
    },
    {
     "name": "stderr",
     "output_type": "stream",
     "text": [
      "100%|██████████| 411/411 [03:49<00:00,  1.79it/s]\n",
      "100%|██████████| 137/137 [00:23<00:00,  5.75it/s]\n"
     ]
    },
    {
     "name": "stdout",
     "output_type": "stream",
     "text": [
      "Epoch [46/100] 253.00s\n",
      "loss: 0.0034 | val_loss: 0.0045\n"
     ]
    },
    {
     "name": "stderr",
     "output_type": "stream",
     "text": [
      "100%|██████████| 411/411 [03:49<00:00,  1.79it/s]\n",
      "100%|██████████| 137/137 [00:23<00:00,  5.71it/s]\n"
     ]
    },
    {
     "name": "stdout",
     "output_type": "stream",
     "text": [
      "Epoch [47/100] 253.07s\n",
      "loss: 0.0034 | val_loss: 0.0048\n"
     ]
    },
    {
     "name": "stderr",
     "output_type": "stream",
     "text": [
      "100%|██████████| 411/411 [03:49<00:00,  1.79it/s]\n",
      "100%|██████████| 137/137 [00:23<00:00,  5.75it/s]\n"
     ]
    },
    {
     "name": "stdout",
     "output_type": "stream",
     "text": [
      "Epoch [48/100] 252.84s\n",
      "loss: 0.0034 | val_loss: 0.0051\n"
     ]
    },
    {
     "name": "stderr",
     "output_type": "stream",
     "text": [
      "100%|██████████| 411/411 [03:49<00:00,  1.79it/s]\n",
      "100%|██████████| 137/137 [00:23<00:00,  5.75it/s]\n"
     ]
    },
    {
     "name": "stdout",
     "output_type": "stream",
     "text": [
      "Epoch [49/100] 252.97s\n",
      "loss: 0.0034 | val_loss: 0.0046\n"
     ]
    },
    {
     "name": "stderr",
     "output_type": "stream",
     "text": [
      "100%|██████████| 411/411 [03:49<00:00,  1.79it/s]\n",
      "100%|██████████| 137/137 [00:23<00:00,  5.75it/s]\n"
     ]
    },
    {
     "name": "stdout",
     "output_type": "stream",
     "text": [
      "Epoch [50/100] 252.90s\n",
      "loss: 0.0034 | val_loss: 0.0045\n"
     ]
    },
    {
     "name": "stderr",
     "output_type": "stream",
     "text": [
      "100%|██████████| 411/411 [03:49<00:00,  1.79it/s]\n",
      "100%|██████████| 137/137 [00:23<00:00,  5.76it/s]\n"
     ]
    },
    {
     "name": "stdout",
     "output_type": "stream",
     "text": [
      "Epoch [51/100] 252.83s\n",
      "loss: 0.0034 | val_loss: 0.0058\n"
     ]
    },
    {
     "name": "stderr",
     "output_type": "stream",
     "text": [
      "100%|██████████| 411/411 [03:49<00:00,  1.79it/s]\n",
      "100%|██████████| 137/137 [00:23<00:00,  5.75it/s]\n"
     ]
    },
    {
     "name": "stdout",
     "output_type": "stream",
     "text": [
      "Epoch [52/100] 252.96s\n",
      "loss: 0.0034 | val_loss: 0.0053\n"
     ]
    },
    {
     "name": "stderr",
     "output_type": "stream",
     "text": [
      "100%|██████████| 411/411 [03:48<00:00,  1.80it/s]\n",
      "100%|██████████| 137/137 [00:23<00:00,  5.81it/s]\n"
     ]
    },
    {
     "name": "stdout",
     "output_type": "stream",
     "text": [
      "Epoch [53/100] 252.39s\n",
      "loss: 0.0034 | val_loss: 0.0046\n"
     ]
    },
    {
     "name": "stderr",
     "output_type": "stream",
     "text": [
      "100%|██████████| 411/411 [03:48<00:00,  1.80it/s]\n",
      "100%|██████████| 137/137 [00:23<00:00,  5.81it/s]\n"
     ]
    },
    {
     "name": "stdout",
     "output_type": "stream",
     "text": [
      "Epoch [54/100] 252.28s\n",
      "loss: 0.0034 | val_loss: 0.0047\n"
     ]
    },
    {
     "name": "stderr",
     "output_type": "stream",
     "text": [
      "100%|██████████| 411/411 [03:48<00:00,  1.80it/s]\n",
      "100%|██████████| 137/137 [00:23<00:00,  5.82it/s]\n"
     ]
    },
    {
     "name": "stdout",
     "output_type": "stream",
     "text": [
      "Epoch [55/100] 252.23s\n",
      "loss: 0.0034 | val_loss: 0.0046\n"
     ]
    },
    {
     "name": "stderr",
     "output_type": "stream",
     "text": [
      "100%|██████████| 411/411 [03:48<00:00,  1.80it/s]\n",
      "100%|██████████| 137/137 [00:23<00:00,  5.81it/s]\n"
     ]
    },
    {
     "name": "stdout",
     "output_type": "stream",
     "text": [
      "Epoch [56/100] 252.32s\n",
      "loss: 0.0034 | val_loss: 0.0045\n"
     ]
    },
    {
     "name": "stderr",
     "output_type": "stream",
     "text": [
      "100%|██████████| 411/411 [03:48<00:00,  1.80it/s]\n",
      "100%|██████████| 137/137 [00:23<00:00,  5.82it/s]\n"
     ]
    },
    {
     "name": "stdout",
     "output_type": "stream",
     "text": [
      "Epoch [57/100] 252.36s\n",
      "loss: 0.0034 | val_loss: 0.0043\n"
     ]
    },
    {
     "name": "stderr",
     "output_type": "stream",
     "text": [
      "100%|██████████| 411/411 [03:48<00:00,  1.80it/s]\n",
      "100%|██████████| 137/137 [00:23<00:00,  5.83it/s]\n"
     ]
    },
    {
     "name": "stdout",
     "output_type": "stream",
     "text": [
      "Epoch [58/100] 252.18s\n",
      "loss: 0.0034 | val_loss: 0.0043\n"
     ]
    },
    {
     "name": "stderr",
     "output_type": "stream",
     "text": [
      "100%|██████████| 411/411 [03:49<00:00,  1.79it/s]\n",
      "100%|██████████| 137/137 [00:23<00:00,  5.80it/s]\n"
     ]
    },
    {
     "name": "stdout",
     "output_type": "stream",
     "text": [
      "Epoch [59/100] 253.13s\n",
      "loss: 0.0035 | val_loss: 0.0042\n"
     ]
    },
    {
     "name": "stderr",
     "output_type": "stream",
     "text": [
      "100%|██████████| 411/411 [03:49<00:00,  1.79it/s]\n",
      "100%|██████████| 137/137 [00:23<00:00,  5.78it/s]\n"
     ]
    },
    {
     "name": "stdout",
     "output_type": "stream",
     "text": [
      "Epoch [60/100] 253.18s\n",
      "loss: 0.0034 | val_loss: 0.0044\n"
     ]
    },
    {
     "name": "stderr",
     "output_type": "stream",
     "text": [
      "100%|██████████| 411/411 [03:49<00:00,  1.79it/s]\n",
      "100%|██████████| 137/137 [00:23<00:00,  5.78it/s]\n"
     ]
    },
    {
     "name": "stdout",
     "output_type": "stream",
     "text": [
      "Epoch [61/100] 252.98s\n",
      "loss: 0.0034 | val_loss: 0.0042\n"
     ]
    },
    {
     "name": "stderr",
     "output_type": "stream",
     "text": [
      "100%|██████████| 411/411 [03:49<00:00,  1.79it/s]\n",
      "100%|██████████| 137/137 [00:23<00:00,  5.81it/s]\n"
     ]
    },
    {
     "name": "stdout",
     "output_type": "stream",
     "text": [
      "Epoch [62/100] 252.97s\n",
      "loss: 0.0034 | val_loss: 0.0045\n"
     ]
    },
    {
     "name": "stderr",
     "output_type": "stream",
     "text": [
      "100%|██████████| 411/411 [03:49<00:00,  1.79it/s]\n",
      "100%|██████████| 137/137 [00:23<00:00,  5.82it/s]\n"
     ]
    },
    {
     "name": "stdout",
     "output_type": "stream",
     "text": [
      "Epoch [63/100] 252.70s\n",
      "loss: 0.0034 | val_loss: 0.0051\n"
     ]
    },
    {
     "name": "stderr",
     "output_type": "stream",
     "text": [
      "100%|██████████| 411/411 [03:49<00:00,  1.79it/s]\n",
      "100%|██████████| 137/137 [00:23<00:00,  5.78it/s]\n"
     ]
    },
    {
     "name": "stdout",
     "output_type": "stream",
     "text": [
      "Epoch [64/100] 253.07s\n",
      "loss: 0.0034 | val_loss: 0.0044\n"
     ]
    },
    {
     "name": "stderr",
     "output_type": "stream",
     "text": [
      "100%|██████████| 411/411 [03:49<00:00,  1.79it/s]\n",
      "100%|██████████| 137/137 [00:23<00:00,  5.76it/s]\n"
     ]
    },
    {
     "name": "stdout",
     "output_type": "stream",
     "text": [
      "Epoch [65/100] 253.11s\n",
      "loss: 0.0034 | val_loss: 0.0042\n"
     ]
    },
    {
     "name": "stderr",
     "output_type": "stream",
     "text": [
      "100%|██████████| 411/411 [03:49<00:00,  1.79it/s]\n",
      "100%|██████████| 137/137 [00:23<00:00,  5.82it/s]\n"
     ]
    },
    {
     "name": "stdout",
     "output_type": "stream",
     "text": [
      "Epoch [66/100] 252.83s\n",
      "loss: 0.0034 | val_loss: 0.0041\n"
     ]
    },
    {
     "name": "stderr",
     "output_type": "stream",
     "text": [
      "100%|██████████| 411/411 [03:49<00:00,  1.79it/s]\n",
      "100%|██████████| 137/137 [00:23<00:00,  5.79it/s]\n"
     ]
    },
    {
     "name": "stdout",
     "output_type": "stream",
     "text": [
      "Epoch [67/100] 252.95s\n",
      "loss: 0.0034 | val_loss: 0.0042\n"
     ]
    },
    {
     "name": "stderr",
     "output_type": "stream",
     "text": [
      "100%|██████████| 411/411 [03:49<00:00,  1.79it/s]\n",
      "100%|██████████| 137/137 [00:23<00:00,  5.78it/s]\n"
     ]
    },
    {
     "name": "stdout",
     "output_type": "stream",
     "text": [
      "Epoch [68/100] 252.97s\n",
      "loss: 0.0034 | val_loss: 0.0042\n"
     ]
    },
    {
     "name": "stderr",
     "output_type": "stream",
     "text": [
      "100%|██████████| 411/411 [03:49<00:00,  1.79it/s]\n",
      "100%|██████████| 137/137 [00:23<00:00,  5.78it/s]\n"
     ]
    },
    {
     "name": "stdout",
     "output_type": "stream",
     "text": [
      "Epoch [69/100] 253.10s\n",
      "loss: 0.0034 | val_loss: 0.0041\n"
     ]
    },
    {
     "name": "stderr",
     "output_type": "stream",
     "text": [
      "100%|██████████| 411/411 [03:49<00:00,  1.79it/s]\n",
      "100%|██████████| 137/137 [00:23<00:00,  5.77it/s]\n"
     ]
    },
    {
     "name": "stdout",
     "output_type": "stream",
     "text": [
      "Epoch [70/100] 252.75s\n",
      "loss: 0.0034 | val_loss: 0.0043\n"
     ]
    },
    {
     "name": "stderr",
     "output_type": "stream",
     "text": [
      "100%|██████████| 411/411 [03:49<00:00,  1.79it/s]\n",
      "100%|██████████| 137/137 [00:23<00:00,  5.80it/s]\n"
     ]
    },
    {
     "name": "stdout",
     "output_type": "stream",
     "text": [
      "Epoch [71/100] 252.87s\n",
      "loss: 0.0034 | val_loss: 0.0041\n"
     ]
    },
    {
     "name": "stderr",
     "output_type": "stream",
     "text": [
      "100%|██████████| 411/411 [03:49<00:00,  1.79it/s]\n",
      "100%|██████████| 137/137 [00:23<00:00,  5.81it/s]\n"
     ]
    },
    {
     "name": "stdout",
     "output_type": "stream",
     "text": [
      "Epoch [72/100] 252.89s\n",
      "loss: 0.0034 | val_loss: 0.0042\n"
     ]
    },
    {
     "name": "stderr",
     "output_type": "stream",
     "text": [
      "100%|██████████| 411/411 [03:49<00:00,  1.79it/s]\n",
      "100%|██████████| 137/137 [00:23<00:00,  5.82it/s]\n"
     ]
    },
    {
     "name": "stdout",
     "output_type": "stream",
     "text": [
      "Epoch [73/100] 252.64s\n",
      "loss: 0.0034 | val_loss: 0.0041\n"
     ]
    },
    {
     "name": "stderr",
     "output_type": "stream",
     "text": [
      "100%|██████████| 411/411 [03:49<00:00,  1.79it/s]\n",
      "100%|██████████| 137/137 [00:23<00:00,  5.77it/s]\n"
     ]
    },
    {
     "name": "stdout",
     "output_type": "stream",
     "text": [
      "Epoch [74/100] 253.03s\n",
      "loss: 0.0034 | val_loss: 0.0040\n"
     ]
    },
    {
     "name": "stderr",
     "output_type": "stream",
     "text": [
      "100%|██████████| 411/411 [03:49<00:00,  1.79it/s]\n",
      "100%|██████████| 137/137 [00:23<00:00,  5.75it/s]\n"
     ]
    },
    {
     "name": "stdout",
     "output_type": "stream",
     "text": [
      "Epoch [75/100] 253.21s\n",
      "loss: 0.0034 | val_loss: 0.0041\n"
     ]
    },
    {
     "name": "stderr",
     "output_type": "stream",
     "text": [
      "100%|██████████| 411/411 [03:49<00:00,  1.79it/s]\n",
      "100%|██████████| 137/137 [00:23<00:00,  5.77it/s]\n"
     ]
    },
    {
     "name": "stdout",
     "output_type": "stream",
     "text": [
      "Epoch [76/100] 253.17s\n",
      "loss: 0.0034 | val_loss: 0.0041\n"
     ]
    },
    {
     "name": "stderr",
     "output_type": "stream",
     "text": [
      "100%|██████████| 411/411 [03:49<00:00,  1.79it/s]\n",
      "100%|██████████| 137/137 [00:23<00:00,  5.82it/s]\n"
     ]
    },
    {
     "name": "stdout",
     "output_type": "stream",
     "text": [
      "Epoch [77/100] 252.97s\n",
      "loss: 0.0034 | val_loss: 0.0041\n"
     ]
    },
    {
     "name": "stderr",
     "output_type": "stream",
     "text": [
      "100%|██████████| 411/411 [03:49<00:00,  1.79it/s]\n",
      "100%|██████████| 137/137 [00:23<00:00,  5.75it/s]\n"
     ]
    },
    {
     "name": "stdout",
     "output_type": "stream",
     "text": [
      "Epoch [78/100] 253.20s\n",
      "loss: 0.0034 | val_loss: 0.0041\n"
     ]
    },
    {
     "name": "stderr",
     "output_type": "stream",
     "text": [
      "100%|██████████| 411/411 [03:49<00:00,  1.79it/s]\n",
      "100%|██████████| 137/137 [00:23<00:00,  5.81it/s]\n"
     ]
    },
    {
     "name": "stdout",
     "output_type": "stream",
     "text": [
      "Epoch [79/100] 253.36s\n",
      "loss: 0.0034 | val_loss: 0.0040\n"
     ]
    },
    {
     "name": "stderr",
     "output_type": "stream",
     "text": [
      "100%|██████████| 411/411 [03:49<00:00,  1.79it/s]\n",
      "100%|██████████| 137/137 [00:23<00:00,  5.81it/s]\n"
     ]
    },
    {
     "name": "stdout",
     "output_type": "stream",
     "text": [
      "Epoch [80/100] 252.77s\n",
      "loss: 0.0034 | val_loss: 0.0041\n"
     ]
    },
    {
     "name": "stderr",
     "output_type": "stream",
     "text": [
      "100%|██████████| 411/411 [03:49<00:00,  1.79it/s]\n",
      "100%|██████████| 137/137 [00:23<00:00,  5.79it/s]\n"
     ]
    },
    {
     "name": "stdout",
     "output_type": "stream",
     "text": [
      "Epoch [81/100] 252.83s\n",
      "loss: 0.0034 | val_loss: 0.0042\n"
     ]
    },
    {
     "name": "stderr",
     "output_type": "stream",
     "text": [
      "100%|██████████| 411/411 [03:49<00:00,  1.79it/s]\n",
      "100%|██████████| 137/137 [00:23<00:00,  5.78it/s]\n"
     ]
    },
    {
     "name": "stdout",
     "output_type": "stream",
     "text": [
      "Epoch [82/100] 252.86s\n",
      "loss: 0.0034 | val_loss: 0.0040\n"
     ]
    },
    {
     "name": "stderr",
     "output_type": "stream",
     "text": [
      "100%|██████████| 411/411 [03:49<00:00,  1.79it/s]\n",
      "100%|██████████| 137/137 [00:23<00:00,  5.82it/s]\n"
     ]
    },
    {
     "name": "stdout",
     "output_type": "stream",
     "text": [
      "Epoch [83/100] 252.79s\n",
      "loss: 0.0034 | val_loss: 0.0041\n"
     ]
    },
    {
     "name": "stderr",
     "output_type": "stream",
     "text": [
      "100%|██████████| 411/411 [03:49<00:00,  1.79it/s]\n",
      "100%|██████████| 137/137 [00:23<00:00,  5.82it/s]\n"
     ]
    },
    {
     "name": "stdout",
     "output_type": "stream",
     "text": [
      "Epoch [84/100] 252.91s\n",
      "loss: 0.0034 | val_loss: 0.0040\n"
     ]
    },
    {
     "name": "stderr",
     "output_type": "stream",
     "text": [
      "100%|██████████| 411/411 [03:49<00:00,  1.79it/s]\n",
      "100%|██████████| 137/137 [00:23<00:00,  5.81it/s]\n"
     ]
    },
    {
     "name": "stdout",
     "output_type": "stream",
     "text": [
      "Epoch [85/100] 253.04s\n",
      "loss: 0.0033 | val_loss: 0.0042\n"
     ]
    },
    {
     "name": "stderr",
     "output_type": "stream",
     "text": [
      "100%|██████████| 411/411 [03:49<00:00,  1.79it/s]\n",
      "100%|██████████| 137/137 [00:23<00:00,  5.75it/s]\n"
     ]
    },
    {
     "name": "stdout",
     "output_type": "stream",
     "text": [
      "Epoch [86/100] 253.23s\n",
      "loss: 0.0034 | val_loss: 0.0041\n"
     ]
    },
    {
     "name": "stderr",
     "output_type": "stream",
     "text": [
      "100%|██████████| 411/411 [03:49<00:00,  1.79it/s]\n",
      "100%|██████████| 137/137 [00:23<00:00,  5.80it/s]\n"
     ]
    },
    {
     "name": "stdout",
     "output_type": "stream",
     "text": [
      "Epoch [87/100] 252.92s\n",
      "loss: 0.0034 | val_loss: 0.0040\n"
     ]
    },
    {
     "name": "stderr",
     "output_type": "stream",
     "text": [
      "100%|██████████| 411/411 [03:49<00:00,  1.79it/s]\n",
      "100%|██████████| 137/137 [00:23<00:00,  5.81it/s]\n"
     ]
    },
    {
     "name": "stdout",
     "output_type": "stream",
     "text": [
      "Epoch [88/100] 252.79s\n",
      "loss: 0.0034 | val_loss: 0.0041\n"
     ]
    },
    {
     "name": "stderr",
     "output_type": "stream",
     "text": [
      "100%|██████████| 411/411 [03:49<00:00,  1.79it/s]\n",
      "100%|██████████| 137/137 [00:23<00:00,  5.75it/s]\n"
     ]
    },
    {
     "name": "stdout",
     "output_type": "stream",
     "text": [
      "Epoch [89/100] 253.03s\n",
      "loss: 0.0034 | val_loss: 0.0040\n"
     ]
    },
    {
     "name": "stderr",
     "output_type": "stream",
     "text": [
      "100%|██████████| 411/411 [03:49<00:00,  1.79it/s]\n",
      "100%|██████████| 137/137 [00:23<00:00,  5.80it/s]\n"
     ]
    },
    {
     "name": "stdout",
     "output_type": "stream",
     "text": [
      "Epoch [90/100] 252.88s\n",
      "loss: 0.0034 | val_loss: 0.0040\n"
     ]
    },
    {
     "name": "stderr",
     "output_type": "stream",
     "text": [
      "100%|██████████| 411/411 [03:49<00:00,  1.79it/s]\n",
      "100%|██████████| 137/137 [00:23<00:00,  5.81it/s]\n"
     ]
    },
    {
     "name": "stdout",
     "output_type": "stream",
     "text": [
      "Epoch [91/100] 252.79s\n",
      "loss: 0.0034 | val_loss: 0.0039\n"
     ]
    },
    {
     "name": "stderr",
     "output_type": "stream",
     "text": [
      "100%|██████████| 411/411 [03:49<00:00,  1.79it/s]\n",
      "100%|██████████| 137/137 [00:23<00:00,  5.79it/s]\n"
     ]
    },
    {
     "name": "stdout",
     "output_type": "stream",
     "text": [
      "Epoch [92/100] 253.03s\n",
      "loss: 0.0033 | val_loss: 0.0040\n"
     ]
    },
    {
     "name": "stderr",
     "output_type": "stream",
     "text": [
      "100%|██████████| 411/411 [03:49<00:00,  1.79it/s]\n",
      "100%|██████████| 137/137 [00:23<00:00,  5.79it/s]\n"
     ]
    },
    {
     "name": "stdout",
     "output_type": "stream",
     "text": [
      "Epoch [93/100] 252.74s\n",
      "loss: 0.0033 | val_loss: 0.0040\n"
     ]
    },
    {
     "name": "stderr",
     "output_type": "stream",
     "text": [
      "100%|██████████| 411/411 [03:49<00:00,  1.79it/s]\n",
      "100%|██████████| 137/137 [00:23<00:00,  5.77it/s]\n"
     ]
    },
    {
     "name": "stdout",
     "output_type": "stream",
     "text": [
      "Epoch [94/100] 253.12s\n",
      "loss: 0.0033 | val_loss: 0.0039\n"
     ]
    },
    {
     "name": "stderr",
     "output_type": "stream",
     "text": [
      "100%|██████████| 411/411 [03:49<00:00,  1.79it/s]\n",
      "100%|██████████| 137/137 [00:23<00:00,  5.77it/s]\n"
     ]
    },
    {
     "name": "stdout",
     "output_type": "stream",
     "text": [
      "Epoch [95/100] 252.94s\n",
      "loss: 0.0033 | val_loss: 0.0039\n"
     ]
    },
    {
     "name": "stderr",
     "output_type": "stream",
     "text": [
      "100%|██████████| 411/411 [03:49<00:00,  1.79it/s]\n",
      "100%|██████████| 137/137 [00:23<00:00,  5.77it/s]\n"
     ]
    },
    {
     "name": "stdout",
     "output_type": "stream",
     "text": [
      "Epoch [96/100] 253.09s\n",
      "loss: 0.0033 | val_loss: 0.0039\n"
     ]
    },
    {
     "name": "stderr",
     "output_type": "stream",
     "text": [
      "100%|██████████| 411/411 [03:49<00:00,  1.79it/s]\n",
      "100%|██████████| 137/137 [00:23<00:00,  5.82it/s]\n"
     ]
    },
    {
     "name": "stdout",
     "output_type": "stream",
     "text": [
      "Epoch [97/100] 252.79s\n",
      "loss: 0.0033 | val_loss: 0.0039\n"
     ]
    },
    {
     "name": "stderr",
     "output_type": "stream",
     "text": [
      " 33%|███▎      | 136/411 [01:15<02:33,  1.80it/s]"
     ]
    }
   ],
   "source": [
    "optimizer = torch.optim.AdamW(model.parameters(), lr=.001)\n",
    "criterion = nn.MSELoss()\n",
    "epochs = 100\n",
    "# gpu 1 사용\n",
    "device = torch.device('cuda:1' if torch.cuda.is_available() else 'cpu')\n",
    "\n",
    "train_loss, val_loss = train_with_reverse_schedule_sampling(model, optimizer, criterion, epochs, train_loader, val_loader, device, path=path+'best_PredRNNv2', ratio=.5)"
   ]
  },
  {
   "cell_type": "code",
   "execution_count": null,
   "id": "415bc6c8",
   "metadata": {},
   "outputs": [],
   "source": [
    "with open(path + \"train_loss.pkl\",\"wb\") as f:\n",
    "    pickle.dump(train_loss, f)\n",
    "    \n",
    "with open(path + \"val_loss.pkl\",\"wb\") as f:\n",
    "    pickle.dump(val_loss, f)"
   ]
  },
  {
   "cell_type": "code",
   "execution_count": null,
   "id": "4546fa26",
   "metadata": {},
   "outputs": [],
   "source": [
    "plt.title('PredRNNv2')\n",
    "plt.plot(train_loss, label='train')\n",
    "plt.plot(val_loss, label='val')\n",
    "plt.xlabel('epochs')\n",
    "plt.ylabel('losses(MSE)')\n",
    "plt.legend()\n",
    "plt.show()"
   ]
  }
 ],
 "metadata": {
  "kernelspec": {
   "display_name": "horovod0.25.0-tf2.11.0-torch2.0.0-py3.10-cuda11.8",
   "language": "python",
   "name": "horovod0.25.0-tf2.11.0-torch2.0.0-py3.10-cuda11.8"
  },
  "language_info": {
   "codemirror_mode": {
    "name": "ipython",
    "version": 3
   },
   "file_extension": ".py",
   "mimetype": "text/x-python",
   "name": "python",
   "nbconvert_exporter": "python",
   "pygments_lexer": "ipython3",
   "version": "3.10.12"
  }
 },
 "nbformat": 4,
 "nbformat_minor": 5
}
