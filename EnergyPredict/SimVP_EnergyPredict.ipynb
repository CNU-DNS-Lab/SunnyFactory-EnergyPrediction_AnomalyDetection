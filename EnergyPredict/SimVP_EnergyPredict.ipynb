{
 "cells": [
  {
   "cell_type": "code",
   "execution_count": 1,
   "id": "dad92864",
   "metadata": {},
   "outputs": [],
   "source": [
    "import os\n",
    "import time\n",
    "import random\n",
    "import pickle\n",
    "import warnings\n",
    "import numpy as np\n",
    "import matplotlib.pyplot as plt\n",
    "\n",
    "import torch\n",
    "from torch import nn\n",
    "from torch.utils.data import DataLoader\n",
    "\n",
    "from utils import *\n",
    "from models import SimVP"
   ]
  },
  {
   "cell_type": "code",
   "execution_count": 2,
   "id": "e9b8a302",
   "metadata": {},
   "outputs": [],
   "source": [
    "# ignore warning message\n",
    "warnings.filterwarnings('ignore')\n",
    "\n",
    "# fix seed\n",
    "os.environ['PYTHONHASHSEED'] = str(42)\n",
    "random.seed(42)\n",
    "np.random.seed(42)\n",
    "torch.manual_seed(42)\n",
    "torch.cuda.manual_seed(42)"
   ]
  },
  {
   "cell_type": "code",
   "execution_count": 3,
   "id": "db0b4095",
   "metadata": {},
   "outputs": [
    {
     "name": "stdout",
     "output_type": "stream",
     "text": [
      "GPU count: 2\n",
      "GPU 0: NVIDIA A100-SXM4-40GB\n",
      "_CudaDeviceProperties(name='NVIDIA A100-SXM4-40GB', major=8, minor=0, total_memory=40337MB, multi_processor_count=108)\n",
      "GPU 1: NVIDIA A100-SXM4-40GB\n",
      "_CudaDeviceProperties(name='NVIDIA A100-SXM4-40GB', major=8, minor=0, total_memory=40337MB, multi_processor_count=108)\n"
     ]
    }
   ],
   "source": [
    "if torch.cuda.is_available():\n",
    "    print(f'GPU count: {torch.cuda.device_count()}')\n",
    "    for i in range(torch.cuda.device_count()):\n",
    "        print(f'GPU {i}: {torch.cuda.get_device_name(i)}')\n",
    "        print(torch.cuda.get_device_properties(i))\n",
    "else:\n",
    "    print('No GPU')"
   ]
  },
  {
   "cell_type": "code",
   "execution_count": 4,
   "id": "7d392dd5",
   "metadata": {},
   "outputs": [],
   "source": [
    "# data : 2017~2021년 5월 31일까지의 전력 사용량 데이터\n",
    "# train : 2017~2019년 3년동안의 전력 사용량 데이터(3년)\n",
    "# val : 2020년 1년동안의 전력 사용량 데이터(1년)\n",
    "# test : 2021년 5월 31일 6개월 동안의 전력 사용량 데이터(6개월)\n",
    "elec = np.expand_dims(np.load('./dataset/2d_elec.npy'), axis=1)\n",
    "elec_x, elec_y, elec_val = make_sequential(elec)\n",
    "\n",
    "train_X = elec_x[:(365*24*3)]\n",
    "train_y = elec_y[:(365*24*3)]\n",
    "\n",
    "val_X = elec_x[(365*24*3):(365*24*4)]\n",
    "val_y = elec_y[(365*24*3):(365*24*4)]\n",
    "\n",
    "test_X = elec_x[(365*24*4):]\n",
    "test_y = elec_y[(365*24*4):]"
   ]
  },
  {
   "cell_type": "code",
   "execution_count": 5,
   "id": "f2b20cb2",
   "metadata": {},
   "outputs": [],
   "source": [
    "train_dataset = CustomDataset(train_X, train_y)\n",
    "train_loader = DataLoader(train_dataset, 64, pin_memory=True)\n",
    "\n",
    "val_dataset = CustomDataset(val_X, val_y)\n",
    "val_loader = DataLoader(val_dataset, 64, pin_memory=True)\n",
    "\n",
    "test_dataset = CustomDataset(test_X, test_y)\n",
    "test_loader = DataLoader(test_dataset, 64, pin_memory=True)"
   ]
  },
  {
   "cell_type": "code",
   "execution_count": 6,
   "id": "72d6d6db",
   "metadata": {},
   "outputs": [
    {
     "name": "stdout",
     "output_type": "stream",
     "text": [
      "train_size: 26280\n",
      "(26280, 24, 1, 8, 20)\n",
      "(26280, 24, 1, 8, 20)\n",
      "val_size: 8760\n",
      "(8760, 24, 1, 8, 20)\n",
      "(8760, 24, 1, 8, 20)\n",
      "test_size: 3577\n",
      "(3577, 24, 1, 8, 20)\n",
      "(3577, 24, 1, 8, 20)\n"
     ]
    }
   ],
   "source": [
    "print(f'train_size: {len(train_dataset)}')\n",
    "print(train_dataset.X.shape)\n",
    "print(train_dataset.Y.shape)\n",
    "\n",
    "print(f'val_size: {len(val_dataset)}')\n",
    "print(val_dataset.X.shape)\n",
    "print(val_dataset.Y.shape)\n",
    "\n",
    "print(f'test_size: {len(test_dataset)}')\n",
    "print(test_dataset.X.shape)\n",
    "print(test_dataset.Y.shape)"
   ]
  },
  {
   "cell_type": "code",
   "execution_count": 7,
   "id": "969717a0",
   "metadata": {},
   "outputs": [],
   "source": [
    "X, _ = next(iter(train_loader))\n",
    "\n",
    "path = './save_model/SimVP/'\n",
    "check_path(path)\n",
    "model = SimVP(X.shape[1:])"
   ]
  },
  {
   "cell_type": "code",
   "execution_count": 8,
   "id": "a43fe7c9",
   "metadata": {},
   "outputs": [
    {
     "name": "stderr",
     "output_type": "stream",
     "text": [
      "100%|██████████| 411/411 [00:28<00:00, 14.63it/s]\n",
      "100%|██████████| 137/137 [00:02<00:00, 63.47it/s]\n"
     ]
    },
    {
     "name": "stdout",
     "output_type": "stream",
     "text": [
      "Epoch [1/100] 30.26s\n",
      "loss: 0.0057 | val_loss: 0.0048\n"
     ]
    },
    {
     "name": "stderr",
     "output_type": "stream",
     "text": [
      "100%|██████████| 411/411 [00:25<00:00, 16.19it/s]\n",
      "100%|██████████| 137/137 [00:02<00:00, 64.75it/s]\n"
     ]
    },
    {
     "name": "stdout",
     "output_type": "stream",
     "text": [
      "Epoch [2/100] 27.52s\n",
      "loss: 0.0041 | val_loss: 0.0044\n"
     ]
    },
    {
     "name": "stderr",
     "output_type": "stream",
     "text": [
      "100%|██████████| 411/411 [00:25<00:00, 16.19it/s]\n",
      "100%|██████████| 137/137 [00:02<00:00, 66.25it/s]\n"
     ]
    },
    {
     "name": "stdout",
     "output_type": "stream",
     "text": [
      "Epoch [3/100] 27.46s\n",
      "loss: 0.0035 | val_loss: 0.0049\n"
     ]
    },
    {
     "name": "stderr",
     "output_type": "stream",
     "text": [
      "100%|██████████| 411/411 [00:25<00:00, 16.04it/s]\n",
      "100%|██████████| 137/137 [00:02<00:00, 65.62it/s]\n"
     ]
    },
    {
     "name": "stdout",
     "output_type": "stream",
     "text": [
      "Epoch [4/100] 27.73s\n",
      "loss: 0.0033 | val_loss: 0.0052\n"
     ]
    },
    {
     "name": "stderr",
     "output_type": "stream",
     "text": [
      "100%|██████████| 411/411 [00:24<00:00, 16.54it/s]\n",
      "100%|██████████| 137/137 [00:02<00:00, 64.04it/s]\n"
     ]
    },
    {
     "name": "stdout",
     "output_type": "stream",
     "text": [
      "Epoch [5/100] 26.99s\n",
      "loss: 0.0032 | val_loss: 0.0047\n"
     ]
    },
    {
     "name": "stderr",
     "output_type": "stream",
     "text": [
      "100%|██████████| 411/411 [00:25<00:00, 16.08it/s]\n",
      "100%|██████████| 137/137 [00:02<00:00, 65.92it/s]\n"
     ]
    },
    {
     "name": "stdout",
     "output_type": "stream",
     "text": [
      "Epoch [6/100] 27.65s\n",
      "loss: 0.0031 | val_loss: 0.0043\n"
     ]
    },
    {
     "name": "stderr",
     "output_type": "stream",
     "text": [
      "100%|██████████| 411/411 [00:25<00:00, 16.29it/s]\n",
      "100%|██████████| 137/137 [00:02<00:00, 65.12it/s]\n"
     ]
    },
    {
     "name": "stdout",
     "output_type": "stream",
     "text": [
      "Epoch [7/100] 27.35s\n",
      "loss: 0.0031 | val_loss: 0.0043\n"
     ]
    },
    {
     "name": "stderr",
     "output_type": "stream",
     "text": [
      "100%|██████████| 411/411 [00:24<00:00, 16.48it/s]\n",
      "100%|██████████| 137/137 [00:02<00:00, 64.03it/s]\n"
     ]
    },
    {
     "name": "stdout",
     "output_type": "stream",
     "text": [
      "Epoch [8/100] 27.08s\n",
      "loss: 0.0031 | val_loss: 0.0042\n"
     ]
    },
    {
     "name": "stderr",
     "output_type": "stream",
     "text": [
      "100%|██████████| 411/411 [00:25<00:00, 15.93it/s]\n",
      "100%|██████████| 137/137 [00:02<00:00, 65.70it/s]\n"
     ]
    },
    {
     "name": "stdout",
     "output_type": "stream",
     "text": [
      "Epoch [9/100] 27.90s\n",
      "loss: 0.0031 | val_loss: 0.0040\n"
     ]
    },
    {
     "name": "stderr",
     "output_type": "stream",
     "text": [
      "100%|██████████| 411/411 [00:25<00:00, 15.93it/s]\n",
      "100%|██████████| 137/137 [00:02<00:00, 62.67it/s]\n"
     ]
    },
    {
     "name": "stdout",
     "output_type": "stream",
     "text": [
      "Epoch [10/100] 28.00s\n",
      "loss: 0.0030 | val_loss: 0.0039\n"
     ]
    },
    {
     "name": "stderr",
     "output_type": "stream",
     "text": [
      "100%|██████████| 411/411 [00:24<00:00, 16.54it/s]\n",
      "100%|██████████| 137/137 [00:02<00:00, 65.54it/s]\n"
     ]
    },
    {
     "name": "stdout",
     "output_type": "stream",
     "text": [
      "Epoch [11/100] 26.95s\n",
      "loss: 0.0030 | val_loss: 0.0038\n"
     ]
    },
    {
     "name": "stderr",
     "output_type": "stream",
     "text": [
      "100%|██████████| 411/411 [00:24<00:00, 16.57it/s]\n",
      "100%|██████████| 137/137 [00:02<00:00, 64.00it/s]\n"
     ]
    },
    {
     "name": "stdout",
     "output_type": "stream",
     "text": [
      "Epoch [12/100] 26.95s\n",
      "loss: 0.0030 | val_loss: 0.0038\n"
     ]
    },
    {
     "name": "stderr",
     "output_type": "stream",
     "text": [
      "100%|██████████| 411/411 [00:25<00:00, 16.32it/s]\n",
      "100%|██████████| 137/137 [00:02<00:00, 68.06it/s]\n"
     ]
    },
    {
     "name": "stdout",
     "output_type": "stream",
     "text": [
      "Epoch [13/100] 27.20s\n",
      "loss: 0.0029 | val_loss: 0.0038\n"
     ]
    },
    {
     "name": "stderr",
     "output_type": "stream",
     "text": [
      "100%|██████████| 411/411 [00:25<00:00, 16.35it/s]\n",
      "100%|██████████| 137/137 [00:02<00:00, 64.86it/s]\n"
     ]
    },
    {
     "name": "stdout",
     "output_type": "stream",
     "text": [
      "Epoch [14/100] 27.26s\n",
      "loss: 0.0029 | val_loss: 0.0037\n"
     ]
    },
    {
     "name": "stderr",
     "output_type": "stream",
     "text": [
      "100%|██████████| 411/411 [00:24<00:00, 16.45it/s]\n",
      "100%|██████████| 137/137 [00:02<00:00, 66.72it/s]\n"
     ]
    },
    {
     "name": "stdout",
     "output_type": "stream",
     "text": [
      "Epoch [15/100] 27.04s\n",
      "loss: 0.0029 | val_loss: 0.0037\n"
     ]
    },
    {
     "name": "stderr",
     "output_type": "stream",
     "text": [
      "100%|██████████| 411/411 [00:24<00:00, 16.74it/s]\n",
      "100%|██████████| 137/137 [00:02<00:00, 64.80it/s]\n"
     ]
    },
    {
     "name": "stdout",
     "output_type": "stream",
     "text": [
      "Epoch [16/100] 26.67s\n",
      "loss: 0.0029 | val_loss: 0.0037\n"
     ]
    },
    {
     "name": "stderr",
     "output_type": "stream",
     "text": [
      "100%|██████████| 411/411 [00:25<00:00, 16.32it/s]\n",
      "100%|██████████| 137/137 [00:02<00:00, 64.61it/s]\n"
     ]
    },
    {
     "name": "stdout",
     "output_type": "stream",
     "text": [
      "Epoch [17/100] 27.31s\n",
      "loss: 0.0028 | val_loss: 0.0036\n"
     ]
    },
    {
     "name": "stderr",
     "output_type": "stream",
     "text": [
      "100%|██████████| 411/411 [00:25<00:00, 16.15it/s]\n",
      "100%|██████████| 137/137 [00:02<00:00, 64.13it/s]\n"
     ]
    },
    {
     "name": "stdout",
     "output_type": "stream",
     "text": [
      "Epoch [18/100] 27.59s\n",
      "loss: 0.0028 | val_loss: 0.0038\n"
     ]
    },
    {
     "name": "stderr",
     "output_type": "stream",
     "text": [
      "100%|██████████| 411/411 [00:25<00:00, 16.42it/s]\n",
      "100%|██████████| 137/137 [00:02<00:00, 64.08it/s]\n"
     ]
    },
    {
     "name": "stdout",
     "output_type": "stream",
     "text": [
      "Epoch [19/100] 27.17s\n",
      "loss: 0.0028 | val_loss: 0.0035\n"
     ]
    },
    {
     "name": "stderr",
     "output_type": "stream",
     "text": [
      "100%|██████████| 411/411 [00:24<00:00, 16.60it/s]\n",
      "100%|██████████| 137/137 [00:02<00:00, 66.76it/s]\n"
     ]
    },
    {
     "name": "stdout",
     "output_type": "stream",
     "text": [
      "Epoch [20/100] 26.82s\n",
      "loss: 0.0027 | val_loss: 0.0035\n"
     ]
    },
    {
     "name": "stderr",
     "output_type": "stream",
     "text": [
      "100%|██████████| 411/411 [00:25<00:00, 16.22it/s]\n",
      "100%|██████████| 137/137 [00:02<00:00, 64.91it/s]\n"
     ]
    },
    {
     "name": "stdout",
     "output_type": "stream",
     "text": [
      "Epoch [21/100] 27.45s\n",
      "loss: 0.0027 | val_loss: 0.0035\n"
     ]
    },
    {
     "name": "stderr",
     "output_type": "stream",
     "text": [
      "100%|██████████| 411/411 [00:25<00:00, 16.40it/s]\n",
      "100%|██████████| 137/137 [00:02<00:00, 67.74it/s]\n"
     ]
    },
    {
     "name": "stdout",
     "output_type": "stream",
     "text": [
      "Epoch [22/100] 27.09s\n",
      "loss: 0.0027 | val_loss: 0.0037\n"
     ]
    },
    {
     "name": "stderr",
     "output_type": "stream",
     "text": [
      "100%|██████████| 411/411 [00:25<00:00, 16.22it/s]\n",
      "100%|██████████| 137/137 [00:02<00:00, 64.62it/s]\n"
     ]
    },
    {
     "name": "stdout",
     "output_type": "stream",
     "text": [
      "Epoch [23/100] 27.46s\n",
      "loss: 0.0027 | val_loss: 0.0033\n"
     ]
    },
    {
     "name": "stderr",
     "output_type": "stream",
     "text": [
      "100%|██████████| 411/411 [00:24<00:00, 16.60it/s]\n",
      "100%|██████████| 137/137 [00:02<00:00, 66.04it/s]\n"
     ]
    },
    {
     "name": "stdout",
     "output_type": "stream",
     "text": [
      "Epoch [24/100] 26.85s\n",
      "loss: 0.0027 | val_loss: 0.0033\n"
     ]
    },
    {
     "name": "stderr",
     "output_type": "stream",
     "text": [
      "100%|██████████| 411/411 [00:25<00:00, 16.24it/s]\n",
      "100%|██████████| 137/137 [00:02<00:00, 64.49it/s]\n"
     ]
    },
    {
     "name": "stdout",
     "output_type": "stream",
     "text": [
      "Epoch [25/100] 27.43s\n",
      "loss: 0.0026 | val_loss: 0.0034\n"
     ]
    },
    {
     "name": "stderr",
     "output_type": "stream",
     "text": [
      "100%|██████████| 411/411 [00:25<00:00, 16.03it/s]\n",
      "100%|██████████| 137/137 [00:02<00:00, 65.55it/s]\n"
     ]
    },
    {
     "name": "stdout",
     "output_type": "stream",
     "text": [
      "Epoch [26/100] 27.74s\n",
      "loss: 0.0025 | val_loss: 0.0037\n"
     ]
    },
    {
     "name": "stderr",
     "output_type": "stream",
     "text": [
      "100%|██████████| 411/411 [00:25<00:00, 16.26it/s]\n",
      "100%|██████████| 137/137 [00:02<00:00, 66.56it/s]\n"
     ]
    },
    {
     "name": "stdout",
     "output_type": "stream",
     "text": [
      "Epoch [27/100] 27.35s\n",
      "loss: 0.0025 | val_loss: 0.0034\n"
     ]
    },
    {
     "name": "stderr",
     "output_type": "stream",
     "text": [
      "100%|██████████| 411/411 [00:25<00:00, 16.41it/s]\n",
      "100%|██████████| 137/137 [00:02<00:00, 61.79it/s]\n"
     ]
    },
    {
     "name": "stdout",
     "output_type": "stream",
     "text": [
      "Epoch [28/100] 27.27s\n",
      "loss: 0.0025 | val_loss: 0.0034\n"
     ]
    },
    {
     "name": "stderr",
     "output_type": "stream",
     "text": [
      "100%|██████████| 411/411 [00:25<00:00, 16.40it/s]\n",
      "100%|██████████| 137/137 [00:02<00:00, 66.04it/s]\n"
     ]
    },
    {
     "name": "stdout",
     "output_type": "stream",
     "text": [
      "Epoch [29/100] 27.14s\n",
      "loss: 0.0024 | val_loss: 0.0032\n"
     ]
    },
    {
     "name": "stderr",
     "output_type": "stream",
     "text": [
      "100%|██████████| 411/411 [00:24<00:00, 16.85it/s]\n",
      "100%|██████████| 137/137 [00:02<00:00, 64.02it/s]\n"
     ]
    },
    {
     "name": "stdout",
     "output_type": "stream",
     "text": [
      "Epoch [30/100] 26.53s\n",
      "loss: 0.0025 | val_loss: 0.0032\n"
     ]
    },
    {
     "name": "stderr",
     "output_type": "stream",
     "text": [
      "100%|██████████| 411/411 [00:27<00:00, 15.17it/s]\n",
      "100%|██████████| 137/137 [00:02<00:00, 64.17it/s]\n"
     ]
    },
    {
     "name": "stdout",
     "output_type": "stream",
     "text": [
      "Epoch [31/100] 29.24s\n",
      "loss: 0.0024 | val_loss: 0.0033\n"
     ]
    },
    {
     "name": "stderr",
     "output_type": "stream",
     "text": [
      "100%|██████████| 411/411 [00:25<00:00, 16.14it/s]\n",
      "100%|██████████| 137/137 [00:02<00:00, 64.61it/s]\n"
     ]
    },
    {
     "name": "stdout",
     "output_type": "stream",
     "text": [
      "Epoch [32/100] 27.60s\n",
      "loss: 0.0024 | val_loss: 0.0032\n"
     ]
    },
    {
     "name": "stderr",
     "output_type": "stream",
     "text": [
      "100%|██████████| 411/411 [00:25<00:00, 16.39it/s]\n",
      "100%|██████████| 137/137 [00:02<00:00, 62.27it/s]\n"
     ]
    },
    {
     "name": "stdout",
     "output_type": "stream",
     "text": [
      "Epoch [33/100] 27.29s\n",
      "loss: 0.0023 | val_loss: 0.0032\n"
     ]
    },
    {
     "name": "stderr",
     "output_type": "stream",
     "text": [
      "100%|██████████| 411/411 [00:25<00:00, 16.26it/s]\n",
      "100%|██████████| 137/137 [00:02<00:00, 65.24it/s]\n"
     ]
    },
    {
     "name": "stdout",
     "output_type": "stream",
     "text": [
      "Epoch [34/100] 27.38s\n",
      "loss: 0.0023 | val_loss: 0.0032\n"
     ]
    },
    {
     "name": "stderr",
     "output_type": "stream",
     "text": [
      "100%|██████████| 411/411 [00:24<00:00, 16.86it/s]\n",
      "100%|██████████| 137/137 [00:02<00:00, 65.69it/s]\n"
     ]
    },
    {
     "name": "stdout",
     "output_type": "stream",
     "text": [
      "Epoch [35/100] 26.47s\n",
      "loss: 0.0023 | val_loss: 0.0032\n"
     ]
    },
    {
     "name": "stderr",
     "output_type": "stream",
     "text": [
      "100%|██████████| 411/411 [00:25<00:00, 16.34it/s]\n",
      "100%|██████████| 137/137 [00:02<00:00, 63.01it/s]\n"
     ]
    },
    {
     "name": "stdout",
     "output_type": "stream",
     "text": [
      "Epoch [36/100] 27.34s\n",
      "loss: 0.0023 | val_loss: 0.0032\n"
     ]
    },
    {
     "name": "stderr",
     "output_type": "stream",
     "text": [
      "100%|██████████| 411/411 [00:24<00:00, 16.49it/s]\n",
      "100%|██████████| 137/137 [00:02<00:00, 66.72it/s]\n"
     ]
    },
    {
     "name": "stdout",
     "output_type": "stream",
     "text": [
      "Epoch [37/100] 26.98s\n",
      "loss: 0.0022 | val_loss: 0.0033\n"
     ]
    },
    {
     "name": "stderr",
     "output_type": "stream",
     "text": [
      "100%|██████████| 411/411 [00:24<00:00, 16.65it/s]\n",
      "100%|██████████| 137/137 [00:02<00:00, 64.58it/s]\n"
     ]
    },
    {
     "name": "stdout",
     "output_type": "stream",
     "text": [
      "Epoch [38/100] 26.81s\n",
      "loss: 0.0022 | val_loss: 0.0033\n"
     ]
    },
    {
     "name": "stderr",
     "output_type": "stream",
     "text": [
      "100%|██████████| 411/411 [00:25<00:00, 16.39it/s]\n",
      "100%|██████████| 137/137 [00:02<00:00, 65.88it/s]\n"
     ]
    },
    {
     "name": "stdout",
     "output_type": "stream",
     "text": [
      "Epoch [39/100] 27.16s\n",
      "loss: 0.0021 | val_loss: 0.0033\n"
     ]
    },
    {
     "name": "stderr",
     "output_type": "stream",
     "text": [
      "100%|██████████| 411/411 [00:24<00:00, 16.49it/s]\n",
      "100%|██████████| 137/137 [00:02<00:00, 66.93it/s]\n"
     ]
    },
    {
     "name": "stdout",
     "output_type": "stream",
     "text": [
      "Epoch [40/100] 26.98s\n",
      "loss: 0.0021 | val_loss: 0.0033\n"
     ]
    },
    {
     "name": "stderr",
     "output_type": "stream",
     "text": [
      "100%|██████████| 411/411 [00:25<00:00, 15.92it/s]\n",
      "100%|██████████| 137/137 [00:02<00:00, 63.84it/s]\n"
     ]
    },
    {
     "name": "stdout",
     "output_type": "stream",
     "text": [
      "Epoch [41/100] 27.98s\n",
      "loss: 0.0020 | val_loss: 0.0034\n"
     ]
    },
    {
     "name": "stderr",
     "output_type": "stream",
     "text": [
      "100%|██████████| 411/411 [00:29<00:00, 14.11it/s]\n",
      "100%|██████████| 137/137 [00:02<00:00, 63.42it/s]\n"
     ]
    },
    {
     "name": "stdout",
     "output_type": "stream",
     "text": [
      "Epoch [42/100] 31.30s\n",
      "loss: 0.0020 | val_loss: 0.0034\n"
     ]
    },
    {
     "name": "stderr",
     "output_type": "stream",
     "text": [
      "100%|██████████| 411/411 [00:24<00:00, 16.58it/s]\n",
      "100%|██████████| 137/137 [00:02<00:00, 66.04it/s]\n"
     ]
    },
    {
     "name": "stdout",
     "output_type": "stream",
     "text": [
      "Epoch [43/100] 26.87s\n",
      "loss: 0.0020 | val_loss: 0.0034\n"
     ]
    },
    {
     "name": "stderr",
     "output_type": "stream",
     "text": [
      "100%|██████████| 411/411 [00:25<00:00, 16.37it/s]\n",
      "100%|██████████| 137/137 [00:02<00:00, 64.34it/s]\n"
     ]
    },
    {
     "name": "stdout",
     "output_type": "stream",
     "text": [
      "Epoch [44/100] 27.24s\n",
      "loss: 0.0020 | val_loss: 0.0033\n"
     ]
    },
    {
     "name": "stderr",
     "output_type": "stream",
     "text": [
      "100%|██████████| 411/411 [00:25<00:00, 16.26it/s]\n",
      "100%|██████████| 137/137 [00:02<00:00, 67.90it/s]\n"
     ]
    },
    {
     "name": "stdout",
     "output_type": "stream",
     "text": [
      "Epoch [45/100] 27.31s\n",
      "loss: 0.0019 | val_loss: 0.0033\n"
     ]
    },
    {
     "name": "stderr",
     "output_type": "stream",
     "text": [
      "100%|██████████| 411/411 [00:25<00:00, 16.33it/s]\n",
      "100%|██████████| 137/137 [00:02<00:00, 68.20it/s]\n"
     ]
    },
    {
     "name": "stdout",
     "output_type": "stream",
     "text": [
      "Epoch [46/100] 27.19s\n",
      "loss: 0.0018 | val_loss: 0.0034\n"
     ]
    },
    {
     "name": "stderr",
     "output_type": "stream",
     "text": [
      "100%|██████████| 411/411 [00:24<00:00, 16.60it/s]\n",
      "100%|██████████| 137/137 [00:02<00:00, 64.14it/s]\n"
     ]
    },
    {
     "name": "stdout",
     "output_type": "stream",
     "text": [
      "Epoch [47/100] 26.90s\n",
      "loss: 0.0018 | val_loss: 0.0034\n"
     ]
    },
    {
     "name": "stderr",
     "output_type": "stream",
     "text": [
      "100%|██████████| 411/411 [00:25<00:00, 16.39it/s]\n",
      "100%|██████████| 137/137 [00:02<00:00, 63.99it/s]\n"
     ]
    },
    {
     "name": "stdout",
     "output_type": "stream",
     "text": [
      "Epoch [48/100] 27.22s\n",
      "loss: 0.0018 | val_loss: 0.0034\n"
     ]
    },
    {
     "name": "stderr",
     "output_type": "stream",
     "text": [
      "100%|██████████| 411/411 [00:25<00:00, 16.21it/s]\n",
      "100%|██████████| 137/137 [00:02<00:00, 66.69it/s]\n"
     ]
    },
    {
     "name": "stdout",
     "output_type": "stream",
     "text": [
      "Epoch [49/100] 27.42s\n",
      "loss: 0.0018 | val_loss: 0.0033\n"
     ]
    },
    {
     "name": "stderr",
     "output_type": "stream",
     "text": [
      "100%|██████████| 411/411 [00:24<00:00, 16.51it/s]\n",
      "100%|██████████| 137/137 [00:02<00:00, 65.77it/s]\n"
     ]
    },
    {
     "name": "stdout",
     "output_type": "stream",
     "text": [
      "Epoch [50/100] 26.99s\n",
      "loss: 0.0017 | val_loss: 0.0034\n"
     ]
    },
    {
     "name": "stderr",
     "output_type": "stream",
     "text": [
      "100%|██████████| 411/411 [00:25<00:00, 16.06it/s]\n",
      "100%|██████████| 137/137 [00:02<00:00, 63.03it/s]\n"
     ]
    },
    {
     "name": "stdout",
     "output_type": "stream",
     "text": [
      "Epoch [51/100] 27.77s\n",
      "loss: 0.0017 | val_loss: 0.0034\n"
     ]
    },
    {
     "name": "stderr",
     "output_type": "stream",
     "text": [
      "100%|██████████| 411/411 [00:24<00:00, 16.88it/s]\n",
      "100%|██████████| 137/137 [00:02<00:00, 64.72it/s]\n"
     ]
    },
    {
     "name": "stdout",
     "output_type": "stream",
     "text": [
      "Epoch [52/100] 26.47s\n",
      "loss: 0.0017 | val_loss: 0.0032\n"
     ]
    },
    {
     "name": "stderr",
     "output_type": "stream",
     "text": [
      "100%|██████████| 411/411 [00:24<00:00, 16.49it/s]\n",
      "100%|██████████| 137/137 [00:02<00:00, 66.28it/s]\n"
     ]
    },
    {
     "name": "stdout",
     "output_type": "stream",
     "text": [
      "Epoch [53/100] 26.99s\n",
      "loss: 0.0016 | val_loss: 0.0033\n"
     ]
    },
    {
     "name": "stderr",
     "output_type": "stream",
     "text": [
      "100%|██████████| 411/411 [00:25<00:00, 16.34it/s]\n",
      "100%|██████████| 137/137 [00:02<00:00, 64.82it/s]\n"
     ]
    },
    {
     "name": "stdout",
     "output_type": "stream",
     "text": [
      "Epoch [54/100] 27.28s\n",
      "loss: 0.0016 | val_loss: 0.0032\n"
     ]
    },
    {
     "name": "stderr",
     "output_type": "stream",
     "text": [
      "100%|██████████| 411/411 [00:25<00:00, 16.22it/s]\n",
      "100%|██████████| 137/137 [00:02<00:00, 64.55it/s]\n"
     ]
    },
    {
     "name": "stdout",
     "output_type": "stream",
     "text": [
      "Epoch [55/100] 27.47s\n",
      "loss: 0.0015 | val_loss: 0.0033\n"
     ]
    },
    {
     "name": "stderr",
     "output_type": "stream",
     "text": [
      "100%|██████████| 411/411 [00:25<00:00, 16.39it/s]\n",
      "100%|██████████| 137/137 [00:02<00:00, 63.33it/s]\n"
     ]
    },
    {
     "name": "stdout",
     "output_type": "stream",
     "text": [
      "Epoch [56/100] 27.25s\n",
      "loss: 0.0015 | val_loss: 0.0033\n"
     ]
    },
    {
     "name": "stderr",
     "output_type": "stream",
     "text": [
      "100%|██████████| 411/411 [00:25<00:00, 16.18it/s]\n",
      "100%|██████████| 137/137 [00:02<00:00, 64.98it/s]\n"
     ]
    },
    {
     "name": "stdout",
     "output_type": "stream",
     "text": [
      "Epoch [57/100] 27.51s\n",
      "loss: 0.0015 | val_loss: 0.0031\n"
     ]
    },
    {
     "name": "stderr",
     "output_type": "stream",
     "text": [
      "100%|██████████| 411/411 [00:25<00:00, 16.22it/s]\n",
      "100%|██████████| 137/137 [00:02<00:00, 67.03it/s]\n"
     ]
    },
    {
     "name": "stdout",
     "output_type": "stream",
     "text": [
      "Epoch [58/100] 27.40s\n",
      "loss: 0.0014 | val_loss: 0.0032\n"
     ]
    },
    {
     "name": "stderr",
     "output_type": "stream",
     "text": [
      "100%|██████████| 411/411 [00:25<00:00, 16.24it/s]\n",
      "100%|██████████| 137/137 [00:02<00:00, 67.11it/s]\n"
     ]
    },
    {
     "name": "stdout",
     "output_type": "stream",
     "text": [
      "Epoch [59/100] 27.35s\n",
      "loss: 0.0014 | val_loss: 0.0033\n"
     ]
    },
    {
     "name": "stderr",
     "output_type": "stream",
     "text": [
      "100%|██████████| 411/411 [00:25<00:00, 16.12it/s]\n",
      "100%|██████████| 137/137 [00:02<00:00, 64.02it/s]\n"
     ]
    },
    {
     "name": "stdout",
     "output_type": "stream",
     "text": [
      "Epoch [60/100] 27.64s\n",
      "loss: 0.0014 | val_loss: 0.0031\n"
     ]
    },
    {
     "name": "stderr",
     "output_type": "stream",
     "text": [
      "100%|██████████| 411/411 [00:25<00:00, 16.14it/s]\n",
      "100%|██████████| 137/137 [00:02<00:00, 65.13it/s]\n"
     ]
    },
    {
     "name": "stdout",
     "output_type": "stream",
     "text": [
      "Epoch [61/100] 27.58s\n",
      "loss: 0.0014 | val_loss: 0.0032\n"
     ]
    },
    {
     "name": "stderr",
     "output_type": "stream",
     "text": [
      "100%|██████████| 411/411 [00:25<00:00, 16.29it/s]\n",
      "100%|██████████| 137/137 [00:02<00:00, 65.96it/s]\n"
     ]
    },
    {
     "name": "stdout",
     "output_type": "stream",
     "text": [
      "Epoch [62/100] 27.32s\n",
      "loss: 0.0013 | val_loss: 0.0031\n"
     ]
    },
    {
     "name": "stderr",
     "output_type": "stream",
     "text": [
      "100%|██████████| 411/411 [00:24<00:00, 17.01it/s]\n",
      "100%|██████████| 137/137 [00:02<00:00, 65.58it/s]\n"
     ]
    },
    {
     "name": "stdout",
     "output_type": "stream",
     "text": [
      "Epoch [63/100] 26.26s\n",
      "loss: 0.0013 | val_loss: 0.0033\n"
     ]
    },
    {
     "name": "stderr",
     "output_type": "stream",
     "text": [
      "100%|██████████| 411/411 [00:24<00:00, 16.47it/s]\n",
      "100%|██████████| 137/137 [00:02<00:00, 62.72it/s]\n"
     ]
    },
    {
     "name": "stdout",
     "output_type": "stream",
     "text": [
      "Epoch [64/100] 27.15s\n",
      "loss: 0.0013 | val_loss: 0.0032\n"
     ]
    },
    {
     "name": "stderr",
     "output_type": "stream",
     "text": [
      "100%|██████████| 411/411 [00:25<00:00, 16.42it/s]\n",
      "100%|██████████| 137/137 [00:02<00:00, 63.15it/s]\n"
     ]
    },
    {
     "name": "stdout",
     "output_type": "stream",
     "text": [
      "Epoch [65/100] 27.20s\n",
      "loss: 0.0013 | val_loss: 0.0032\n"
     ]
    },
    {
     "name": "stderr",
     "output_type": "stream",
     "text": [
      "100%|██████████| 411/411 [00:25<00:00, 16.25it/s]\n",
      "100%|██████████| 137/137 [00:02<00:00, 64.52it/s]\n"
     ]
    },
    {
     "name": "stdout",
     "output_type": "stream",
     "text": [
      "Epoch [66/100] 27.42s\n",
      "loss: 0.0012 | val_loss: 0.0033\n"
     ]
    },
    {
     "name": "stderr",
     "output_type": "stream",
     "text": [
      "100%|██████████| 411/411 [00:25<00:00, 16.30it/s]\n",
      "100%|██████████| 137/137 [00:02<00:00, 64.62it/s]\n"
     ]
    },
    {
     "name": "stdout",
     "output_type": "stream",
     "text": [
      "Epoch [67/100] 27.35s\n",
      "loss: 0.0012 | val_loss: 0.0030\n"
     ]
    },
    {
     "name": "stderr",
     "output_type": "stream",
     "text": [
      "100%|██████████| 411/411 [00:25<00:00, 16.22it/s]\n",
      "100%|██████████| 137/137 [00:02<00:00, 65.13it/s]\n"
     ]
    },
    {
     "name": "stdout",
     "output_type": "stream",
     "text": [
      "Epoch [68/100] 27.45s\n",
      "loss: 0.0012 | val_loss: 0.0030\n"
     ]
    },
    {
     "name": "stderr",
     "output_type": "stream",
     "text": [
      "100%|██████████| 411/411 [00:25<00:00, 16.40it/s]\n",
      "100%|██████████| 137/137 [00:02<00:00, 64.01it/s]\n"
     ]
    },
    {
     "name": "stdout",
     "output_type": "stream",
     "text": [
      "Epoch [69/100] 27.21s\n",
      "loss: 0.0012 | val_loss: 0.0030\n"
     ]
    },
    {
     "name": "stderr",
     "output_type": "stream",
     "text": [
      "100%|██████████| 411/411 [00:24<00:00, 16.76it/s]\n",
      "100%|██████████| 137/137 [00:02<00:00, 64.50it/s]\n"
     ]
    },
    {
     "name": "stdout",
     "output_type": "stream",
     "text": [
      "Epoch [70/100] 26.66s\n",
      "loss: 0.0011 | val_loss: 0.0029\n"
     ]
    },
    {
     "name": "stderr",
     "output_type": "stream",
     "text": [
      "100%|██████████| 411/411 [00:25<00:00, 16.22it/s]\n",
      "100%|██████████| 137/137 [00:02<00:00, 65.00it/s]\n"
     ]
    },
    {
     "name": "stdout",
     "output_type": "stream",
     "text": [
      "Epoch [71/100] 27.46s\n",
      "loss: 0.0011 | val_loss: 0.0031\n"
     ]
    },
    {
     "name": "stderr",
     "output_type": "stream",
     "text": [
      "100%|██████████| 411/411 [00:24<00:00, 16.71it/s]\n",
      "100%|██████████| 137/137 [00:02<00:00, 63.67it/s]\n"
     ]
    },
    {
     "name": "stdout",
     "output_type": "stream",
     "text": [
      "Epoch [72/100] 26.76s\n",
      "loss: 0.0011 | val_loss: 0.0031\n"
     ]
    },
    {
     "name": "stderr",
     "output_type": "stream",
     "text": [
      "100%|██████████| 411/411 [00:24<00:00, 16.50it/s]\n",
      "100%|██████████| 137/137 [00:02<00:00, 63.55it/s]\n"
     ]
    },
    {
     "name": "stdout",
     "output_type": "stream",
     "text": [
      "Epoch [73/100] 27.08s\n",
      "loss: 0.0011 | val_loss: 0.0032\n"
     ]
    },
    {
     "name": "stderr",
     "output_type": "stream",
     "text": [
      "100%|██████████| 411/411 [00:25<00:00, 16.19it/s]\n",
      "100%|██████████| 137/137 [00:02<00:00, 65.96it/s]\n"
     ]
    },
    {
     "name": "stdout",
     "output_type": "stream",
     "text": [
      "Epoch [74/100] 27.48s\n",
      "loss: 0.0011 | val_loss: 0.0033\n"
     ]
    },
    {
     "name": "stderr",
     "output_type": "stream",
     "text": [
      "100%|██████████| 411/411 [00:24<00:00, 16.77it/s]\n",
      "100%|██████████| 137/137 [00:02<00:00, 64.14it/s]\n"
     ]
    },
    {
     "name": "stdout",
     "output_type": "stream",
     "text": [
      "Epoch [75/100] 26.65s\n",
      "loss: 0.0010 | val_loss: 0.0032\n"
     ]
    },
    {
     "name": "stderr",
     "output_type": "stream",
     "text": [
      "100%|██████████| 411/411 [00:25<00:00, 16.17it/s]\n",
      "100%|██████████| 137/137 [00:02<00:00, 64.34it/s]\n"
     ]
    },
    {
     "name": "stdout",
     "output_type": "stream",
     "text": [
      "Epoch [76/100] 27.55s\n",
      "loss: 0.0010 | val_loss: 0.0032\n"
     ]
    },
    {
     "name": "stderr",
     "output_type": "stream",
     "text": [
      "100%|██████████| 411/411 [00:25<00:00, 16.33it/s]\n",
      "100%|██████████| 137/137 [00:02<00:00, 64.64it/s]\n"
     ]
    },
    {
     "name": "stdout",
     "output_type": "stream",
     "text": [
      "Epoch [77/100] 27.29s\n",
      "loss: 0.0010 | val_loss: 0.0032\n"
     ]
    },
    {
     "name": "stderr",
     "output_type": "stream",
     "text": [
      "100%|██████████| 411/411 [00:24<00:00, 16.63it/s]\n",
      "100%|██████████| 137/137 [00:02<00:00, 65.24it/s]\n"
     ]
    },
    {
     "name": "stdout",
     "output_type": "stream",
     "text": [
      "Epoch [78/100] 26.82s\n",
      "loss: 0.0010 | val_loss: 0.0031\n"
     ]
    },
    {
     "name": "stderr",
     "output_type": "stream",
     "text": [
      "100%|██████████| 411/411 [00:25<00:00, 16.26it/s]\n",
      "100%|██████████| 137/137 [00:02<00:00, 63.12it/s]\n"
     ]
    },
    {
     "name": "stdout",
     "output_type": "stream",
     "text": [
      "Epoch [79/100] 27.45s\n",
      "loss: 0.0009 | val_loss: 0.0030\n"
     ]
    },
    {
     "name": "stderr",
     "output_type": "stream",
     "text": [
      "100%|██████████| 411/411 [00:25<00:00, 16.25it/s]\n",
      "100%|██████████| 137/137 [00:02<00:00, 63.80it/s]\n"
     ]
    },
    {
     "name": "stdout",
     "output_type": "stream",
     "text": [
      "Epoch [80/100] 27.45s\n",
      "loss: 0.0009 | val_loss: 0.0032\n"
     ]
    },
    {
     "name": "stderr",
     "output_type": "stream",
     "text": [
      "100%|██████████| 411/411 [00:25<00:00, 16.02it/s]\n",
      "100%|██████████| 137/137 [00:02<00:00, 67.01it/s]\n"
     ]
    },
    {
     "name": "stdout",
     "output_type": "stream",
     "text": [
      "Epoch [81/100] 27.70s\n",
      "loss: 0.0010 | val_loss: 0.0031\n"
     ]
    },
    {
     "name": "stderr",
     "output_type": "stream",
     "text": [
      "100%|██████████| 411/411 [00:25<00:00, 16.21it/s]\n",
      "100%|██████████| 137/137 [00:02<00:00, 66.50it/s]\n"
     ]
    },
    {
     "name": "stdout",
     "output_type": "stream",
     "text": [
      "Epoch [82/100] 27.42s\n",
      "loss: 0.0010 | val_loss: 0.0032\n"
     ]
    },
    {
     "name": "stderr",
     "output_type": "stream",
     "text": [
      "100%|██████████| 411/411 [00:25<00:00, 16.34it/s]\n",
      "100%|██████████| 137/137 [00:02<00:00, 66.43it/s]\n"
     ]
    },
    {
     "name": "stdout",
     "output_type": "stream",
     "text": [
      "Epoch [83/100] 27.22s\n",
      "loss: 0.0010 | val_loss: 0.0030\n"
     ]
    },
    {
     "name": "stderr",
     "output_type": "stream",
     "text": [
      "100%|██████████| 411/411 [00:24<00:00, 16.65it/s]\n",
      "100%|██████████| 137/137 [00:02<00:00, 65.08it/s]\n"
     ]
    },
    {
     "name": "stdout",
     "output_type": "stream",
     "text": [
      "Epoch [84/100] 26.80s\n",
      "loss: 0.0009 | val_loss: 0.0029\n"
     ]
    },
    {
     "name": "stderr",
     "output_type": "stream",
     "text": [
      "100%|██████████| 411/411 [00:25<00:00, 16.44it/s]\n",
      "100%|██████████| 137/137 [00:02<00:00, 66.77it/s]\n"
     ]
    },
    {
     "name": "stdout",
     "output_type": "stream",
     "text": [
      "Epoch [85/100] 27.07s\n",
      "loss: 0.0008 | val_loss: 0.0028\n"
     ]
    },
    {
     "name": "stderr",
     "output_type": "stream",
     "text": [
      "100%|██████████| 411/411 [00:25<00:00, 16.20it/s]\n",
      "100%|██████████| 137/137 [00:02<00:00, 67.22it/s]\n"
     ]
    },
    {
     "name": "stdout",
     "output_type": "stream",
     "text": [
      "Epoch [86/100] 27.42s\n",
      "loss: 0.0008 | val_loss: 0.0028\n"
     ]
    },
    {
     "name": "stderr",
     "output_type": "stream",
     "text": [
      "100%|██████████| 411/411 [00:25<00:00, 16.35it/s]\n",
      "100%|██████████| 137/137 [00:02<00:00, 66.14it/s]\n"
     ]
    },
    {
     "name": "stdout",
     "output_type": "stream",
     "text": [
      "Epoch [87/100] 27.22s\n",
      "loss: 0.0008 | val_loss: 0.0027\n"
     ]
    },
    {
     "name": "stderr",
     "output_type": "stream",
     "text": [
      "100%|██████████| 411/411 [00:24<00:00, 16.52it/s]\n",
      "100%|██████████| 137/137 [00:02<00:00, 65.25it/s]\n"
     ]
    },
    {
     "name": "stdout",
     "output_type": "stream",
     "text": [
      "Epoch [88/100] 26.98s\n",
      "loss: 0.0008 | val_loss: 0.0029\n"
     ]
    },
    {
     "name": "stderr",
     "output_type": "stream",
     "text": [
      "100%|██████████| 411/411 [00:25<00:00, 16.35it/s]\n",
      "100%|██████████| 137/137 [00:02<00:00, 62.68it/s]\n"
     ]
    },
    {
     "name": "stdout",
     "output_type": "stream",
     "text": [
      "Epoch [89/100] 27.34s\n",
      "loss: 0.0008 | val_loss: 0.0028\n"
     ]
    },
    {
     "name": "stderr",
     "output_type": "stream",
     "text": [
      "100%|██████████| 411/411 [00:25<00:00, 16.37it/s]\n",
      "100%|██████████| 137/137 [00:02<00:00, 65.51it/s]\n"
     ]
    },
    {
     "name": "stdout",
     "output_type": "stream",
     "text": [
      "Epoch [90/100] 27.21s\n",
      "loss: 0.0007 | val_loss: 0.0028\n"
     ]
    },
    {
     "name": "stderr",
     "output_type": "stream",
     "text": [
      "100%|██████████| 411/411 [00:24<00:00, 16.44it/s]\n",
      "100%|██████████| 137/137 [00:02<00:00, 65.02it/s]\n"
     ]
    },
    {
     "name": "stdout",
     "output_type": "stream",
     "text": [
      "Epoch [91/100] 27.11s\n",
      "loss: 0.0007 | val_loss: 0.0028\n"
     ]
    },
    {
     "name": "stderr",
     "output_type": "stream",
     "text": [
      "100%|██████████| 411/411 [00:25<00:00, 16.15it/s]\n",
      "100%|██████████| 137/137 [00:02<00:00, 63.58it/s]\n"
     ]
    },
    {
     "name": "stdout",
     "output_type": "stream",
     "text": [
      "Epoch [92/100] 27.60s\n",
      "loss: 0.0007 | val_loss: 0.0025\n"
     ]
    },
    {
     "name": "stderr",
     "output_type": "stream",
     "text": [
      "100%|██████████| 411/411 [00:25<00:00, 16.33it/s]\n",
      "100%|██████████| 137/137 [00:02<00:00, 65.37it/s]\n"
     ]
    },
    {
     "name": "stdout",
     "output_type": "stream",
     "text": [
      "Epoch [93/100] 27.27s\n",
      "loss: 0.0007 | val_loss: 0.0024\n"
     ]
    },
    {
     "name": "stderr",
     "output_type": "stream",
     "text": [
      "100%|██████████| 411/411 [00:24<00:00, 16.80it/s]\n",
      "100%|██████████| 137/137 [00:02<00:00, 62.74it/s]\n"
     ]
    },
    {
     "name": "stdout",
     "output_type": "stream",
     "text": [
      "Epoch [94/100] 26.66s\n",
      "loss: 0.0007 | val_loss: 0.0024\n"
     ]
    },
    {
     "name": "stderr",
     "output_type": "stream",
     "text": [
      "100%|██████████| 411/411 [00:25<00:00, 16.38it/s]\n",
      "100%|██████████| 137/137 [00:02<00:00, 65.49it/s]\n"
     ]
    },
    {
     "name": "stdout",
     "output_type": "stream",
     "text": [
      "Epoch [95/100] 27.19s\n",
      "loss: 0.0007 | val_loss: 0.0023\n"
     ]
    },
    {
     "name": "stderr",
     "output_type": "stream",
     "text": [
      "100%|██████████| 411/411 [00:25<00:00, 16.23it/s]\n",
      "100%|██████████| 137/137 [00:02<00:00, 65.95it/s]\n"
     ]
    },
    {
     "name": "stdout",
     "output_type": "stream",
     "text": [
      "Epoch [96/100] 27.41s\n",
      "loss: 0.0007 | val_loss: 0.0024\n"
     ]
    },
    {
     "name": "stderr",
     "output_type": "stream",
     "text": [
      "100%|██████████| 411/411 [00:24<00:00, 16.66it/s]\n",
      "100%|██████████| 137/137 [00:02<00:00, 62.61it/s]\n"
     ]
    },
    {
     "name": "stdout",
     "output_type": "stream",
     "text": [
      "Epoch [97/100] 26.86s\n",
      "loss: 0.0007 | val_loss: 0.0024\n"
     ]
    },
    {
     "name": "stderr",
     "output_type": "stream",
     "text": [
      "100%|██████████| 411/411 [00:25<00:00, 16.26it/s]\n",
      "100%|██████████| 137/137 [00:02<00:00, 63.46it/s]\n"
     ]
    },
    {
     "name": "stdout",
     "output_type": "stream",
     "text": [
      "Epoch [98/100] 27.45s\n",
      "loss: 0.0006 | val_loss: 0.0023\n"
     ]
    },
    {
     "name": "stderr",
     "output_type": "stream",
     "text": [
      "100%|██████████| 411/411 [00:25<00:00, 16.05it/s]\n",
      "100%|██████████| 137/137 [00:01<00:00, 69.62it/s]\n"
     ]
    },
    {
     "name": "stdout",
     "output_type": "stream",
     "text": [
      "Epoch [99/100] 27.58s\n",
      "loss: 0.0006 | val_loss: 0.0025\n"
     ]
    },
    {
     "name": "stderr",
     "output_type": "stream",
     "text": [
      "100%|██████████| 411/411 [00:24<00:00, 16.49it/s]\n",
      "100%|██████████| 137/137 [00:02<00:00, 67.23it/s]"
     ]
    },
    {
     "name": "stdout",
     "output_type": "stream",
     "text": [
      "Epoch [100/100] 26.96s\n",
      "loss: 0.0006 | val_loss: 0.0025\n",
      "Train time: 2736.11s\n",
      "Best Epoch: 98, Best mse: 0.0023\n"
     ]
    },
    {
     "name": "stderr",
     "output_type": "stream",
     "text": [
      "\n"
     ]
    }
   ],
   "source": [
    "optimizer = torch.optim.AdamW(model.parameters(), lr=.001)\n",
    "criterion = nn.MSELoss()\n",
    "epochs = 100\n",
    "# gpu 0 사용\n",
    "device = torch.device('cuda:0' if torch.cuda.is_available() else 'cpu')\n",
    "\n",
    "train_loss, val_loss = train(model, optimizer, criterion, epochs, train_loader, val_loader, device, path=path+'best_SimVP')"
   ]
  },
  {
   "cell_type": "code",
   "execution_count": 9,
   "id": "415bc6c8",
   "metadata": {},
   "outputs": [],
   "source": [
    "with open(path + \"train_loss.pkl\",\"wb\") as f:\n",
    "    pickle.dump(train_loss, f)\n",
    "    \n",
    "with open(path + \"val_loss.pkl\",\"wb\") as f:\n",
    "    pickle.dump(val_loss, f)"
   ]
  },
  {
   "cell_type": "code",
   "execution_count": 10,
   "id": "4546fa26",
   "metadata": {},
   "outputs": [
    {
     "data": {
      "image/png": "[encoded data removed]",
      "text/plain": [
       "<Figure size 640x480 with 1 Axes>"
      ]
     },
     "metadata": {},
     "output_type": "display_data"
    }
   ],
   "source": [
    "plt.title('SimVP')\n",
    "plt.plot(train_loss, label='train')\n",
    "plt.plot(val_loss, label='val')\n",
    "plt.xlabel('epochs')\n",
    "plt.ylabel('losses(MSE)')\n",
    "plt.legend()\n",
    "plt.show()"
   ]
  }
 ],
 "metadata": {
  "kernelspec": {
   "display_name": "horovod0.25.0-tf2.11.0-torch2.0.0-py3.10-cuda11.8",
   "language": "python",
   "name": "horovod0.25.0-tf2.11.0-torch2.0.0-py3.10-cuda11.8"
  },
  "language_info": {
   "codemirror_mode": {
    "name": "ipython",
    "version": 3
   },
   "file_extension": ".py",
   "mimetype": "text/x-python",
   "name": "python",
   "nbconvert_exporter": "python",
   "pygments_lexer": "ipython3",
   "version": "3.10.12"
  }
 },
 "nbformat": 4,
 "nbformat_minor": 5
}
