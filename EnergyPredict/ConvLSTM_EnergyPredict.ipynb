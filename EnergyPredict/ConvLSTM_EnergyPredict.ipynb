{
 "cells": [
  {
   "cell_type": "code",
   "execution_count": 1,
   "id": "fd7f5452",
   "metadata": {},
   "outputs": [],
   "source": [
    "import os\n",
    "import time\n",
    "import random\n",
    "import pickle\n",
    "import warnings\n",
    "import numpy as np\n",
    "import matplotlib.pyplot as plt\n",
    "\n",
    "import torch\n",
    "from torch import nn\n",
    "from torch.utils.data import DataLoader\n",
    "\n",
    "from utils import *\n",
    "from models import ConvLSTM"
   ]
  },
  {
   "cell_type": "code",
   "execution_count": 2,
   "id": "f3df2f37",
   "metadata": {},
   "outputs": [],
   "source": [
    "# ignore warning message\n",
    "warnings.filterwarnings('ignore')\n",
    "\n",
    "# fix seed\n",
    "os.environ['PYTHONHASHSEED'] = str(42)\n",
    "random.seed(42)\n",
    "np.random.seed(42)\n",
    "torch.manual_seed(42)\n",
    "torch.cuda.manual_seed(42)"
   ]
  },
  {
   "cell_type": "code",
   "execution_count": 3,
   "id": "a144edfe",
   "metadata": {},
   "outputs": [
    {
     "name": "stdout",
     "output_type": "stream",
     "text": [
      "GPU count: 2\n",
      "GPU 0: NVIDIA A100-SXM4-40GB\n",
      "_CudaDeviceProperties(name='NVIDIA A100-SXM4-40GB', major=8, minor=0, total_memory=40337MB, multi_processor_count=108)\n",
      "GPU 1: NVIDIA A100-SXM4-40GB\n",
      "_CudaDeviceProperties(name='NVIDIA A100-SXM4-40GB', major=8, minor=0, total_memory=40337MB, multi_processor_count=108)\n"
     ]
    }
   ],
   "source": [
    "if torch.cuda.is_available():\n",
    "    print(f'GPU count: {torch.cuda.device_count()}')\n",
    "    for i in range(torch.cuda.device_count()):\n",
    "        print(f'GPU {i}: {torch.cuda.get_device_name(i)}')\n",
    "        print(torch.cuda.get_device_properties(i))\n",
    "else:\n",
    "    print('No GPU')"
   ]
  },
  {
   "cell_type": "code",
   "execution_count": 4,
   "id": "60038eb5",
   "metadata": {},
   "outputs": [],
   "source": [
    "# data : 2017~2021년 5월 31일까지의 전력 사용량 데이터\n",
    "# train : 2017~2019년 3년동안의 전력 사용량 데이터(3년)\n",
    "# val : 2020년 1년동안의 전력 사용량 데이터(1년)\n",
    "# test : 2021년 5월 31일 6개월 동안의 전력 사용량 데이터(6개월)\n",
    "elec = np.expand_dims(np.load('./dataset/2d_elec.npy'), axis=1)\n",
    "elec_x, elec_y, elec_val = make_sequential(elec)\n",
    "\n",
    "train_X = elec_x[:(365*24*3)]\n",
    "train_y = elec_y[:(365*24*3)]\n",
    "\n",
    "val_X = elec_x[(365*24*3):(365*24*4)]\n",
    "val_y = elec_y[(365*24*3):(365*24*4)]\n",
    "\n",
    "test_X = elec_x[(365*24*4):]\n",
    "test_y = elec_y[(365*24*4):]"
   ]
  },
  {
   "cell_type": "code",
   "execution_count": 5,
   "id": "bdc0e741",
   "metadata": {},
   "outputs": [],
   "source": [
    "train_dataset = CustomDataset(train_X, train_y)\n",
    "train_loader = DataLoader(train_dataset, 64, pin_memory=True)\n",
    "\n",
    "val_dataset = CustomDataset(val_X, val_y)\n",
    "val_loader = DataLoader(val_dataset, 64, pin_memory=True)\n",
    "\n",
    "test_dataset = CustomDataset(test_X, test_y)\n",
    "test_loader = DataLoader(test_dataset, 64, pin_memory=True)"
   ]
  },
  {
   "cell_type": "code",
   "execution_count": 6,
   "id": "f5e49228",
   "metadata": {},
   "outputs": [
    {
     "name": "stdout",
     "output_type": "stream",
     "text": [
      "train_size: 26280\n",
      "(26280, 24, 1, 8, 20)\n",
      "(26280, 24, 1, 8, 20)\n",
      "val_size: 8760\n",
      "(8760, 24, 1, 8, 20)\n",
      "(8760, 24, 1, 8, 20)\n",
      "test_size: 3577\n",
      "(3577, 24, 1, 8, 20)\n",
      "(3577, 24, 1, 8, 20)\n"
     ]
    }
   ],
   "source": [
    "print(f'train_size: {len(train_dataset)}')\n",
    "print(train_dataset.X.shape)\n",
    "print(train_dataset.Y.shape)\n",
    "\n",
    "print(f'val_size: {len(val_dataset)}')\n",
    "print(val_dataset.X.shape)\n",
    "print(val_dataset.Y.shape)\n",
    "\n",
    "print(f'test_size: {len(test_dataset)}')\n",
    "print(test_dataset.X.shape)\n",
    "print(test_dataset.Y.shape)"
   ]
  },
  {
   "cell_type": "code",
   "execution_count": 7,
   "id": "f9ca0e7f",
   "metadata": {},
   "outputs": [],
   "source": [
    "X, _ = next(iter(train_loader))\n",
    "\n",
    "path = './save_model/ConvLSTM/'\n",
    "check_path(path)\n",
    "model = ConvLSTM(num_layers=3, num_hidden=[128,128,128], shape=X.shape[1:], kernel_size=5, stride=1)"
   ]
  },
  {
   "cell_type": "code",
   "execution_count": 8,
   "id": "60c948b7",
   "metadata": {
    "scrolled": true
   },
   "outputs": [
    {
     "name": "stderr",
     "output_type": "stream",
     "text": [
      "100%|██████████| 411/411 [02:03<00:00,  3.34it/s]\n",
      "100%|██████████| 137/137 [00:10<00:00, 12.61it/s]\n"
     ]
    },
    {
     "name": "stdout",
     "output_type": "stream",
     "text": [
      "Epoch [1/100] 133.93s\n",
      "loss: 0.0070 | val_loss: 0.0063\n"
     ]
    },
    {
     "name": "stderr",
     "output_type": "stream",
     "text": [
      "100%|██████████| 411/411 [02:01<00:00,  3.40it/s]\n",
      "100%|██████████| 137/137 [00:11<00:00, 12.06it/s]\n"
     ]
    },
    {
     "name": "stdout",
     "output_type": "stream",
     "text": [
      "Epoch [2/100] 132.42s\n",
      "loss: 0.0050 | val_loss: 0.0060\n"
     ]
    },
    {
     "name": "stderr",
     "output_type": "stream",
     "text": [
      "100%|██████████| 411/411 [02:00<00:00,  3.40it/s]\n",
      "100%|██████████| 137/137 [00:10<00:00, 12.58it/s]\n"
     ]
    },
    {
     "name": "stdout",
     "output_type": "stream",
     "text": [
      "Epoch [3/100] 131.75s\n",
      "loss: 0.0050 | val_loss: 0.0059\n"
     ]
    },
    {
     "name": "stderr",
     "output_type": "stream",
     "text": [
      "100%|██████████| 411/411 [02:01<00:00,  3.39it/s]\n",
      "100%|██████████| 137/137 [00:10<00:00, 12.54it/s]\n"
     ]
    },
    {
     "name": "stdout",
     "output_type": "stream",
     "text": [
      "Epoch [4/100] 132.15s\n",
      "loss: 0.0050 | val_loss: 0.0057\n"
     ]
    },
    {
     "name": "stderr",
     "output_type": "stream",
     "text": [
      "100%|██████████| 411/411 [02:01<00:00,  3.39it/s]\n",
      "100%|██████████| 137/137 [00:10<00:00, 12.62it/s]\n"
     ]
    },
    {
     "name": "stdout",
     "output_type": "stream",
     "text": [
      "Epoch [5/100] 131.98s\n",
      "loss: 0.0049 | val_loss: 0.0059\n"
     ]
    },
    {
     "name": "stderr",
     "output_type": "stream",
     "text": [
      "100%|██████████| 411/411 [02:01<00:00,  3.39it/s]\n",
      "100%|██████████| 137/137 [00:10<00:00, 12.58it/s]\n"
     ]
    },
    {
     "name": "stdout",
     "output_type": "stream",
     "text": [
      "Epoch [6/100] 132.11s\n",
      "loss: 0.0043 | val_loss: 0.0068\n"
     ]
    },
    {
     "name": "stderr",
     "output_type": "stream",
     "text": [
      "100%|██████████| 411/411 [02:01<00:00,  3.39it/s]\n",
      "100%|██████████| 137/137 [00:10<00:00, 12.58it/s]\n"
     ]
    },
    {
     "name": "stdout",
     "output_type": "stream",
     "text": [
      "Epoch [7/100] 132.02s\n",
      "loss: 0.0040 | val_loss: 0.0062\n"
     ]
    },
    {
     "name": "stderr",
     "output_type": "stream",
     "text": [
      "100%|██████████| 411/411 [02:01<00:00,  3.39it/s]\n",
      "100%|██████████| 137/137 [00:10<00:00, 12.64it/s]\n"
     ]
    },
    {
     "name": "stdout",
     "output_type": "stream",
     "text": [
      "Epoch [8/100] 132.13s\n",
      "loss: 0.0037 | val_loss: 0.0059\n"
     ]
    },
    {
     "name": "stderr",
     "output_type": "stream",
     "text": [
      "100%|██████████| 411/411 [02:01<00:00,  3.39it/s]\n",
      "100%|██████████| 137/137 [00:10<00:00, 12.60it/s]\n"
     ]
    },
    {
     "name": "stdout",
     "output_type": "stream",
     "text": [
      "Epoch [9/100] 131.94s\n",
      "loss: 0.0036 | val_loss: 0.0056\n"
     ]
    },
    {
     "name": "stderr",
     "output_type": "stream",
     "text": [
      "100%|██████████| 411/411 [02:01<00:00,  3.39it/s]\n",
      "100%|██████████| 137/137 [00:10<00:00, 12.63it/s]\n"
     ]
    },
    {
     "name": "stdout",
     "output_type": "stream",
     "text": [
      "Epoch [10/100] 131.93s\n",
      "loss: 0.0035 | val_loss: 0.0054\n"
     ]
    },
    {
     "name": "stderr",
     "output_type": "stream",
     "text": [
      "100%|██████████| 411/411 [02:01<00:00,  3.39it/s]\n",
      "100%|██████████| 137/137 [00:10<00:00, 12.67it/s]\n"
     ]
    },
    {
     "name": "stdout",
     "output_type": "stream",
     "text": [
      "Epoch [11/100] 131.92s\n",
      "loss: 0.0035 | val_loss: 0.0055\n"
     ]
    },
    {
     "name": "stderr",
     "output_type": "stream",
     "text": [
      "100%|██████████| 411/411 [02:01<00:00,  3.39it/s]\n",
      "100%|██████████| 137/137 [00:10<00:00, 12.58it/s]\n"
     ]
    },
    {
     "name": "stdout",
     "output_type": "stream",
     "text": [
      "Epoch [12/100] 132.06s\n",
      "loss: 0.0035 | val_loss: 0.0055\n"
     ]
    },
    {
     "name": "stderr",
     "output_type": "stream",
     "text": [
      "100%|██████████| 411/411 [02:01<00:00,  3.40it/s]\n",
      "100%|██████████| 137/137 [00:10<00:00, 12.60it/s]\n"
     ]
    },
    {
     "name": "stdout",
     "output_type": "stream",
     "text": [
      "Epoch [13/100] 131.90s\n",
      "loss: 0.0035 | val_loss: 0.0051\n"
     ]
    },
    {
     "name": "stderr",
     "output_type": "stream",
     "text": [
      "100%|██████████| 411/411 [02:01<00:00,  3.39it/s]\n",
      "100%|██████████| 137/137 [00:10<00:00, 12.64it/s]\n"
     ]
    },
    {
     "name": "stdout",
     "output_type": "stream",
     "text": [
      "Epoch [14/100] 132.02s\n",
      "loss: 0.0035 | val_loss: 0.0051\n"
     ]
    },
    {
     "name": "stderr",
     "output_type": "stream",
     "text": [
      "100%|██████████| 411/411 [02:00<00:00,  3.40it/s]\n",
      "100%|██████████| 137/137 [00:10<00:00, 12.61it/s]\n"
     ]
    },
    {
     "name": "stdout",
     "output_type": "stream",
     "text": [
      "Epoch [15/100] 131.85s\n",
      "loss: 0.0035 | val_loss: 0.0051\n"
     ]
    },
    {
     "name": "stderr",
     "output_type": "stream",
     "text": [
      "100%|██████████| 411/411 [02:01<00:00,  3.39it/s]\n",
      "100%|██████████| 137/137 [00:10<00:00, 12.58it/s]\n"
     ]
    },
    {
     "name": "stdout",
     "output_type": "stream",
     "text": [
      "Epoch [16/100] 132.29s\n",
      "loss: 0.0035 | val_loss: 0.0055\n"
     ]
    },
    {
     "name": "stderr",
     "output_type": "stream",
     "text": [
      "100%|██████████| 411/411 [02:01<00:00,  3.39it/s]\n",
      "100%|██████████| 137/137 [00:10<00:00, 12.61it/s]\n"
     ]
    },
    {
     "name": "stdout",
     "output_type": "stream",
     "text": [
      "Epoch [17/100] 131.94s\n",
      "loss: 0.0034 | val_loss: 0.0050\n"
     ]
    },
    {
     "name": "stderr",
     "output_type": "stream",
     "text": [
      "100%|██████████| 411/411 [02:01<00:00,  3.39it/s]\n",
      "100%|██████████| 137/137 [00:10<00:00, 12.60it/s]\n"
     ]
    },
    {
     "name": "stdout",
     "output_type": "stream",
     "text": [
      "Epoch [18/100] 132.01s\n",
      "loss: 0.0035 | val_loss: 0.0054\n"
     ]
    },
    {
     "name": "stderr",
     "output_type": "stream",
     "text": [
      "100%|██████████| 411/411 [02:00<00:00,  3.40it/s]\n",
      "100%|██████████| 137/137 [00:10<00:00, 12.55it/s]\n"
     ]
    },
    {
     "name": "stdout",
     "output_type": "stream",
     "text": [
      "Epoch [19/100] 131.87s\n",
      "loss: 0.0035 | val_loss: 0.0052\n"
     ]
    },
    {
     "name": "stderr",
     "output_type": "stream",
     "text": [
      "100%|██████████| 411/411 [02:01<00:00,  3.39it/s]\n",
      "100%|██████████| 137/137 [00:10<00:00, 12.64it/s]\n"
     ]
    },
    {
     "name": "stdout",
     "output_type": "stream",
     "text": [
      "Epoch [20/100] 132.10s\n",
      "loss: 0.0035 | val_loss: 0.0053\n"
     ]
    },
    {
     "name": "stderr",
     "output_type": "stream",
     "text": [
      "100%|██████████| 411/411 [02:00<00:00,  3.40it/s]\n",
      "100%|██████████| 137/137 [00:11<00:00, 12.33it/s]\n"
     ]
    },
    {
     "name": "stdout",
     "output_type": "stream",
     "text": [
      "Epoch [21/100] 131.97s\n",
      "loss: 0.0034 | val_loss: 0.0053\n"
     ]
    },
    {
     "name": "stderr",
     "output_type": "stream",
     "text": [
      "100%|██████████| 411/411 [02:01<00:00,  3.39it/s]\n",
      "100%|██████████| 137/137 [00:10<00:00, 12.61it/s]\n"
     ]
    },
    {
     "name": "stdout",
     "output_type": "stream",
     "text": [
      "Epoch [22/100] 132.03s\n",
      "loss: 0.0034 | val_loss: 0.0053\n"
     ]
    },
    {
     "name": "stderr",
     "output_type": "stream",
     "text": [
      "100%|██████████| 411/411 [02:01<00:00,  3.39it/s]\n",
      "100%|██████████| 137/137 [00:11<00:00, 11.79it/s]\n"
     ]
    },
    {
     "name": "stdout",
     "output_type": "stream",
     "text": [
      "Epoch [23/100] 132.75s\n",
      "loss: 0.0034 | val_loss: 0.0052\n"
     ]
    },
    {
     "name": "stderr",
     "output_type": "stream",
     "text": [
      "100%|██████████| 411/411 [02:01<00:00,  3.40it/s]\n",
      "100%|██████████| 137/137 [00:10<00:00, 12.58it/s]\n"
     ]
    },
    {
     "name": "stdout",
     "output_type": "stream",
     "text": [
      "Epoch [24/100] 131.91s\n",
      "loss: 0.0034 | val_loss: 0.0052\n"
     ]
    },
    {
     "name": "stderr",
     "output_type": "stream",
     "text": [
      "100%|██████████| 411/411 [02:00<00:00,  3.40it/s]\n",
      "100%|██████████| 137/137 [00:11<00:00, 12.12it/s]\n"
     ]
    },
    {
     "name": "stdout",
     "output_type": "stream",
     "text": [
      "Epoch [25/100] 132.27s\n",
      "loss: 0.0034 | val_loss: 0.0050\n"
     ]
    },
    {
     "name": "stderr",
     "output_type": "stream",
     "text": [
      "100%|██████████| 411/411 [02:00<00:00,  3.40it/s]\n",
      "100%|██████████| 137/137 [00:10<00:00, 12.65it/s]\n"
     ]
    },
    {
     "name": "stdout",
     "output_type": "stream",
     "text": [
      "Epoch [26/100] 131.78s\n",
      "loss: 0.0034 | val_loss: 0.0050\n"
     ]
    },
    {
     "name": "stderr",
     "output_type": "stream",
     "text": [
      "100%|██████████| 411/411 [02:01<00:00,  3.40it/s]\n",
      "100%|██████████| 137/137 [00:10<00:00, 12.63it/s]\n"
     ]
    },
    {
     "name": "stdout",
     "output_type": "stream",
     "text": [
      "Epoch [27/100] 131.91s\n",
      "loss: 0.0034 | val_loss: 0.0052\n"
     ]
    },
    {
     "name": "stderr",
     "output_type": "stream",
     "text": [
      "100%|██████████| 411/411 [02:00<00:00,  3.40it/s]\n",
      "100%|██████████| 137/137 [00:10<00:00, 12.61it/s]\n"
     ]
    },
    {
     "name": "stdout",
     "output_type": "stream",
     "text": [
      "Epoch [28/100] 131.80s\n",
      "loss: 0.0034 | val_loss: 0.0052\n"
     ]
    },
    {
     "name": "stderr",
     "output_type": "stream",
     "text": [
      "100%|██████████| 411/411 [02:01<00:00,  3.39it/s]\n",
      "100%|██████████| 137/137 [00:10<00:00, 12.56it/s]\n"
     ]
    },
    {
     "name": "stdout",
     "output_type": "stream",
     "text": [
      "Epoch [29/100] 132.03s\n",
      "loss: 0.0034 | val_loss: 0.0048\n"
     ]
    },
    {
     "name": "stderr",
     "output_type": "stream",
     "text": [
      "100%|██████████| 411/411 [02:00<00:00,  3.40it/s]\n",
      "100%|██████████| 137/137 [00:10<00:00, 12.63it/s]\n"
     ]
    },
    {
     "name": "stdout",
     "output_type": "stream",
     "text": [
      "Epoch [30/100] 131.82s\n",
      "loss: 0.0034 | val_loss: 0.0047\n"
     ]
    },
    {
     "name": "stderr",
     "output_type": "stream",
     "text": [
      "100%|██████████| 411/411 [02:01<00:00,  3.39it/s]\n",
      "100%|██████████| 137/137 [00:10<00:00, 12.66it/s]\n"
     ]
    },
    {
     "name": "stdout",
     "output_type": "stream",
     "text": [
      "Epoch [31/100] 132.04s\n",
      "loss: 0.0034 | val_loss: 0.0049\n"
     ]
    },
    {
     "name": "stderr",
     "output_type": "stream",
     "text": [
      "100%|██████████| 411/411 [02:01<00:00,  3.39it/s]\n",
      "100%|██████████| 137/137 [00:10<00:00, 12.59it/s]\n"
     ]
    },
    {
     "name": "stdout",
     "output_type": "stream",
     "text": [
      "Epoch [32/100] 132.07s\n",
      "loss: 0.0034 | val_loss: 0.0046\n"
     ]
    },
    {
     "name": "stderr",
     "output_type": "stream",
     "text": [
      "100%|██████████| 411/411 [02:01<00:00,  3.39it/s]\n",
      "100%|██████████| 137/137 [00:10<00:00, 12.55it/s]\n"
     ]
    },
    {
     "name": "stdout",
     "output_type": "stream",
     "text": [
      "Epoch [33/100] 132.17s\n",
      "loss: 0.0034 | val_loss: 0.0044\n"
     ]
    },
    {
     "name": "stderr",
     "output_type": "stream",
     "text": [
      "100%|██████████| 411/411 [02:01<00:00,  3.39it/s]\n",
      "100%|██████████| 137/137 [00:10<00:00, 12.56it/s]\n"
     ]
    },
    {
     "name": "stdout",
     "output_type": "stream",
     "text": [
      "Epoch [34/100] 132.04s\n",
      "loss: 0.0034 | val_loss: 0.0047\n"
     ]
    },
    {
     "name": "stderr",
     "output_type": "stream",
     "text": [
      "100%|██████████| 411/411 [02:01<00:00,  3.39it/s]\n",
      "100%|██████████| 137/137 [00:10<00:00, 12.60it/s]\n"
     ]
    },
    {
     "name": "stdout",
     "output_type": "stream",
     "text": [
      "Epoch [35/100] 132.19s\n",
      "loss: 0.0034 | val_loss: 0.0045\n"
     ]
    },
    {
     "name": "stderr",
     "output_type": "stream",
     "text": [
      "100%|██████████| 411/411 [02:01<00:00,  3.39it/s]\n",
      "100%|██████████| 137/137 [00:10<00:00, 12.60it/s]\n"
     ]
    },
    {
     "name": "stdout",
     "output_type": "stream",
     "text": [
      "Epoch [36/100] 132.00s\n",
      "loss: 0.0034 | val_loss: 0.0048\n"
     ]
    },
    {
     "name": "stderr",
     "output_type": "stream",
     "text": [
      "100%|██████████| 411/411 [02:01<00:00,  3.39it/s]\n",
      "100%|██████████| 137/137 [00:10<00:00, 12.65it/s]\n"
     ]
    },
    {
     "name": "stdout",
     "output_type": "stream",
     "text": [
      "Epoch [37/100] 132.15s\n",
      "loss: 0.0034 | val_loss: 0.0042\n"
     ]
    },
    {
     "name": "stderr",
     "output_type": "stream",
     "text": [
      "100%|██████████| 411/411 [02:01<00:00,  3.39it/s]\n",
      "100%|██████████| 137/137 [00:10<00:00, 12.66it/s]\n"
     ]
    },
    {
     "name": "stdout",
     "output_type": "stream",
     "text": [
      "Epoch [38/100] 132.00s\n",
      "loss: 0.0035 | val_loss: 0.0042\n"
     ]
    },
    {
     "name": "stderr",
     "output_type": "stream",
     "text": [
      "100%|██████████| 411/411 [02:01<00:00,  3.39it/s]\n",
      "100%|██████████| 137/137 [00:10<00:00, 12.59it/s]\n"
     ]
    },
    {
     "name": "stdout",
     "output_type": "stream",
     "text": [
      "Epoch [39/100] 132.02s\n",
      "loss: 0.0035 | val_loss: 0.0043\n"
     ]
    },
    {
     "name": "stderr",
     "output_type": "stream",
     "text": [
      "100%|██████████| 411/411 [02:00<00:00,  3.40it/s]\n",
      "100%|██████████| 137/137 [00:10<00:00, 12.64it/s]\n"
     ]
    },
    {
     "name": "stdout",
     "output_type": "stream",
     "text": [
      "Epoch [40/100] 131.76s\n",
      "loss: 0.0034 | val_loss: 0.0043\n"
     ]
    },
    {
     "name": "stderr",
     "output_type": "stream",
     "text": [
      "100%|██████████| 411/411 [02:00<00:00,  3.40it/s]\n",
      "100%|██████████| 137/137 [00:10<00:00, 12.63it/s]\n"
     ]
    },
    {
     "name": "stdout",
     "output_type": "stream",
     "text": [
      "Epoch [41/100] 131.81s\n",
      "loss: 0.0034 | val_loss: 0.0045\n"
     ]
    },
    {
     "name": "stderr",
     "output_type": "stream",
     "text": [
      "100%|██████████| 411/411 [02:00<00:00,  3.40it/s]\n",
      "100%|██████████| 137/137 [00:10<00:00, 12.58it/s]\n"
     ]
    },
    {
     "name": "stdout",
     "output_type": "stream",
     "text": [
      "Epoch [42/100] 131.81s\n",
      "loss: 0.0034 | val_loss: 0.0048\n"
     ]
    },
    {
     "name": "stderr",
     "output_type": "stream",
     "text": [
      "100%|██████████| 411/411 [02:01<00:00,  3.40it/s]\n",
      "100%|██████████| 137/137 [00:10<00:00, 12.60it/s]\n"
     ]
    },
    {
     "name": "stdout",
     "output_type": "stream",
     "text": [
      "Epoch [43/100] 131.89s\n",
      "loss: 0.0034 | val_loss: 0.0042\n"
     ]
    },
    {
     "name": "stderr",
     "output_type": "stream",
     "text": [
      "100%|██████████| 411/411 [02:00<00:00,  3.40it/s]\n",
      "100%|██████████| 137/137 [00:11<00:00, 12.29it/s]\n"
     ]
    },
    {
     "name": "stdout",
     "output_type": "stream",
     "text": [
      "Epoch [44/100] 132.09s\n",
      "loss: 0.0034 | val_loss: 0.0041\n"
     ]
    },
    {
     "name": "stderr",
     "output_type": "stream",
     "text": [
      "100%|██████████| 411/411 [02:01<00:00,  3.39it/s]\n",
      "100%|██████████| 137/137 [00:10<00:00, 12.60it/s]\n"
     ]
    },
    {
     "name": "stdout",
     "output_type": "stream",
     "text": [
      "Epoch [45/100] 132.05s\n",
      "loss: 0.0034 | val_loss: 0.0041\n"
     ]
    },
    {
     "name": "stderr",
     "output_type": "stream",
     "text": [
      "100%|██████████| 411/411 [02:00<00:00,  3.40it/s]\n",
      "100%|██████████| 137/137 [00:11<00:00, 11.84it/s]\n"
     ]
    },
    {
     "name": "stdout",
     "output_type": "stream",
     "text": [
      "Epoch [46/100] 132.53s\n",
      "loss: 0.0034 | val_loss: 0.0042\n"
     ]
    },
    {
     "name": "stderr",
     "output_type": "stream",
     "text": [
      "100%|██████████| 411/411 [02:00<00:00,  3.40it/s]\n",
      "100%|██████████| 137/137 [00:10<00:00, 12.57it/s]\n"
     ]
    },
    {
     "name": "stdout",
     "output_type": "stream",
     "text": [
      "Epoch [47/100] 131.89s\n",
      "loss: 0.0034 | val_loss: 0.0040\n"
     ]
    },
    {
     "name": "stderr",
     "output_type": "stream",
     "text": [
      "100%|██████████| 411/411 [02:01<00:00,  3.40it/s]\n",
      "100%|██████████| 137/137 [00:11<00:00, 12.09it/s]\n"
     ]
    },
    {
     "name": "stdout",
     "output_type": "stream",
     "text": [
      "Epoch [48/100] 132.37s\n",
      "loss: 0.0034 | val_loss: 0.0042\n"
     ]
    },
    {
     "name": "stderr",
     "output_type": "stream",
     "text": [
      "100%|██████████| 411/411 [02:00<00:00,  3.40it/s]\n",
      "100%|██████████| 137/137 [00:10<00:00, 12.55it/s]\n"
     ]
    },
    {
     "name": "stdout",
     "output_type": "stream",
     "text": [
      "Epoch [49/100] 131.92s\n",
      "loss: 0.0034 | val_loss: 0.0043\n"
     ]
    },
    {
     "name": "stderr",
     "output_type": "stream",
     "text": [
      "100%|██████████| 411/411 [02:01<00:00,  3.39it/s]\n",
      "100%|██████████| 137/137 [00:10<00:00, 12.60it/s]\n"
     ]
    },
    {
     "name": "stdout",
     "output_type": "stream",
     "text": [
      "Epoch [50/100] 132.08s\n",
      "loss: 0.0034 | val_loss: 0.0040\n"
     ]
    },
    {
     "name": "stderr",
     "output_type": "stream",
     "text": [
      "100%|██████████| 411/411 [02:00<00:00,  3.40it/s]\n",
      "100%|██████████| 137/137 [00:10<00:00, 12.66it/s]\n"
     ]
    },
    {
     "name": "stdout",
     "output_type": "stream",
     "text": [
      "Epoch [51/100] 131.83s\n",
      "loss: 0.0034 | val_loss: 0.0041\n"
     ]
    },
    {
     "name": "stderr",
     "output_type": "stream",
     "text": [
      "100%|██████████| 411/411 [02:01<00:00,  3.39it/s]\n",
      "100%|██████████| 137/137 [00:10<00:00, 12.61it/s]\n"
     ]
    },
    {
     "name": "stdout",
     "output_type": "stream",
     "text": [
      "Epoch [52/100] 132.19s\n",
      "loss: 0.0034 | val_loss: 0.0040\n"
     ]
    },
    {
     "name": "stderr",
     "output_type": "stream",
     "text": [
      "100%|██████████| 411/411 [02:00<00:00,  3.40it/s]\n",
      "100%|██████████| 137/137 [00:10<00:00, 12.60it/s]\n"
     ]
    },
    {
     "name": "stdout",
     "output_type": "stream",
     "text": [
      "Epoch [53/100] 131.88s\n",
      "loss: 0.0034 | val_loss: 0.0041\n"
     ]
    },
    {
     "name": "stderr",
     "output_type": "stream",
     "text": [
      "100%|██████████| 411/411 [02:01<00:00,  3.39it/s]\n",
      "100%|██████████| 137/137 [00:10<00:00, 12.62it/s]\n"
     ]
    },
    {
     "name": "stdout",
     "output_type": "stream",
     "text": [
      "Epoch [54/100] 132.02s\n",
      "loss: 0.0034 | val_loss: 0.0041\n"
     ]
    },
    {
     "name": "stderr",
     "output_type": "stream",
     "text": [
      "100%|██████████| 411/411 [02:01<00:00,  3.40it/s]\n",
      "100%|██████████| 137/137 [00:10<00:00, 12.63it/s]\n"
     ]
    },
    {
     "name": "stdout",
     "output_type": "stream",
     "text": [
      "Epoch [55/100] 131.89s\n",
      "loss: 0.0034 | val_loss: 0.0039\n"
     ]
    },
    {
     "name": "stderr",
     "output_type": "stream",
     "text": [
      "100%|██████████| 411/411 [02:01<00:00,  3.39it/s]\n",
      "100%|██████████| 137/137 [00:10<00:00, 12.62it/s]\n"
     ]
    },
    {
     "name": "stdout",
     "output_type": "stream",
     "text": [
      "Epoch [56/100] 132.09s\n",
      "loss: 0.0034 | val_loss: 0.0041\n"
     ]
    },
    {
     "name": "stderr",
     "output_type": "stream",
     "text": [
      "100%|██████████| 411/411 [02:01<00:00,  3.39it/s]\n",
      "100%|██████████| 137/137 [00:10<00:00, 12.64it/s]\n"
     ]
    },
    {
     "name": "stdout",
     "output_type": "stream",
     "text": [
      "Epoch [57/100] 132.06s\n",
      "loss: 0.0034 | val_loss: 0.0040\n"
     ]
    },
    {
     "name": "stderr",
     "output_type": "stream",
     "text": [
      "100%|██████████| 411/411 [02:01<00:00,  3.39it/s]\n",
      "100%|██████████| 137/137 [00:10<00:00, 12.59it/s]\n"
     ]
    },
    {
     "name": "stdout",
     "output_type": "stream",
     "text": [
      "Epoch [58/100] 132.02s\n",
      "loss: 0.0034 | val_loss: 0.0040\n"
     ]
    },
    {
     "name": "stderr",
     "output_type": "stream",
     "text": [
      "100%|██████████| 411/411 [02:01<00:00,  3.40it/s]\n",
      "100%|██████████| 137/137 [00:10<00:00, 12.58it/s]\n"
     ]
    },
    {
     "name": "stdout",
     "output_type": "stream",
     "text": [
      "Epoch [59/100] 131.96s\n",
      "loss: 0.0033 | val_loss: 0.0040\n"
     ]
    },
    {
     "name": "stderr",
     "output_type": "stream",
     "text": [
      "100%|██████████| 411/411 [02:01<00:00,  3.39it/s]\n",
      "100%|██████████| 137/137 [00:10<00:00, 12.58it/s]\n"
     ]
    },
    {
     "name": "stdout",
     "output_type": "stream",
     "text": [
      "Epoch [60/100] 132.19s\n",
      "loss: 0.0033 | val_loss: 0.0041\n"
     ]
    },
    {
     "name": "stderr",
     "output_type": "stream",
     "text": [
      "100%|██████████| 411/411 [02:01<00:00,  3.40it/s]\n",
      "100%|██████████| 137/137 [00:10<00:00, 12.65it/s]\n"
     ]
    },
    {
     "name": "stdout",
     "output_type": "stream",
     "text": [
      "Epoch [61/100] 131.84s\n",
      "loss: 0.0033 | val_loss: 0.0042\n"
     ]
    },
    {
     "name": "stderr",
     "output_type": "stream",
     "text": [
      "100%|██████████| 411/411 [02:01<00:00,  3.39it/s]\n",
      "100%|██████████| 137/137 [00:10<00:00, 12.64it/s]\n"
     ]
    },
    {
     "name": "stdout",
     "output_type": "stream",
     "text": [
      "Epoch [62/100] 131.96s\n",
      "loss: 0.0033 | val_loss: 0.0041\n"
     ]
    },
    {
     "name": "stderr",
     "output_type": "stream",
     "text": [
      "100%|██████████| 411/411 [02:01<00:00,  3.40it/s]\n",
      "100%|██████████| 137/137 [00:10<00:00, 12.56it/s]\n"
     ]
    },
    {
     "name": "stdout",
     "output_type": "stream",
     "text": [
      "Epoch [63/100] 131.97s\n",
      "loss: 0.0033 | val_loss: 0.0040\n"
     ]
    },
    {
     "name": "stderr",
     "output_type": "stream",
     "text": [
      "100%|██████████| 411/411 [02:01<00:00,  3.39it/s]\n",
      "100%|██████████| 137/137 [00:10<00:00, 12.61it/s]\n"
     ]
    },
    {
     "name": "stdout",
     "output_type": "stream",
     "text": [
      "Epoch [64/100] 132.04s\n",
      "loss: 0.0033 | val_loss: 0.0039\n"
     ]
    },
    {
     "name": "stderr",
     "output_type": "stream",
     "text": [
      "100%|██████████| 411/411 [02:00<00:00,  3.40it/s]\n",
      "100%|██████████| 137/137 [00:10<00:00, 12.62it/s]\n"
     ]
    },
    {
     "name": "stdout",
     "output_type": "stream",
     "text": [
      "Epoch [65/100] 131.85s\n",
      "loss: 0.0033 | val_loss: 0.0038\n"
     ]
    },
    {
     "name": "stderr",
     "output_type": "stream",
     "text": [
      "100%|██████████| 411/411 [02:01<00:00,  3.40it/s]\n",
      "100%|██████████| 137/137 [00:10<00:00, 12.64it/s]\n"
     ]
    },
    {
     "name": "stdout",
     "output_type": "stream",
     "text": [
      "Epoch [66/100] 131.90s\n",
      "loss: 0.0033 | val_loss: 0.0038\n"
     ]
    },
    {
     "name": "stderr",
     "output_type": "stream",
     "text": [
      "100%|██████████| 411/411 [02:01<00:00,  3.39it/s]\n",
      "100%|██████████| 137/137 [00:11<00:00, 12.08it/s]\n"
     ]
    },
    {
     "name": "stdout",
     "output_type": "stream",
     "text": [
      "Epoch [67/100] 132.43s\n",
      "loss: 0.0033 | val_loss: 0.0038\n"
     ]
    },
    {
     "name": "stderr",
     "output_type": "stream",
     "text": [
      "100%|██████████| 411/411 [02:01<00:00,  3.39it/s]\n",
      "100%|██████████| 137/137 [00:10<00:00, 12.60it/s]\n"
     ]
    },
    {
     "name": "stdout",
     "output_type": "stream",
     "text": [
      "Epoch [68/100] 132.05s\n",
      "loss: 0.0033 | val_loss: 0.0037\n"
     ]
    },
    {
     "name": "stderr",
     "output_type": "stream",
     "text": [
      "100%|██████████| 411/411 [02:00<00:00,  3.40it/s]\n",
      "100%|██████████| 137/137 [00:11<00:00, 11.71it/s]\n"
     ]
    },
    {
     "name": "stdout",
     "output_type": "stream",
     "text": [
      "Epoch [69/100] 132.71s\n",
      "loss: 0.0033 | val_loss: 0.0040\n"
     ]
    },
    {
     "name": "stderr",
     "output_type": "stream",
     "text": [
      "100%|██████████| 411/411 [02:01<00:00,  3.40it/s]\n",
      "100%|██████████| 137/137 [00:10<00:00, 12.60it/s]\n"
     ]
    },
    {
     "name": "stdout",
     "output_type": "stream",
     "text": [
      "Epoch [70/100] 131.89s\n",
      "loss: 0.0033 | val_loss: 0.0041\n"
     ]
    },
    {
     "name": "stderr",
     "output_type": "stream",
     "text": [
      "100%|██████████| 411/411 [02:01<00:00,  3.39it/s]\n",
      "100%|██████████| 137/137 [00:11<00:00, 12.39it/s]\n"
     ]
    },
    {
     "name": "stdout",
     "output_type": "stream",
     "text": [
      "Epoch [71/100] 132.20s\n",
      "loss: 0.0033 | val_loss: 0.0041\n"
     ]
    },
    {
     "name": "stderr",
     "output_type": "stream",
     "text": [
      "100%|██████████| 411/411 [02:01<00:00,  3.40it/s]\n",
      "100%|██████████| 137/137 [00:10<00:00, 12.62it/s]\n"
     ]
    },
    {
     "name": "stdout",
     "output_type": "stream",
     "text": [
      "Epoch [72/100] 131.88s\n",
      "loss: 0.0032 | val_loss: 0.0040\n"
     ]
    },
    {
     "name": "stderr",
     "output_type": "stream",
     "text": [
      "100%|██████████| 411/411 [02:01<00:00,  3.39it/s]\n",
      "100%|██████████| 137/137 [00:10<00:00, 12.61it/s]\n"
     ]
    },
    {
     "name": "stdout",
     "output_type": "stream",
     "text": [
      "Epoch [73/100] 132.01s\n",
      "loss: 0.0033 | val_loss: 0.0041\n"
     ]
    },
    {
     "name": "stderr",
     "output_type": "stream",
     "text": [
      "100%|██████████| 411/411 [02:00<00:00,  3.40it/s]\n",
      "100%|██████████| 137/137 [00:10<00:00, 12.55it/s]\n"
     ]
    },
    {
     "name": "stdout",
     "output_type": "stream",
     "text": [
      "Epoch [74/100] 131.89s\n",
      "loss: 0.0032 | val_loss: 0.0039\n"
     ]
    },
    {
     "name": "stderr",
     "output_type": "stream",
     "text": [
      "100%|██████████| 411/411 [02:01<00:00,  3.39it/s]\n",
      "100%|██████████| 137/137 [00:10<00:00, 12.61it/s]\n"
     ]
    },
    {
     "name": "stdout",
     "output_type": "stream",
     "text": [
      "Epoch [75/100] 132.05s\n",
      "loss: 0.0032 | val_loss: 0.0039\n"
     ]
    },
    {
     "name": "stderr",
     "output_type": "stream",
     "text": [
      "100%|██████████| 411/411 [02:00<00:00,  3.40it/s]\n",
      "100%|██████████| 137/137 [00:10<00:00, 12.57it/s]\n"
     ]
    },
    {
     "name": "stdout",
     "output_type": "stream",
     "text": [
      "Epoch [76/100] 131.82s\n",
      "loss: 0.0032 | val_loss: 0.0038\n"
     ]
    },
    {
     "name": "stderr",
     "output_type": "stream",
     "text": [
      "100%|██████████| 411/411 [02:01<00:00,  3.39it/s]\n",
      "100%|██████████| 137/137 [00:10<00:00, 12.66it/s]\n"
     ]
    },
    {
     "name": "stdout",
     "output_type": "stream",
     "text": [
      "Epoch [77/100] 131.98s\n",
      "loss: 0.0032 | val_loss: 0.0040\n"
     ]
    },
    {
     "name": "stderr",
     "output_type": "stream",
     "text": [
      "100%|██████████| 411/411 [02:00<00:00,  3.40it/s]\n",
      "100%|██████████| 137/137 [00:10<00:00, 12.58it/s]\n"
     ]
    },
    {
     "name": "stdout",
     "output_type": "stream",
     "text": [
      "Epoch [78/100] 131.88s\n",
      "loss: 0.0032 | val_loss: 0.0038\n"
     ]
    },
    {
     "name": "stderr",
     "output_type": "stream",
     "text": [
      "100%|██████████| 411/411 [02:01<00:00,  3.39it/s]\n",
      "100%|██████████| 137/137 [00:10<00:00, 12.57it/s]\n"
     ]
    },
    {
     "name": "stdout",
     "output_type": "stream",
     "text": [
      "Epoch [79/100] 132.15s\n",
      "loss: 0.0032 | val_loss: 0.0038\n"
     ]
    },
    {
     "name": "stderr",
     "output_type": "stream",
     "text": [
      "100%|██████████| 411/411 [02:00<00:00,  3.40it/s]\n",
      "100%|██████████| 137/137 [00:10<00:00, 12.57it/s]\n"
     ]
    },
    {
     "name": "stdout",
     "output_type": "stream",
     "text": [
      "Epoch [80/100] 131.87s\n",
      "loss: 0.0032 | val_loss: 0.0037\n"
     ]
    },
    {
     "name": "stderr",
     "output_type": "stream",
     "text": [
      "100%|██████████| 411/411 [02:01<00:00,  3.39it/s]\n",
      "100%|██████████| 137/137 [00:10<00:00, 12.61it/s]\n"
     ]
    },
    {
     "name": "stdout",
     "output_type": "stream",
     "text": [
      "Epoch [81/100] 132.01s\n",
      "loss: 0.0032 | val_loss: 0.0037\n"
     ]
    },
    {
     "name": "stderr",
     "output_type": "stream",
     "text": [
      "100%|██████████| 411/411 [02:01<00:00,  3.39it/s]\n",
      "100%|██████████| 137/137 [00:10<00:00, 12.65it/s]\n"
     ]
    },
    {
     "name": "stdout",
     "output_type": "stream",
     "text": [
      "Epoch [82/100] 131.91s\n",
      "loss: 0.0032 | val_loss: 0.0038\n"
     ]
    },
    {
     "name": "stderr",
     "output_type": "stream",
     "text": [
      "100%|██████████| 411/411 [02:01<00:00,  3.39it/s]\n",
      "100%|██████████| 137/137 [00:10<00:00, 12.61it/s]\n"
     ]
    },
    {
     "name": "stdout",
     "output_type": "stream",
     "text": [
      "Epoch [83/100] 132.08s\n",
      "loss: 0.0032 | val_loss: 0.0037\n"
     ]
    },
    {
     "name": "stderr",
     "output_type": "stream",
     "text": [
      "100%|██████████| 411/411 [02:00<00:00,  3.40it/s]\n",
      "100%|██████████| 137/137 [00:10<00:00, 12.63it/s]\n"
     ]
    },
    {
     "name": "stdout",
     "output_type": "stream",
     "text": [
      "Epoch [84/100] 131.85s\n",
      "loss: 0.0031 | val_loss: 0.0037\n"
     ]
    },
    {
     "name": "stderr",
     "output_type": "stream",
     "text": [
      "100%|██████████| 411/411 [02:01<00:00,  3.39it/s]\n",
      "100%|██████████| 137/137 [00:10<00:00, 12.58it/s]\n"
     ]
    },
    {
     "name": "stdout",
     "output_type": "stream",
     "text": [
      "Epoch [85/100] 132.10s\n",
      "loss: 0.0031 | val_loss: 0.0037\n"
     ]
    },
    {
     "name": "stderr",
     "output_type": "stream",
     "text": [
      "100%|██████████| 411/411 [02:01<00:00,  3.40it/s]\n",
      "100%|██████████| 137/137 [00:10<00:00, 12.58it/s]\n"
     ]
    },
    {
     "name": "stdout",
     "output_type": "stream",
     "text": [
      "Epoch [86/100] 131.90s\n",
      "loss: 0.0031 | val_loss: 0.0037\n"
     ]
    },
    {
     "name": "stderr",
     "output_type": "stream",
     "text": [
      "100%|██████████| 411/411 [02:01<00:00,  3.39it/s]\n",
      "100%|██████████| 137/137 [00:10<00:00, 12.63it/s]\n"
     ]
    },
    {
     "name": "stdout",
     "output_type": "stream",
     "text": [
      "Epoch [87/100] 132.04s\n",
      "loss: 0.0031 | val_loss: 0.0036\n"
     ]
    },
    {
     "name": "stderr",
     "output_type": "stream",
     "text": [
      "100%|██████████| 411/411 [02:00<00:00,  3.40it/s]\n",
      "100%|██████████| 137/137 [00:10<00:00, 12.58it/s]\n"
     ]
    },
    {
     "name": "stdout",
     "output_type": "stream",
     "text": [
      "Epoch [88/100] 131.80s\n",
      "loss: 0.0031 | val_loss: 0.0036\n"
     ]
    },
    {
     "name": "stderr",
     "output_type": "stream",
     "text": [
      "100%|██████████| 411/411 [02:01<00:00,  3.40it/s]\n",
      "100%|██████████| 137/137 [00:10<00:00, 12.66it/s]\n"
     ]
    },
    {
     "name": "stdout",
     "output_type": "stream",
     "text": [
      "Epoch [89/100] 131.88s\n",
      "loss: 0.0031 | val_loss: 0.0035\n"
     ]
    },
    {
     "name": "stderr",
     "output_type": "stream",
     "text": [
      "100%|██████████| 411/411 [02:00<00:00,  3.40it/s]\n",
      "100%|██████████| 137/137 [00:11<00:00, 11.96it/s]\n"
     ]
    },
    {
     "name": "stdout",
     "output_type": "stream",
     "text": [
      "Epoch [90/100] 132.37s\n",
      "loss: 0.0031 | val_loss: 0.0037\n"
     ]
    },
    {
     "name": "stderr",
     "output_type": "stream",
     "text": [
      "100%|██████████| 411/411 [02:01<00:00,  3.39it/s]\n",
      "100%|██████████| 137/137 [00:10<00:00, 12.61it/s]\n"
     ]
    },
    {
     "name": "stdout",
     "output_type": "stream",
     "text": [
      "Epoch [91/100] 132.05s\n",
      "loss: 0.0031 | val_loss: 0.0036\n"
     ]
    },
    {
     "name": "stderr",
     "output_type": "stream",
     "text": [
      "100%|██████████| 411/411 [02:01<00:00,  3.39it/s]\n",
      "100%|██████████| 137/137 [00:11<00:00, 11.84it/s]\n"
     ]
    },
    {
     "name": "stdout",
     "output_type": "stream",
     "text": [
      "Epoch [92/100] 132.65s\n",
      "loss: 0.0031 | val_loss: 0.0036\n"
     ]
    },
    {
     "name": "stderr",
     "output_type": "stream",
     "text": [
      "100%|██████████| 411/411 [02:00<00:00,  3.40it/s]\n",
      "100%|██████████| 137/137 [00:10<00:00, 12.62it/s]\n"
     ]
    },
    {
     "name": "stdout",
     "output_type": "stream",
     "text": [
      "Epoch [93/100] 131.84s\n",
      "loss: 0.0030 | val_loss: 0.0036\n"
     ]
    },
    {
     "name": "stderr",
     "output_type": "stream",
     "text": [
      "100%|██████████| 411/411 [02:01<00:00,  3.40it/s]\n",
      "100%|██████████| 137/137 [00:10<00:00, 12.48it/s]\n"
     ]
    },
    {
     "name": "stdout",
     "output_type": "stream",
     "text": [
      "Epoch [94/100] 132.02s\n",
      "loss: 0.0030 | val_loss: 0.0036\n"
     ]
    },
    {
     "name": "stderr",
     "output_type": "stream",
     "text": [
      "100%|██████████| 411/411 [02:00<00:00,  3.40it/s]\n",
      "100%|██████████| 137/137 [00:10<00:00, 12.64it/s]\n"
     ]
    },
    {
     "name": "stdout",
     "output_type": "stream",
     "text": [
      "Epoch [95/100] 131.84s\n",
      "loss: 0.0030 | val_loss: 0.0036\n"
     ]
    },
    {
     "name": "stderr",
     "output_type": "stream",
     "text": [
      "100%|██████████| 411/411 [02:01<00:00,  3.39it/s]\n",
      "100%|██████████| 137/137 [00:10<00:00, 12.53it/s]\n"
     ]
    },
    {
     "name": "stdout",
     "output_type": "stream",
     "text": [
      "Epoch [96/100] 132.16s\n",
      "loss: 0.0030 | val_loss: 0.0036\n"
     ]
    },
    {
     "name": "stderr",
     "output_type": "stream",
     "text": [
      "100%|██████████| 411/411 [02:00<00:00,  3.40it/s]\n",
      "100%|██████████| 137/137 [00:10<00:00, 12.58it/s]\n"
     ]
    },
    {
     "name": "stdout",
     "output_type": "stream",
     "text": [
      "Epoch [97/100] 131.81s\n",
      "loss: 0.0030 | val_loss: 0.0036\n"
     ]
    },
    {
     "name": "stderr",
     "output_type": "stream",
     "text": [
      "100%|██████████| 411/411 [02:01<00:00,  3.40it/s]\n",
      "100%|██████████| 137/137 [00:10<00:00, 12.62it/s]\n"
     ]
    },
    {
     "name": "stdout",
     "output_type": "stream",
     "text": [
      "Epoch [98/100] 131.92s\n",
      "loss: 0.0030 | val_loss: 0.0035\n"
     ]
    },
    {
     "name": "stderr",
     "output_type": "stream",
     "text": [
      "100%|██████████| 411/411 [02:00<00:00,  3.40it/s]\n",
      "100%|██████████| 137/137 [00:10<00:00, 12.58it/s]\n"
     ]
    },
    {
     "name": "stdout",
     "output_type": "stream",
     "text": [
      "Epoch [99/100] 131.84s\n",
      "loss: 0.0030 | val_loss: 0.0035\n"
     ]
    },
    {
     "name": "stderr",
     "output_type": "stream",
     "text": [
      "100%|██████████| 411/411 [02:01<00:00,  3.40it/s]\n",
      "100%|██████████| 137/137 [00:10<00:00, 12.61it/s]"
     ]
    },
    {
     "name": "stdout",
     "output_type": "stream",
     "text": [
      "Epoch [100/100] 131.93s\n",
      "loss: 0.0030 | val_loss: 0.0035\n",
      "Train time: 13206.59s\n",
      "Best Epoch: 98, Best mse: 0.0035\n"
     ]
    },
    {
     "name": "stderr",
     "output_type": "stream",
     "text": [
      "\n"
     ]
    }
   ],
   "source": [
    "optimizer = torch.optim.AdamW(model.parameters(), lr=.001)\n",
    "criterion = nn.MSELoss()\n",
    "epochs = 100\n",
    "# gpu 0 사용\n",
    "device = torch.device('cuda:0' if torch.cuda.is_available() else 'cpu')\n",
    "\n",
    "train_loss, val_loss = train(model, optimizer, criterion, epochs, train_loader, val_loader, device, path=path+'best_ConvLSTM')"
   ]
  },
  {
   "cell_type": "code",
   "execution_count": 9,
   "id": "e765acad",
   "metadata": {},
   "outputs": [],
   "source": [
    "with open(path + \"train_loss.pkl\",\"wb\") as f:\n",
    "    pickle.dump(train_loss, f)\n",
    "    \n",
    "with open(path + \"val_loss.pkl\",\"wb\") as f:\n",
    "    pickle.dump(val_loss, f)"
   ]
  },
  {
   "cell_type": "code",
   "execution_count": 10,
   "id": "db1d1b1e",
   "metadata": {},
   "outputs": [
    {
     "data": {
      "image/png": "[encoded data removed]",
      "text/plain": [
       "<Figure size 640x480 with 1 Axes>"
      ]
     },
     "metadata": {},
     "output_type": "display_data"
    }
   ],
   "source": [
    "plt.title('ConvLSTM')\n",
    "plt.plot(train_loss, label='train')\n",
    "plt.plot(val_loss, label='val')\n",
    "plt.xlabel('epochs')\n",
    "plt.ylabel('losses(MSE)')\n",
    "plt.legend()\n",
    "plt.show()"
   ]
  }
 ],
 "metadata": {
  "kernelspec": {
   "display_name": "horovod0.25.0-tf2.11.0-torch2.0.0-py3.10-cuda11.8",
   "language": "python",
   "name": "horovod0.25.0-tf2.11.0-torch2.0.0-py3.10-cuda11.8"
  },
  "language_info": {
   "codemirror_mode": {
    "name": "ipython",
    "version": 3
   },
   "file_extension": ".py",
   "mimetype": "text/x-python",
   "name": "python",
   "nbconvert_exporter": "python",
   "pygments_lexer": "ipython3",
   "version": "3.10.12"
  }
 },
 "nbformat": 4,
 "nbformat_minor": 5
}
