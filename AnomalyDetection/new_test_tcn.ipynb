{
 "cells": [
  {
   "cell_type": "code",
   "execution_count": 1,
   "metadata": {},
   "outputs": [
    {
     "name": "stderr",
     "output_type": "stream",
     "text": [
      "2024-01-23 06:22:08.203736: E tensorflow/compiler/xla/stream_executor/cuda/cuda_dnn.cc:9342] Unable to register cuDNN factory: Attempting to register factory for plugin cuDNN when one has already been registered\n",
      "2024-01-23 06:22:08.203792: E tensorflow/compiler/xla/stream_executor/cuda/cuda_fft.cc:609] Unable to register cuFFT factory: Attempting to register factory for plugin cuFFT when one has already been registered\n",
      "2024-01-23 06:22:08.203814: E tensorflow/compiler/xla/stream_executor/cuda/cuda_blas.cc:1518] Unable to register cuBLAS factory: Attempting to register factory for plugin cuBLAS when one has already been registered\n",
      "2024-01-23 06:22:08.208859: I tensorflow/core/platform/cpu_feature_guard.cc:182] This TensorFlow binary is optimized to use available CPU instructions in performance-critical operations.\n",
      "To enable the following instructions: AVX2 FMA, in other operations, rebuild TensorFlow with the appropriate compiler flags.\n"
     ]
    }
   ],
   "source": [
    "import pickle\n",
    "import numpy as np\n",
    "import pandas as pd\n",
    "import matplotlib.pyplot as plt\n",
    "\n",
    "import tensorflow as tf\n",
    "from tensorflow.keras import models, layers, optimizers\n",
    "from utils import create_sequences"
   ]
  },
  {
   "cell_type": "code",
   "execution_count": 2,
   "metadata": {},
   "outputs": [],
   "source": [
    "df = pd.read_csv('./dataset/anomaly_dataset.csv').set_index('timestamp')\n",
    "max_val = np.max(df.values)\n",
    "\n",
    "seq_data = create_sequences(df, seq_len=24)\n",
    "seq_data /= max_val"
   ]
  },
  {
   "cell_type": "code",
   "execution_count": 3,
   "metadata": {},
   "outputs": [
    {
     "name": "stdout",
     "output_type": "stream",
     "text": [
      "train data: 26280\n",
      "validation data: 8760\n",
      "test data: 3601\n"
     ]
    }
   ],
   "source": [
    "train = seq_data[:(365 * 24 * 3)]\n",
    "val = seq_data[(365 * 24 * 3):(365 * 24 * 4)]\n",
    "test = seq_data[(365 * 24 * 4):]\n",
    "\n",
    "print(f'train data: {len(train)}')\n",
    "print(f'validation data: {len(val)}')\n",
    "print(f'test data: {len(test)}')"
   ]
  },
  {
   "cell_type": "code",
   "execution_count": 11,
   "metadata": {},
   "outputs": [],
   "source": [
    "# 1(잔차 연결 x)\n",
    "class TCN(layers.Layer):\n",
    "    def __init__(self, output_dim, kernel_size, dilations:list):\n",
    "        super(TCN, self).__init__()\n",
    "        self.tcns = [layers.Conv1D(output_dim, kernel_size, padding='causal', dilation_rate=dilation, activation='relu') for dilation in dilations]\n",
    "\n",
    "    def call(self, x):\n",
    "        for tcn in self.tcns:\n",
    "            x = tcn(x)\n",
    "        return x"
   ]
  },
  {
   "cell_type": "code",
   "execution_count": 12,
   "metadata": {},
   "outputs": [],
   "source": [
    "class Encoder(models.Model):\n",
    "\n",
    "    def __init__(self, seq_length, latent_dim):\n",
    "        super(Encoder, self).__init__()\n",
    "\n",
    "        self.h1 = TCN(128, kernel_size=3, dilations=[1, 2, 4, 8])  # (seq_len, input_dim) -> (seq_len, 128))\n",
    "        self.h2 = layers.Dense(latent_dim) # (seq_len , 128) -> (latent_dim)\n",
    "        self.h3 = layers.RepeatVector(seq_length) # (latent_dim) -> (seq_length, latent_dim)\n",
    "\n",
    "    def call(self, x):\n",
    "        x = self.h1(x)\n",
    "        x = layers.Flatten()(x)\n",
    "        z = self.h2(x)\n",
    "        z_rep = self.h3(z)\n",
    "\n",
    "        return z, z_rep\n",
    "\n",
    "\n",
    "class Decoder(models.Model):\n",
    "\n",
    "    def __init__(self, input_dim, latent_dim):\n",
    "        super(Decoder, self).__init__()\n",
    "\n",
    "        # self.h1 = layers.Conv(latent_dim, return_sequences=True) # (seq_length, latent_dim) -> (seq_len, input_dim)\n",
    "        self.h1 = TCN(128, kernel_size=3, dilations=[1, 2, 4, 8]) # (seq_len, input_dim) -> (seq_length, 128)\n",
    "        self.h2 = layers.TimeDistributed(layers.Dense(input_dim)) # (seq_length, 128) -> (seq_length, input_dim)\n",
    "\n",
    "    def call(self, x):\n",
    "        x = self.h1(x)\n",
    "        x = self.h2(x)\n",
    "        # x = self.h3(x)\n",
    "\n",
    "        return x\n",
    "\n",
    "\n",
    "\n",
    "class LstmAE(models.Model):\n",
    "\n",
    "    def __init__(self, seq_length, input_dim, latent_dim):\n",
    "        super(LstmAE, self).__init__()\n",
    "\n",
    "        self.encoder = Encoder(seq_length, latent_dim)\n",
    "        self.decoder = Decoder(input_dim, latent_dim)\n",
    "\n",
    "    def call(self, x):\n",
    "        z, z_rep = self.encoder(x)\n",
    "        decoded = self.decoder(z_rep)\n",
    "\n",
    "        return decoded"
   ]
  },
  {
   "cell_type": "code",
   "execution_count": 13,
   "metadata": {},
   "outputs": [
    {
     "name": "stdout",
     "output_type": "stream",
     "text": [
      "Model: \"lstm_ae_2\"\n",
      "_________________________________________________________________\n",
      " Layer (type)                Output Shape              Param #   \n",
      "=================================================================\n",
      " encoder_2 (Encoder)         multiple                  345024    \n",
      "                                                                 \n",
      " decoder (Decoder)           multiple                  172673    \n",
      "                                                                 \n",
      "=================================================================\n",
      "Total params: 517697 (1.97 MB)\n",
      "Trainable params: 517697 (1.97 MB)\n",
      "Non-trainable params: 0 (0.00 Byte)\n",
      "_________________________________________________________________\n"
     ]
    }
   ],
   "source": [
    "model = LstmAE(seq_length=24, input_dim=1, latent_dim=64)\n",
    "model.build(input_shape=(None, train.shape[1], train.shape[2]))\n",
    "model.summary()"
   ]
  },
  {
   "cell_type": "code",
   "execution_count": 14,
   "metadata": {},
   "outputs": [],
   "source": [
    "optim = optimizers.Adam(learning_rate=.001)\n",
    "model.compile(optimizer=optim, loss='mse')"
   ]
  },
  {
   "cell_type": "code",
   "execution_count": 15,
   "metadata": {},
   "outputs": [
    {
     "name": "stdout",
     "output_type": "stream",
     "text": [
      "Epoch 1/50\n"
     ]
    },
    {
     "name": "stderr",
     "output_type": "stream",
     "text": [
      "2024-01-23 06:31:06.884612: I tensorflow/compiler/xla/stream_executor/cuda/cuda_dnn.cc:442] Loaded cuDNN version 8600\n",
      "2024-01-23 06:31:07.728329: I tensorflow/compiler/xla/service/service.cc:168] XLA service 0x7faa34005bb0 initialized for platform CUDA (this does not guarantee that XLA will be used). Devices:\n",
      "2024-01-23 06:31:07.728368: I tensorflow/compiler/xla/service/service.cc:176]   StreamExecutor device (0): NVIDIA GeForce RTX 3070, Compute Capability 8.6\n",
      "2024-01-23 06:31:07.732382: I tensorflow/compiler/mlir/tensorflow/utils/dump_mlir_util.cc:269] disabling MLIR crash reproducer, set env var `MLIR_CRASH_REPRODUCER_DIRECTORY` to enable.\n",
      "2024-01-23 06:31:07.807282: I ./tensorflow/compiler/jit/device_compiler.h:186] Compiled cluster using XLA!  This line is logged at most once for the lifetime of the process.\n"
     ]
    },
    {
     "name": "stdout",
     "output_type": "stream",
     "text": [
      "411/411 [==============================] - 9s 14ms/step - loss: 0.0055 - val_loss: 9.6644e-04\n",
      "Epoch 2/50\n",
      "411/411 [==============================] - 4s 10ms/step - loss: 6.4589e-04 - val_loss: 4.2490e-04\n",
      "Epoch 3/50\n",
      "411/411 [==============================] - 5s 11ms/step - loss: 3.6521e-04 - val_loss: 3.4356e-04\n",
      "Epoch 4/50\n",
      "411/411 [==============================] - 5s 12ms/step - loss: 3.0872e-04 - val_loss: 2.3587e-04\n",
      "Epoch 5/50\n",
      "411/411 [==============================] - 5s 12ms/step - loss: 1.8554e-04 - val_loss: 2.7871e-04\n",
      "Epoch 6/50\n",
      "411/411 [==============================] - 5s 12ms/step - loss: 1.8838e-04 - val_loss: 1.4680e-04\n",
      "Epoch 7/50\n",
      "411/411 [==============================] - 5s 12ms/step - loss: 1.8909e-04 - val_loss: 1.4672e-04\n",
      "Epoch 8/50\n",
      "411/411 [==============================] - 5s 12ms/step - loss: 1.4736e-04 - val_loss: 2.0228e-04\n",
      "Epoch 9/50\n",
      "411/411 [==============================] - 5s 12ms/step - loss: 1.3296e-04 - val_loss: 7.5305e-05\n",
      "Epoch 10/50\n",
      "411/411 [==============================] - 5s 12ms/step - loss: 1.3582e-04 - val_loss: 7.2885e-05\n",
      "Epoch 11/50\n",
      "411/411 [==============================] - 5s 12ms/step - loss: 8.2569e-05 - val_loss: 6.5821e-05\n",
      "Epoch 12/50\n",
      "411/411 [==============================] - 5s 12ms/step - loss: 7.5033e-05 - val_loss: 7.1620e-05\n",
      "Epoch 13/50\n",
      "411/411 [==============================] - 5s 12ms/step - loss: 6.9035e-05 - val_loss: 6.3644e-05\n",
      "Epoch 14/50\n",
      "411/411 [==============================] - 5s 12ms/step - loss: 8.7060e-05 - val_loss: 4.6838e-05\n",
      "Epoch 15/50\n",
      "411/411 [==============================] - 5s 12ms/step - loss: 6.2257e-05 - val_loss: 5.2002e-05\n",
      "Epoch 16/50\n",
      "411/411 [==============================] - 5s 12ms/step - loss: 6.3057e-05 - val_loss: 6.8344e-05\n",
      "Epoch 17/50\n",
      "411/411 [==============================] - 5s 12ms/step - loss: 6.3486e-05 - val_loss: 4.5639e-05\n",
      "Epoch 18/50\n",
      "411/411 [==============================] - 5s 12ms/step - loss: 9.3609e-05 - val_loss: 6.6756e-05\n",
      "Epoch 19/50\n",
      "411/411 [==============================] - 5s 12ms/step - loss: 3.5006e-05 - val_loss: 4.4563e-05\n",
      "Epoch 20/50\n",
      "411/411 [==============================] - 5s 12ms/step - loss: 7.4560e-05 - val_loss: 2.8127e-05\n",
      "Epoch 21/50\n",
      "411/411 [==============================] - 5s 12ms/step - loss: 2.5442e-05 - val_loss: 2.9798e-05\n",
      "Epoch 22/50\n",
      "411/411 [==============================] - 5s 12ms/step - loss: 4.2264e-05 - val_loss: 4.6350e-05\n",
      "Epoch 23/50\n",
      "411/411 [==============================] - 5s 12ms/step - loss: 1.1694e-04 - val_loss: 2.3781e-05\n",
      "Epoch 24/50\n",
      "411/411 [==============================] - 5s 12ms/step - loss: 2.0683e-05 - val_loss: 1.8512e-05\n",
      "Epoch 25/50\n",
      "411/411 [==============================] - 5s 12ms/step - loss: 5.0783e-05 - val_loss: 3.3237e-05\n",
      "Epoch 26/50\n",
      "411/411 [==============================] - 5s 12ms/step - loss: 2.3673e-05 - val_loss: 2.9125e-05\n",
      "Epoch 27/50\n",
      "411/411 [==============================] - 5s 12ms/step - loss: 3.5192e-05 - val_loss: 1.8252e-05\n",
      "Epoch 28/50\n",
      "411/411 [==============================] - 5s 12ms/step - loss: 4.4156e-05 - val_loss: 1.9904e-05\n",
      "Epoch 29/50\n",
      "411/411 [==============================] - 5s 12ms/step - loss: 2.3474e-05 - val_loss: 1.8114e-05\n",
      "Epoch 30/50\n",
      "411/411 [==============================] - 5s 12ms/step - loss: 5.0088e-05 - val_loss: 7.3087e-05\n",
      "Epoch 31/50\n",
      "411/411 [==============================] - 5s 12ms/step - loss: 1.9656e-05 - val_loss: 1.5220e-05\n",
      "Epoch 32/50\n",
      "411/411 [==============================] - 5s 12ms/step - loss: 2.8959e-05 - val_loss: 2.9787e-05\n",
      "Epoch 33/50\n",
      "411/411 [==============================] - 5s 12ms/step - loss: 3.1533e-05 - val_loss: 5.1512e-05\n",
      "Epoch 34/50\n",
      "411/411 [==============================] - 5s 12ms/step - loss: 2.2005e-05 - val_loss: 9.4688e-06\n",
      "Epoch 35/50\n",
      "411/411 [==============================] - 5s 12ms/step - loss: 4.1948e-05 - val_loss: 1.7129e-05\n",
      "Epoch 36/50\n",
      "411/411 [==============================] - 5s 12ms/step - loss: 1.4134e-05 - val_loss: 4.1562e-05\n",
      "Epoch 37/50\n",
      "411/411 [==============================] - 5s 12ms/step - loss: 1.9979e-05 - val_loss: 2.9486e-05\n",
      "Epoch 38/50\n",
      "411/411 [==============================] - 5s 12ms/step - loss: 3.9754e-05 - val_loss: 9.2551e-06\n",
      "Epoch 39/50\n",
      "411/411 [==============================] - 5s 12ms/step - loss: 1.0388e-05 - val_loss: 1.1294e-05\n",
      "Epoch 40/50\n",
      "411/411 [==============================] - 5s 12ms/step - loss: 1.8965e-05 - val_loss: 3.0332e-05\n",
      "Epoch 41/50\n",
      "411/411 [==============================] - 5s 12ms/step - loss: 2.8803e-05 - val_loss: 2.3760e-05\n",
      "Epoch 42/50\n",
      "411/411 [==============================] - 5s 12ms/step - loss: 2.7309e-05 - val_loss: 1.4732e-05\n",
      "Epoch 43/50\n",
      "411/411 [==============================] - 5s 12ms/step - loss: 1.7312e-05 - val_loss: 2.5282e-05\n",
      "Epoch 44/50\n",
      "411/411 [==============================] - 5s 12ms/step - loss: 3.1437e-05 - val_loss: 1.2054e-05\n",
      "Epoch 45/50\n",
      "411/411 [==============================] - 5s 12ms/step - loss: 1.6599e-05 - val_loss: 2.7142e-05\n",
      "Epoch 46/50\n",
      "411/411 [==============================] - 5s 12ms/step - loss: 1.9885e-05 - val_loss: 1.3463e-05\n",
      "Epoch 47/50\n",
      "411/411 [==============================] - 5s 12ms/step - loss: 1.8648e-05 - val_loss: 3.0978e-05\n",
      "Epoch 48/50\n",
      "411/411 [==============================] - 5s 12ms/step - loss: 2.2409e-05 - val_loss: 8.0854e-06\n",
      "Epoch 49/50\n",
      "411/411 [==============================] - 5s 12ms/step - loss: 2.3543e-05 - val_loss: 9.5105e-06\n",
      "Epoch 50/50\n",
      "411/411 [==============================] - 5s 12ms/step - loss: 1.9912e-05 - val_loss: 2.3233e-05\n"
     ]
    }
   ],
   "source": [
    "history = model.fit(train, train, epochs=50, batch_size=64, validation_data=(val, val))"
   ]
  },
  {
   "cell_type": "code",
   "execution_count": 16,
   "metadata": {},
   "outputs": [
    {
     "name": "stdout",
     "output_type": "stream",
     "text": [
      "INFO:tensorflow:Assets written to: ./models/new_TCNAE/new_TCNAE/assets\n"
     ]
    },
    {
     "name": "stderr",
     "output_type": "stream",
     "text": [
      "INFO:tensorflow:Assets written to: ./models/new_TCNAE/new_TCNAE/assets\n"
     ]
    }
   ],
   "source": [
    "model.save('./models/new_TCNAE/new_TCNAE')\n",
    "\n",
    "with open('./models/new_TCNAE/new_TCNAE_hist.pkl', 'wb') as f:\n",
    "    pickle.dump(history.history, f)"
   ]
  }
 ],
 "metadata": {
  "kernelspec": {
   "display_name": "Python 3",
   "language": "python",
   "name": "python3"
  },
  "language_info": {
   "codemirror_mode": {
    "name": "ipython",
    "version": 3
   },
   "file_extension": ".py",
   "mimetype": "text/x-python",
   "name": "python",
   "nbconvert_exporter": "python",
   "pygments_lexer": "ipython3",
   "version": "3.11.0rc1"
  }
 },
 "nbformat": 4,
 "nbformat_minor": 2
}
