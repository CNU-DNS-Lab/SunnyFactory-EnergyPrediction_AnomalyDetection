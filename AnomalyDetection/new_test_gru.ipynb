{
 "cells": [
  {
   "cell_type": "code",
   "execution_count": 1,
   "metadata": {},
   "outputs": [
    {
     "name": "stderr",
     "output_type": "stream",
     "text": [
      "2024-01-23 06:09:48.475138: E tensorflow/compiler/xla/stream_executor/cuda/cuda_dnn.cc:9342] Unable to register cuDNN factory: Attempting to register factory for plugin cuDNN when one has already been registered\n",
      "2024-01-23 06:09:48.475185: E tensorflow/compiler/xla/stream_executor/cuda/cuda_fft.cc:609] Unable to register cuFFT factory: Attempting to register factory for plugin cuFFT when one has already been registered\n",
      "2024-01-23 06:09:48.475208: E tensorflow/compiler/xla/stream_executor/cuda/cuda_blas.cc:1518] Unable to register cuBLAS factory: Attempting to register factory for plugin cuBLAS when one has already been registered\n",
      "2024-01-23 06:09:48.480918: I tensorflow/core/platform/cpu_feature_guard.cc:182] This TensorFlow binary is optimized to use available CPU instructions in performance-critical operations.\n",
      "To enable the following instructions: AVX2 FMA, in other operations, rebuild TensorFlow with the appropriate compiler flags.\n"
     ]
    }
   ],
   "source": [
    "import pickle\n",
    "import numpy as np\n",
    "import pandas as pd\n",
    "import matplotlib.pyplot as plt\n",
    "\n",
    "import tensorflow as tf\n",
    "from tensorflow.keras import models, layers, optimizers\n",
    "from utils import create_sequences"
   ]
  },
  {
   "cell_type": "code",
   "execution_count": 2,
   "metadata": {},
   "outputs": [],
   "source": [
    "df = pd.read_csv('./dataset/anomaly_dataset.csv').set_index('timestamp')\n",
    "max_val = np.max(df.values)\n",
    "\n",
    "seq_data = create_sequences(df, seq_len=24)\n",
    "seq_data /= max_val"
   ]
  },
  {
   "cell_type": "code",
   "execution_count": 3,
   "metadata": {},
   "outputs": [
    {
     "name": "stdout",
     "output_type": "stream",
     "text": [
      "train data: 26280\n",
      "validation data: 8760\n",
      "test data: 3601\n"
     ]
    }
   ],
   "source": [
    "train = seq_data[:(365 * 24 * 3)]\n",
    "val = seq_data[(365 * 24 * 3):(365 * 24 * 4)]\n",
    "test = seq_data[(365 * 24 * 4):]\n",
    "\n",
    "print(f'train data: {len(train)}')\n",
    "print(f'validation data: {len(val)}')\n",
    "print(f'test data: {len(test)}')"
   ]
  },
  {
   "cell_type": "code",
   "execution_count": 4,
   "metadata": {},
   "outputs": [],
   "source": [
    "class Encoder(models.Model):\n",
    "\n",
    "    def __init__(self, seq_length, latent_dim):\n",
    "        super(Encoder, self).__init__()\n",
    "\n",
    "        self.h1 = layers.GRU(128, return_sequences=True)  # (seq_len, input_dim) -> (seq_len, 128))\n",
    "        self.h2 = layers.GRU(latent_dim, return_sequences=False) # (seq_len , 128) -> (latent_dim)\n",
    "        self.h3 = layers.RepeatVector(seq_length) # (latent_dim) -> (seq_length, latent_dim)\n",
    "\n",
    "    def call(self, x):\n",
    "        x = self.h1(x)\n",
    "        z = self.h2(x)\n",
    "        z_rep = self.h3(z)\n",
    "\n",
    "        return z, z_rep\n",
    "\n",
    "\n",
    "class Decoder(models.Model):\n",
    "\n",
    "    def __init__(self, input_dim, latent_dim):\n",
    "        super(Decoder, self).__init__()\n",
    "\n",
    "        self.h1 = layers.GRU(latent_dim, return_sequences=True) # (seq_length, latent_dim) -> (seq_len, input_dim)\n",
    "        self.h2 = layers.GRU(128, return_sequences=True) # (seq_len, input_dim) -> (seq_length, 128)\n",
    "        self.h3 = layers.TimeDistributed(layers.Dense(input_dim)) # (seq_length, 128) -> (seq_length, input_dim)\n",
    "\n",
    "    def call(self, x):\n",
    "        x = self.h1(x)\n",
    "        x = self.h2(x)\n",
    "        x = self.h3(x)\n",
    "\n",
    "        return x\n",
    "\n",
    "\n",
    "\n",
    "class LstmAE(models.Model):\n",
    "\n",
    "    def __init__(self, seq_length, input_dim, latent_dim):\n",
    "        super(LstmAE, self).__init__()\n",
    "\n",
    "        self.encoder = Encoder(seq_length, latent_dim)\n",
    "        self.decoder = Decoder(input_dim, latent_dim)\n",
    "\n",
    "    def call(self, x):\n",
    "        z, z_rep = self.encoder(x)\n",
    "        decoded = self.decoder(z_rep)\n",
    "\n",
    "        return decoded"
   ]
  },
  {
   "cell_type": "code",
   "execution_count": 5,
   "metadata": {},
   "outputs": [
    {
     "name": "stderr",
     "output_type": "stream",
     "text": [
      "2024-01-23 06:09:51.139566: I tensorflow/compiler/xla/stream_executor/cuda/cuda_gpu_executor.cc:880] could not open file to read NUMA node: /sys/bus/pci/devices/0000:01:00.0/numa_node\n",
      "Your kernel may have been built without NUMA support.\n",
      "2024-01-23 06:09:51.163799: I tensorflow/compiler/xla/stream_executor/cuda/cuda_gpu_executor.cc:880] could not open file to read NUMA node: /sys/bus/pci/devices/0000:01:00.0/numa_node\n",
      "Your kernel may have been built without NUMA support.\n",
      "2024-01-23 06:09:51.163840: I tensorflow/compiler/xla/stream_executor/cuda/cuda_gpu_executor.cc:880] could not open file to read NUMA node: /sys/bus/pci/devices/0000:01:00.0/numa_node\n",
      "Your kernel may have been built without NUMA support.\n",
      "2024-01-23 06:09:51.166289: I tensorflow/compiler/xla/stream_executor/cuda/cuda_gpu_executor.cc:880] could not open file to read NUMA node: /sys/bus/pci/devices/0000:01:00.0/numa_node\n",
      "Your kernel may have been built without NUMA support.\n",
      "2024-01-23 06:09:51.166326: I tensorflow/compiler/xla/stream_executor/cuda/cuda_gpu_executor.cc:880] could not open file to read NUMA node: /sys/bus/pci/devices/0000:01:00.0/numa_node\n",
      "Your kernel may have been built without NUMA support.\n",
      "2024-01-23 06:09:51.166346: I tensorflow/compiler/xla/stream_executor/cuda/cuda_gpu_executor.cc:880] could not open file to read NUMA node: /sys/bus/pci/devices/0000:01:00.0/numa_node\n",
      "Your kernel may have been built without NUMA support.\n",
      "2024-01-23 06:09:51.318002: I tensorflow/compiler/xla/stream_executor/cuda/cuda_gpu_executor.cc:880] could not open file to read NUMA node: /sys/bus/pci/devices/0000:01:00.0/numa_node\n",
      "Your kernel may have been built without NUMA support.\n",
      "2024-01-23 06:09:51.318054: I tensorflow/compiler/xla/stream_executor/cuda/cuda_gpu_executor.cc:880] could not open file to read NUMA node: /sys/bus/pci/devices/0000:01:00.0/numa_node\n",
      "Your kernel may have been built without NUMA support.\n",
      "2024-01-23 06:09:51.318061: I tensorflow/core/common_runtime/gpu/gpu_device.cc:1977] Could not identify NUMA node of platform GPU id 0, defaulting to 0.  Your kernel may not have been built with NUMA support.\n",
      "2024-01-23 06:09:51.318091: I tensorflow/compiler/xla/stream_executor/cuda/cuda_gpu_executor.cc:880] could not open file to read NUMA node: /sys/bus/pci/devices/0000:01:00.0/numa_node\n",
      "Your kernel may have been built without NUMA support.\n",
      "2024-01-23 06:09:51.318108: I tensorflow/core/common_runtime/gpu/gpu_device.cc:1886] Created device /job:localhost/replica:0/task:0/device:GPU:0 with 1843 MB memory:  -> device: 0, name: NVIDIA GeForce RTX 3070, pci bus id: 0000:01:00.0, compute capability: 8.6\n"
     ]
    },
    {
     "name": "stdout",
     "output_type": "stream",
     "text": [
      "Model: \"lstm_ae\"\n",
      "_________________________________________________________________\n",
      " Layer (type)                Output Shape              Param #   \n",
      "=================================================================\n",
      " encoder (Encoder)           multiple                  87552     \n",
      "                                                                 \n",
      " decoder (Decoder)           multiple                  99585     \n",
      "                                                                 \n",
      "=================================================================\n",
      "Total params: 187137 (731.00 KB)\n",
      "Trainable params: 187137 (731.00 KB)\n",
      "Non-trainable params: 0 (0.00 Byte)\n",
      "_________________________________________________________________\n"
     ]
    }
   ],
   "source": [
    "model = LstmAE(24, 1, 64)\n",
    "model.build(input_shape=(None, train.shape[1], train.shape[2]))\n",
    "model.summary()"
   ]
  },
  {
   "cell_type": "code",
   "execution_count": 6,
   "metadata": {},
   "outputs": [],
   "source": [
    "optim = optimizers.Adam(learning_rate=.001)\n",
    "model.compile(optimizer=optim, loss='mse')"
   ]
  },
  {
   "cell_type": "code",
   "execution_count": 7,
   "metadata": {},
   "outputs": [
    {
     "name": "stdout",
     "output_type": "stream",
     "text": [
      "Epoch 1/50\n"
     ]
    },
    {
     "name": "stderr",
     "output_type": "stream",
     "text": [
      "2024-01-23 06:10:02.645995: I tensorflow/compiler/xla/stream_executor/cuda/cuda_dnn.cc:442] Loaded cuDNN version 8600\n",
      "2024-01-23 06:10:03.056535: I tensorflow/compiler/xla/service/service.cc:168] XLA service 0x7f9fc828e0b0 initialized for platform CUDA (this does not guarantee that XLA will be used). Devices:\n",
      "2024-01-23 06:10:03.056567: I tensorflow/compiler/xla/service/service.cc:176]   StreamExecutor device (0): NVIDIA GeForce RTX 3070, Compute Capability 8.6\n",
      "2024-01-23 06:10:03.060750: I tensorflow/compiler/mlir/tensorflow/utils/dump_mlir_util.cc:269] disabling MLIR crash reproducer, set env var `MLIR_CRASH_REPRODUCER_DIRECTORY` to enable.\n",
      "2024-01-23 06:10:03.134322: I ./tensorflow/compiler/jit/device_compiler.h:186] Compiled cluster using XLA!  This line is logged at most once for the lifetime of the process.\n"
     ]
    },
    {
     "name": "stdout",
     "output_type": "stream",
     "text": [
      "411/411 [==============================] - 12s 16ms/step - loss: 0.0121 - val_loss: 0.0043\n",
      "Epoch 2/50\n",
      "411/411 [==============================] - 5s 12ms/step - loss: 0.0030 - val_loss: 0.0024\n",
      "Epoch 3/50\n",
      "411/411 [==============================] - 5s 12ms/step - loss: 0.0021 - val_loss: 0.0020\n",
      "Epoch 4/50\n",
      "411/411 [==============================] - 5s 12ms/step - loss: 0.0015 - val_loss: 0.0014\n",
      "Epoch 5/50\n",
      "411/411 [==============================] - 5s 12ms/step - loss: 0.0011 - val_loss: 0.0012\n",
      "Epoch 6/50\n",
      "411/411 [==============================] - 5s 12ms/step - loss: 0.0011 - val_loss: 0.0012\n",
      "Epoch 7/50\n",
      "411/411 [==============================] - 5s 11ms/step - loss: 9.6587e-04 - val_loss: 0.0010\n",
      "Epoch 8/50\n",
      "411/411 [==============================] - 5s 12ms/step - loss: 8.1670e-04 - val_loss: 9.2612e-04\n",
      "Epoch 9/50\n",
      "411/411 [==============================] - 5s 12ms/step - loss: 7.1341e-04 - val_loss: 6.4596e-04\n",
      "Epoch 10/50\n",
      "411/411 [==============================] - 5s 11ms/step - loss: 6.2534e-04 - val_loss: 6.0007e-04\n",
      "Epoch 11/50\n",
      "411/411 [==============================] - 5s 12ms/step - loss: 5.8470e-04 - val_loss: 6.2807e-04\n",
      "Epoch 12/50\n",
      "411/411 [==============================] - 5s 12ms/step - loss: 5.4971e-04 - val_loss: 5.2988e-04\n",
      "Epoch 13/50\n",
      "411/411 [==============================] - 5s 12ms/step - loss: 5.4146e-04 - val_loss: 4.6187e-04\n",
      "Epoch 14/50\n",
      "411/411 [==============================] - 5s 12ms/step - loss: 4.8106e-04 - val_loss: 4.7141e-04\n",
      "Epoch 15/50\n",
      "411/411 [==============================] - 5s 12ms/step - loss: 4.2756e-04 - val_loss: 5.8927e-04\n",
      "Epoch 16/50\n",
      "411/411 [==============================] - 5s 12ms/step - loss: 3.9613e-04 - val_loss: 3.5270e-04\n",
      "Epoch 17/50\n",
      "411/411 [==============================] - 5s 12ms/step - loss: 3.6165e-04 - val_loss: 3.5557e-04\n",
      "Epoch 18/50\n",
      "411/411 [==============================] - 5s 12ms/step - loss: 3.5766e-04 - val_loss: 3.5726e-04\n",
      "Epoch 19/50\n",
      "411/411 [==============================] - 5s 12ms/step - loss: 3.5650e-04 - val_loss: 3.7469e-04\n",
      "Epoch 20/50\n",
      "411/411 [==============================] - 5s 12ms/step - loss: 3.4027e-04 - val_loss: 3.1431e-04\n",
      "Epoch 21/50\n",
      "411/411 [==============================] - 5s 11ms/step - loss: 2.9154e-04 - val_loss: 2.8970e-04\n",
      "Epoch 22/50\n",
      "411/411 [==============================] - 5s 12ms/step - loss: 2.8271e-04 - val_loss: 2.9966e-04\n",
      "Epoch 23/50\n",
      "411/411 [==============================] - 5s 12ms/step - loss: 2.8868e-04 - val_loss: 2.7032e-04\n",
      "Epoch 24/50\n",
      "411/411 [==============================] - 5s 12ms/step - loss: 2.4520e-04 - val_loss: 2.7056e-04\n",
      "Epoch 25/50\n",
      "411/411 [==============================] - 5s 12ms/step - loss: 2.5869e-04 - val_loss: 3.1238e-04\n",
      "Epoch 26/50\n",
      "411/411 [==============================] - 5s 12ms/step - loss: 2.4046e-04 - val_loss: 2.3682e-04\n",
      "Epoch 27/50\n",
      "411/411 [==============================] - 5s 12ms/step - loss: 2.2466e-04 - val_loss: 2.4533e-04\n",
      "Epoch 28/50\n",
      "411/411 [==============================] - 5s 12ms/step - loss: 2.4049e-04 - val_loss: 2.0451e-04\n",
      "Epoch 29/50\n",
      "411/411 [==============================] - 5s 12ms/step - loss: 1.9643e-04 - val_loss: 3.2711e-04\n",
      "Epoch 30/50\n",
      "411/411 [==============================] - 5s 12ms/step - loss: 2.2519e-04 - val_loss: 2.1226e-04\n",
      "Epoch 31/50\n",
      "411/411 [==============================] - 5s 11ms/step - loss: 1.8257e-04 - val_loss: 1.8779e-04\n",
      "Epoch 32/50\n",
      "411/411 [==============================] - 5s 12ms/step - loss: 2.0158e-04 - val_loss: 2.0003e-04\n",
      "Epoch 33/50\n",
      "411/411 [==============================] - 5s 11ms/step - loss: 1.8599e-04 - val_loss: 1.9511e-04\n",
      "Epoch 34/50\n",
      "411/411 [==============================] - 5s 12ms/step - loss: 1.9486e-04 - val_loss: 1.7314e-04\n",
      "Epoch 35/50\n",
      "411/411 [==============================] - 5s 12ms/step - loss: 1.6892e-04 - val_loss: 1.6379e-04\n",
      "Epoch 36/50\n",
      "411/411 [==============================] - 5s 12ms/step - loss: 1.6600e-04 - val_loss: 1.9204e-04\n",
      "Epoch 37/50\n",
      "411/411 [==============================] - 5s 11ms/step - loss: 1.5378e-04 - val_loss: 1.6566e-04\n",
      "Epoch 38/50\n",
      "411/411 [==============================] - 5s 12ms/step - loss: 1.8686e-04 - val_loss: 1.6932e-04\n",
      "Epoch 39/50\n",
      "411/411 [==============================] - 5s 11ms/step - loss: 1.3762e-04 - val_loss: 1.6814e-04\n",
      "Epoch 40/50\n",
      "411/411 [==============================] - 5s 11ms/step - loss: 1.5440e-04 - val_loss: 1.6435e-04\n",
      "Epoch 41/50\n",
      "411/411 [==============================] - 5s 12ms/step - loss: 1.4099e-04 - val_loss: 2.2301e-04\n",
      "Epoch 42/50\n",
      "411/411 [==============================] - 5s 12ms/step - loss: 1.4292e-04 - val_loss: 1.3460e-04\n",
      "Epoch 43/50\n",
      "411/411 [==============================] - 5s 12ms/step - loss: 1.3400e-04 - val_loss: 1.4088e-04\n",
      "Epoch 44/50\n",
      "411/411 [==============================] - 5s 12ms/step - loss: 1.3584e-04 - val_loss: 1.9194e-04\n",
      "Epoch 45/50\n",
      "411/411 [==============================] - 5s 12ms/step - loss: 1.3007e-04 - val_loss: 1.4200e-04\n",
      "Epoch 46/50\n",
      "411/411 [==============================] - 5s 11ms/step - loss: 1.5022e-04 - val_loss: 1.2404e-04\n",
      "Epoch 47/50\n",
      "411/411 [==============================] - 5s 12ms/step - loss: 1.1077e-04 - val_loss: 1.4435e-04\n",
      "Epoch 48/50\n",
      "411/411 [==============================] - 5s 12ms/step - loss: 1.3675e-04 - val_loss: 1.3040e-04\n",
      "Epoch 49/50\n",
      "411/411 [==============================] - 5s 12ms/step - loss: 1.1734e-04 - val_loss: 1.2885e-04\n",
      "Epoch 50/50\n",
      "411/411 [==============================] - 5s 12ms/step - loss: 1.0364e-04 - val_loss: 9.9134e-05\n"
     ]
    }
   ],
   "source": [
    "history = model.fit(train, train, epochs=50, batch_size=64, validation_data=(val, val))"
   ]
  },
  {
   "cell_type": "code",
   "execution_count": 8,
   "metadata": {},
   "outputs": [
    {
     "name": "stdout",
     "output_type": "stream",
     "text": [
      "INFO:tensorflow:Assets written to: ./models/new_GRUAE/new_GRUAE/assets\n"
     ]
    },
    {
     "name": "stderr",
     "output_type": "stream",
     "text": [
      "INFO:tensorflow:Assets written to: ./models/new_GRUAE/new_GRUAE/assets\n"
     ]
    }
   ],
   "source": [
    "model.save('./models/new_GRUAE/new_GRUAE')\n",
    "\n",
    "with open('./models/new_GRUAE/new_GRUAE_hist.pkl', 'wb') as f:\n",
    "    pickle.dump(history.history, f)"
   ]
  }
 ],
 "metadata": {
  "kernelspec": {
   "display_name": "Python 3",
   "language": "python",
   "name": "python3"
  },
  "language_info": {
   "codemirror_mode": {
    "name": "ipython",
    "version": 3
   },
   "file_extension": ".py",
   "mimetype": "text/x-python",
   "name": "python",
   "nbconvert_exporter": "python",
   "pygments_lexer": "ipython3",
   "version": "3.11.0"
  }
 },
 "nbformat": 4,
 "nbformat_minor": 2
}
