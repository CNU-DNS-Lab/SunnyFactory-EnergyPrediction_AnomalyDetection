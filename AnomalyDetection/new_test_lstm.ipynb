{
 "cells": [
  {
   "cell_type": "code",
   "execution_count": 1,
   "metadata": {},
   "outputs": [
    {
     "name": "stderr",
     "output_type": "stream",
     "text": [
      "2024-01-23 04:49:09.880323: E tensorflow/compiler/xla/stream_executor/cuda/cuda_dnn.cc:9342] Unable to register cuDNN factory: Attempting to register factory for plugin cuDNN when one has already been registered\n",
      "2024-01-23 04:49:09.880375: E tensorflow/compiler/xla/stream_executor/cuda/cuda_fft.cc:609] Unable to register cuFFT factory: Attempting to register factory for plugin cuFFT when one has already been registered\n",
      "2024-01-23 04:49:09.880398: E tensorflow/compiler/xla/stream_executor/cuda/cuda_blas.cc:1518] Unable to register cuBLAS factory: Attempting to register factory for plugin cuBLAS when one has already been registered\n",
      "2024-01-23 04:49:09.885451: I tensorflow/core/platform/cpu_feature_guard.cc:182] This TensorFlow binary is optimized to use available CPU instructions in performance-critical operations.\n",
      "To enable the following instructions: AVX2 FMA, in other operations, rebuild TensorFlow with the appropriate compiler flags.\n"
     ]
    }
   ],
   "source": [
    "import pickle\n",
    "import numpy as np\n",
    "import pandas as pd\n",
    "import matplotlib.pyplot as plt\n",
    "\n",
    "import tensorflow as tf\n",
    "from tensorflow.keras import models, layers, optimizers\n",
    "from utils import create_sequences"
   ]
  },
  {
   "cell_type": "code",
   "execution_count": 2,
   "metadata": {},
   "outputs": [],
   "source": [
    "df = pd.read_csv('./dataset/anomaly_dataset.csv').set_index('timestamp')\n",
    "max_val = np.max(df.values)\n",
    "\n",
    "seq_data = create_sequences(df, seq_len=24)\n",
    "seq_data /= max_val"
   ]
  },
  {
   "cell_type": "code",
   "execution_count": 3,
   "metadata": {},
   "outputs": [
    {
     "name": "stdout",
     "output_type": "stream",
     "text": [
      "train data: 26280\n",
      "validation data: 8760\n",
      "test data: 3601\n"
     ]
    }
   ],
   "source": [
    "train = seq_data[:(365 * 24 * 3)]\n",
    "val = seq_data[(365 * 24 * 3):(365 * 24 * 4)]\n",
    "test = seq_data[(365 * 24 * 4):]\n",
    "\n",
    "print(f'train data: {len(train)}')\n",
    "print(f'validation data: {len(val)}')\n",
    "print(f'test data: {len(test)}')"
   ]
  },
  {
   "cell_type": "code",
   "execution_count": 4,
   "metadata": {},
   "outputs": [],
   "source": [
    "class Encoder(models.Model):\n",
    "\n",
    "    def __init__(self, seq_length, latent_dim):\n",
    "        super(Encoder, self).__init__()\n",
    "\n",
    "        self.h1 = layers.LSTM(128, return_sequences=True)  # (seq_len, input_dim) -> (seq_len, 128))\n",
    "        self.h2 = layers.LSTM(latent_dim, return_sequences=False) # (seq_len , 128) -> (latent_dim)\n",
    "        self.h3 = layers.RepeatVector(seq_length) # (latent_dim) -> (seq_length, latent_dim)\n",
    "\n",
    "    def call(self, x):\n",
    "        x = self.h1(x)\n",
    "        z = self.h2(x)\n",
    "        z_rep = self.h3(z)\n",
    "\n",
    "        return z, z_rep\n",
    "\n",
    "\n",
    "class Decoder(models.Model):\n",
    "\n",
    "    def __init__(self, input_dim, latent_dim):\n",
    "        super(Decoder, self).__init__()\n",
    "\n",
    "        self.h1 = layers.LSTM(latent_dim, return_sequences=True) # (seq_length, latent_dim) -> (seq_len, input_dim)\n",
    "        self.h2 = layers.LSTM(128, return_sequences=True) # (seq_len, input_dim) -> (seq_length, 128)\n",
    "        self.h3 = layers.TimeDistributed(layers.Dense(input_dim)) # (seq_length, 128) -> (seq_length, input_dim)\n",
    "\n",
    "    def call(self, x):\n",
    "        x = self.h1(x)\n",
    "        x = self.h2(x)\n",
    "        x = self.h3(x)\n",
    "\n",
    "        return x\n",
    "\n",
    "\n",
    "\n",
    "class LstmAE(models.Model):\n",
    "\n",
    "    def __init__(self, seq_length, input_dim, latent_dim):\n",
    "        super(LstmAE, self).__init__()\n",
    "\n",
    "        self.encoder = Encoder(seq_length, latent_dim)\n",
    "        self.decoder = Decoder(input_dim, latent_dim)\n",
    "\n",
    "    def call(self, x):\n",
    "        z, z_rep = self.encoder(x)\n",
    "        decoded = self.decoder(z_rep)\n",
    "\n",
    "        return decoded"
   ]
  },
  {
   "cell_type": "code",
   "execution_count": 5,
   "metadata": {},
   "outputs": [
    {
     "name": "stderr",
     "output_type": "stream",
     "text": [
      "2024-01-23 04:49:12.566032: I tensorflow/compiler/xla/stream_executor/cuda/cuda_gpu_executor.cc:880] could not open file to read NUMA node: /sys/bus/pci/devices/0000:01:00.0/numa_node\n",
      "Your kernel may have been built without NUMA support.\n",
      "2024-01-23 04:49:12.591659: I tensorflow/compiler/xla/stream_executor/cuda/cuda_gpu_executor.cc:880] could not open file to read NUMA node: /sys/bus/pci/devices/0000:01:00.0/numa_node\n",
      "Your kernel may have been built without NUMA support.\n",
      "2024-01-23 04:49:12.591695: I tensorflow/compiler/xla/stream_executor/cuda/cuda_gpu_executor.cc:880] could not open file to read NUMA node: /sys/bus/pci/devices/0000:01:00.0/numa_node\n",
      "Your kernel may have been built without NUMA support.\n",
      "2024-01-23 04:49:12.594955: I tensorflow/compiler/xla/stream_executor/cuda/cuda_gpu_executor.cc:880] could not open file to read NUMA node: /sys/bus/pci/devices/0000:01:00.0/numa_node\n",
      "Your kernel may have been built without NUMA support.\n",
      "2024-01-23 04:49:12.594993: I tensorflow/compiler/xla/stream_executor/cuda/cuda_gpu_executor.cc:880] could not open file to read NUMA node: /sys/bus/pci/devices/0000:01:00.0/numa_node\n",
      "Your kernel may have been built without NUMA support.\n",
      "2024-01-23 04:49:12.595013: I tensorflow/compiler/xla/stream_executor/cuda/cuda_gpu_executor.cc:880] could not open file to read NUMA node: /sys/bus/pci/devices/0000:01:00.0/numa_node\n",
      "Your kernel may have been built without NUMA support.\n",
      "2024-01-23 04:49:12.692154: I tensorflow/compiler/xla/stream_executor/cuda/cuda_gpu_executor.cc:880] could not open file to read NUMA node: /sys/bus/pci/devices/0000:01:00.0/numa_node\n",
      "Your kernel may have been built without NUMA support.\n",
      "2024-01-23 04:49:12.692216: I tensorflow/compiler/xla/stream_executor/cuda/cuda_gpu_executor.cc:880] could not open file to read NUMA node: /sys/bus/pci/devices/0000:01:00.0/numa_node\n",
      "Your kernel may have been built without NUMA support.\n",
      "2024-01-23 04:49:12.692226: I tensorflow/core/common_runtime/gpu/gpu_device.cc:1977] Could not identify NUMA node of platform GPU id 0, defaulting to 0.  Your kernel may not have been built with NUMA support.\n",
      "2024-01-23 04:49:12.692258: I tensorflow/compiler/xla/stream_executor/cuda/cuda_gpu_executor.cc:880] could not open file to read NUMA node: /sys/bus/pci/devices/0000:01:00.0/numa_node\n",
      "Your kernel may have been built without NUMA support.\n",
      "2024-01-23 04:49:12.692276: I tensorflow/core/common_runtime/gpu/gpu_device.cc:1886] Created device /job:localhost/replica:0/task:0/device:GPU:0 with 5578 MB memory:  -> device: 0, name: NVIDIA GeForce RTX 3070, pci bus id: 0000:01:00.0, compute capability: 8.6\n"
     ]
    },
    {
     "name": "stdout",
     "output_type": "stream",
     "text": [
      "Model: \"lstm_ae\"\n",
      "_________________________________________________________________\n",
      " Layer (type)                Output Shape              Param #   \n",
      "=================================================================\n",
      " encoder (Encoder)           multiple                  115968    \n",
      "                                                                 \n",
      " decoder (Decoder)           multiple                  131969    \n",
      "                                                                 \n",
      "=================================================================\n",
      "Total params: 247937 (968.50 KB)\n",
      "Trainable params: 247937 (968.50 KB)\n",
      "Non-trainable params: 0 (0.00 Byte)\n",
      "_________________________________________________________________\n"
     ]
    }
   ],
   "source": [
    "model = LstmAE(24, 1, 64)\n",
    "model.build(input_shape=(None, train.shape[1], train.shape[2]))\n",
    "model.summary()"
   ]
  },
  {
   "cell_type": "code",
   "execution_count": 6,
   "metadata": {},
   "outputs": [],
   "source": [
    "optim = optimizers.Adam(learning_rate=.001)\n",
    "model.compile(optimizer=optim, loss='mse')"
   ]
  },
  {
   "cell_type": "code",
   "execution_count": 7,
   "metadata": {},
   "outputs": [
    {
     "name": "stdout",
     "output_type": "stream",
     "text": [
      "Epoch 1/50\n"
     ]
    },
    {
     "name": "stderr",
     "output_type": "stream",
     "text": [
      "2024-01-23 04:49:21.508684: I tensorflow/compiler/xla/stream_executor/cuda/cuda_dnn.cc:442] Loaded cuDNN version 8600\n",
      "2024-01-23 04:49:21.873503: I tensorflow/compiler/xla/service/service.cc:168] XLA service 0x7f9d040d9ec0 initialized for platform CUDA (this does not guarantee that XLA will be used). Devices:\n",
      "2024-01-23 04:49:21.873537: I tensorflow/compiler/xla/service/service.cc:176]   StreamExecutor device (0): NVIDIA GeForce RTX 3070, Compute Capability 8.6\n",
      "2024-01-23 04:49:21.877445: I tensorflow/compiler/mlir/tensorflow/utils/dump_mlir_util.cc:269] disabling MLIR crash reproducer, set env var `MLIR_CRASH_REPRODUCER_DIRECTORY` to enable.\n",
      "2024-01-23 04:49:21.948815: I ./tensorflow/compiler/jit/device_compiler.h:186] Compiled cluster using XLA!  This line is logged at most once for the lifetime of the process.\n"
     ]
    },
    {
     "name": "stdout",
     "output_type": "stream",
     "text": [
      "411/411 [==============================] - 12s 17ms/step - loss: 0.0090 - val_loss: 0.0035\n",
      "Epoch 2/50\n",
      "411/411 [==============================] - 6s 13ms/step - loss: 0.0029 - val_loss: 0.0025\n",
      "Epoch 3/50\n",
      "411/411 [==============================] - 6s 13ms/step - loss: 0.0022 - val_loss: 0.0020\n",
      "Epoch 4/50\n",
      "411/411 [==============================] - 6s 13ms/step - loss: 0.0018 - val_loss: 0.0016\n",
      "Epoch 5/50\n",
      "411/411 [==============================] - 6s 14ms/step - loss: 0.0014 - val_loss: 0.0014\n",
      "Epoch 6/50\n",
      "411/411 [==============================] - 5s 13ms/step - loss: 0.0011 - val_loss: 0.0013\n",
      "Epoch 7/50\n",
      "411/411 [==============================] - 6s 13ms/step - loss: 0.0010 - val_loss: 9.8396e-04\n",
      "Epoch 8/50\n",
      "411/411 [==============================] - 5s 13ms/step - loss: 9.2246e-04 - val_loss: 9.1282e-04\n",
      "Epoch 9/50\n",
      "411/411 [==============================] - 5s 13ms/step - loss: 8.0004e-04 - val_loss: 7.4836e-04\n",
      "Epoch 10/50\n",
      "411/411 [==============================] - 6s 13ms/step - loss: 7.1107e-04 - val_loss: 6.5903e-04\n",
      "Epoch 11/50\n",
      "411/411 [==============================] - 5s 13ms/step - loss: 6.3612e-04 - val_loss: 5.8785e-04\n",
      "Epoch 12/50\n",
      "411/411 [==============================] - 5s 13ms/step - loss: 5.7834e-04 - val_loss: 6.1152e-04\n",
      "Epoch 13/50\n",
      "411/411 [==============================] - 5s 13ms/step - loss: 5.1216e-04 - val_loss: 5.7089e-04\n",
      "Epoch 14/50\n",
      "411/411 [==============================] - 5s 13ms/step - loss: 4.9578e-04 - val_loss: 4.3325e-04\n",
      "Epoch 15/50\n",
      "411/411 [==============================] - 5s 13ms/step - loss: 4.3003e-04 - val_loss: 4.2216e-04\n",
      "Epoch 16/50\n",
      "411/411 [==============================] - 5s 13ms/step - loss: 3.9707e-04 - val_loss: 4.0038e-04\n",
      "Epoch 17/50\n",
      "411/411 [==============================] - 6s 14ms/step - loss: 4.0448e-04 - val_loss: 3.8620e-04\n",
      "Epoch 18/50\n",
      "411/411 [==============================] - 6s 14ms/step - loss: 3.7971e-04 - val_loss: 3.6980e-04\n",
      "Epoch 19/50\n",
      "411/411 [==============================] - 6s 14ms/step - loss: 3.3460e-04 - val_loss: 3.9946e-04\n",
      "Epoch 20/50\n",
      "411/411 [==============================] - 6s 13ms/step - loss: 3.1219e-04 - val_loss: 3.2589e-04\n",
      "Epoch 21/50\n",
      "411/411 [==============================] - 6s 13ms/step - loss: 3.1426e-04 - val_loss: 2.7873e-04\n",
      "Epoch 22/50\n",
      "411/411 [==============================] - 6s 13ms/step - loss: 3.1389e-04 - val_loss: 3.5152e-04\n",
      "Epoch 23/50\n",
      "411/411 [==============================] - 6s 14ms/step - loss: 2.8471e-04 - val_loss: 2.8632e-04\n",
      "Epoch 24/50\n",
      "411/411 [==============================] - 6s 13ms/step - loss: 2.5630e-04 - val_loss: 3.4277e-04\n",
      "Epoch 25/50\n",
      "411/411 [==============================] - 6s 14ms/step - loss: 2.6443e-04 - val_loss: 2.4970e-04\n",
      "Epoch 26/50\n",
      "411/411 [==============================] - 6s 14ms/step - loss: 2.4935e-04 - val_loss: 2.3892e-04\n",
      "Epoch 27/50\n",
      "411/411 [==============================] - 6s 14ms/step - loss: 2.3009e-04 - val_loss: 2.2872e-04\n",
      "Epoch 28/50\n",
      "411/411 [==============================] - 5s 13ms/step - loss: 2.3487e-04 - val_loss: 2.8685e-04\n",
      "Epoch 29/50\n",
      "411/411 [==============================] - 5s 13ms/step - loss: 2.3003e-04 - val_loss: 2.1057e-04\n",
      "Epoch 30/50\n",
      "411/411 [==============================] - 6s 14ms/step - loss: 2.0964e-04 - val_loss: 1.9740e-04\n",
      "Epoch 31/50\n",
      "411/411 [==============================] - 5s 13ms/step - loss: 2.1355e-04 - val_loss: 1.9705e-04\n",
      "Epoch 32/50\n",
      "411/411 [==============================] - 5s 13ms/step - loss: 2.1346e-04 - val_loss: 2.0192e-04\n",
      "Epoch 33/50\n",
      "411/411 [==============================] - 6s 13ms/step - loss: 1.8149e-04 - val_loss: 1.8254e-04\n",
      "Epoch 34/50\n",
      "411/411 [==============================] - 5s 13ms/step - loss: 1.8081e-04 - val_loss: 1.7556e-04\n",
      "Epoch 35/50\n",
      "411/411 [==============================] - 5s 13ms/step - loss: 1.8636e-04 - val_loss: 2.0600e-04\n",
      "Epoch 36/50\n",
      "411/411 [==============================] - 6s 14ms/step - loss: 1.6809e-04 - val_loss: 1.7704e-04\n",
      "Epoch 37/50\n",
      "411/411 [==============================] - 6s 13ms/step - loss: 1.6381e-04 - val_loss: 1.4701e-04\n",
      "Epoch 38/50\n",
      "411/411 [==============================] - 6s 14ms/step - loss: 1.5817e-04 - val_loss: 2.0784e-04\n",
      "Epoch 39/50\n",
      "411/411 [==============================] - 5s 13ms/step - loss: 1.6628e-04 - val_loss: 1.6756e-04\n",
      "Epoch 40/50\n",
      "411/411 [==============================] - 5s 13ms/step - loss: 1.5726e-04 - val_loss: 1.5759e-04\n",
      "Epoch 41/50\n",
      "411/411 [==============================] - 5s 13ms/step - loss: 1.5049e-04 - val_loss: 1.6733e-04\n",
      "Epoch 42/50\n",
      "411/411 [==============================] - 5s 13ms/step - loss: 1.2998e-04 - val_loss: 1.9553e-04\n",
      "Epoch 43/50\n",
      "411/411 [==============================] - 5s 13ms/step - loss: 1.4784e-04 - val_loss: 1.9057e-04\n",
      "Epoch 44/50\n",
      "411/411 [==============================] - 5s 13ms/step - loss: 1.3686e-04 - val_loss: 1.5648e-04\n",
      "Epoch 45/50\n",
      "411/411 [==============================] - 6s 14ms/step - loss: 1.3237e-04 - val_loss: 1.2145e-04\n",
      "Epoch 46/50\n",
      "411/411 [==============================] - 5s 13ms/step - loss: 1.1660e-04 - val_loss: 1.2730e-04\n",
      "Epoch 47/50\n",
      "411/411 [==============================] - 5s 13ms/step - loss: 1.3940e-04 - val_loss: 1.0968e-04\n",
      "Epoch 48/50\n",
      "411/411 [==============================] - 5s 13ms/step - loss: 1.0586e-04 - val_loss: 1.0836e-04\n",
      "Epoch 49/50\n",
      "411/411 [==============================] - 5s 13ms/step - loss: 1.2192e-04 - val_loss: 1.3876e-04\n",
      "Epoch 50/50\n",
      "411/411 [==============================] - 5s 13ms/step - loss: 1.3734e-04 - val_loss: 9.7849e-05\n"
     ]
    }
   ],
   "source": [
    "history = model.fit(train, train, epochs=50, batch_size=64, validation_data=(val, val))"
   ]
  },
  {
   "cell_type": "code",
   "execution_count": 8,
   "metadata": {},
   "outputs": [
    {
     "name": "stdout",
     "output_type": "stream",
     "text": [
      "INFO:tensorflow:Assets written to: ./models/new_LSTMAE/new_LSTMAE/assets\n"
     ]
    },
    {
     "name": "stderr",
     "output_type": "stream",
     "text": [
      "INFO:tensorflow:Assets written to: ./models/new_LSTMAE/new_LSTMAE/assets\n"
     ]
    }
   ],
   "source": [
    "model.save('./models/new_LSTMAE/new_LSTMAE')\n",
    "\n",
    "with open('./models/new_LSTMAE/new_LSTMAE_hist.pkl', 'wb') as f:\n",
    "    pickle.dump(history.history, f)"
   ]
  }
 ],
 "metadata": {
  "kernelspec": {
   "display_name": "Python 3",
   "language": "python",
   "name": "python3"
  },
  "language_info": {
   "codemirror_mode": {
    "name": "ipython",
    "version": 3
   },
   "file_extension": ".py",
   "mimetype": "text/x-python",
   "name": "python",
   "nbconvert_exporter": "python",
   "pygments_lexer": "ipython3",
   "version": "3.11.0"
  }
 },
 "nbformat": 4,
 "nbformat_minor": 2
}
